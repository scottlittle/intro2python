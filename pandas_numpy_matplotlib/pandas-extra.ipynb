{
 "cells": [
  {
   "cell_type": "markdown",
   "metadata": {},
   "source": [
    "#Pandas\n",
    "\n",
    "##What is Pandas?\n",
    "A Python library providing data structures and data analysis tools.\n",
    "\n",
    "##Huh?\n",
    "Think of it like Excel for Python that doesn't suck."
   ]
  },
  {
   "cell_type": "code",
   "execution_count": 1,
   "metadata": {
    "collapsed": true
   },
   "outputs": [],
   "source": [
    "#By convention import pandas like:\n",
    "import pandas as pd\n",
    "#For fake data.\n",
    "from numpy.random import randn\n",
    "import numpy as np"
   ]
  },
  {
   "cell_type": "markdown",
   "metadata": {},
   "source": [
    "#Series\n",
    "Think of a Pandas Series as a _labeled_ one-dimensional vector. In fact, it need not be a numeric vector, it can contain arbitrary python objects."
   ]
  },
  {
   "cell_type": "code",
   "execution_count": 2,
   "metadata": {
    "collapsed": false
   },
   "outputs": [
    {
     "data": {
      "text/plain": [
       "0    0\n",
       "1    1\n",
       "2    2\n",
       "3    3\n",
       "4    4\n",
       "dtype: int64"
      ]
     },
     "execution_count": 2,
     "metadata": {},
     "output_type": "execute_result"
    }
   ],
   "source": [
    "int_series = pd.Series(range(10))\n",
    "int_series.head()"
   ]
  },
  {
   "cell_type": "code",
   "execution_count": 3,
   "metadata": {
    "collapsed": false
   },
   "outputs": [
    {
     "data": {
      "text/plain": [
       "0    0.466595\n",
       "1    1.458759\n",
       "2    0.560270\n",
       "3    0.335996\n",
       "4    0.439390\n",
       "dtype: float64"
      ]
     },
     "execution_count": 3,
     "metadata": {},
     "output_type": "execute_result"
    }
   ],
   "source": [
    "num_series = pd.Series(randn(10))\n",
    "num_series.head()"
   ]
  },
  {
   "cell_type": "code",
   "execution_count": 4,
   "metadata": {
    "collapsed": false
   },
   "outputs": [
    {
     "data": {
      "text/plain": [
       "0    a\n",
       "1    b\n",
       "2    c\n",
       "3    d\n",
       "4    e\n",
       "dtype: object"
      ]
     },
     "execution_count": 4,
     "metadata": {},
     "output_type": "execute_result"
    }
   ],
   "source": [
    "str_series = pd.Series([x for x in 'abcde'*2])\n",
    "str_series.head()"
   ]
  },
  {
   "cell_type": "code",
   "execution_count": 5,
   "metadata": {
    "collapsed": false
   },
   "outputs": [
    {
     "data": {
      "text/plain": [
       "0    <function <lambda> at 0x106c8f2a8>\n",
       "1    <function <lambda> at 0x106c8f1b8>\n",
       "2    <function <lambda> at 0x106c8f0c8>\n",
       "3    <function <lambda> at 0x106c8f320>\n",
       "4    <function <lambda> at 0x106c8f398>\n",
       "dtype: object"
      ]
     },
     "execution_count": 5,
     "metadata": {},
     "output_type": "execute_result"
    }
   ],
   "source": [
    "fun_series = pd.Series([lambda x: x*i for i in range(10)])\n",
    "fun_series.head()"
   ]
  },
  {
   "cell_type": "markdown",
   "metadata": {},
   "source": [
    "#Indexes.\n",
    "Notice how each series has an index (in this case a relatively meaningless default index).\n",
    "\n",
    "Pandas can make great use of informative indexes. Indexes work similarly to a dictionary key, allowing fast lookups of the data associated with the index.\n",
    "\n",
    "Indexes can also be exploited for fast group-bys, merges, time-series operations and lots more.\n",
    "\n",
    "When you're really in the zone with pandas, you'll be thinking a lot about indexes."
   ]
  },
  {
   "cell_type": "code",
   "execution_count": 6,
   "metadata": {
    "collapsed": false
   },
   "outputs": [
    {
     "name": "stdout",
     "output_type": "stream",
     "text": [
      "California   -0.157008\n",
      "Alabama       0.271401\n",
      "Indiana      -0.975450\n",
      "Montana       0.649645\n",
      "Kentucky     -0.075163\n",
      "dtype: float64\n",
      "\n",
      "\n",
      "Washington   -0.828734\n",
      "Alabama      -0.020662\n",
      "Montana       0.337287\n",
      "Indiana       0.684325\n",
      "New York      1.044453\n",
      "dtype: float64\n"
     ]
    }
   ],
   "source": [
    "indexed_series = pd.Series(randn(5), \n",
    "                           index = ['California', 'Alabama', \n",
    "                                    'Indiana', 'Montana', \n",
    "                                    'Kentucky'])\n",
    "alt_indexed_series = pd.Series(randn(5),\n",
    "                               index = ['Washington', 'Alabama', \n",
    "                                        'Montana', 'Indiana', \n",
    "                                        'New York'])\n",
    "print indexed_series\n",
    "print '\\n'\n",
    "print alt_indexed_series"
   ]
  },
  {
   "cell_type": "code",
   "execution_count": 7,
   "metadata": {
    "collapsed": false
   },
   "outputs": [
    {
     "data": {
      "text/plain": [
       "Alabama       0.250738\n",
       "California         NaN\n",
       "Indiana      -0.291125\n",
       "Kentucky           NaN\n",
       "Montana       0.986932\n",
       "New York           NaN\n",
       "Washington         NaN\n",
       "dtype: float64"
      ]
     },
     "execution_count": 7,
     "metadata": {},
     "output_type": "execute_result"
    }
   ],
   "source": [
    "#Pandas uses the index by default to align series for arithmetic!\n",
    "indexed_series + alt_indexed_series"
   ]
  },
  {
   "cell_type": "code",
   "execution_count": 8,
   "metadata": {
    "collapsed": false
   },
   "outputs": [
    {
     "data": {
      "text/plain": [
       "Alabama      -0.203180\n",
       "California    0.545907\n",
       "Indiana      -0.493221\n",
       "Kentucky      0.061571\n",
       "Montana      -0.169250\n",
       "dtype: float64"
      ]
     },
     "execution_count": 8,
     "metadata": {},
     "output_type": "execute_result"
    }
   ],
   "source": [
    "indexed_series = pd.Series(randn(5*10), \n",
    "                           index = ['California', 'Alabama', \n",
    "                                    'Indiana', 'Montana', \n",
    "                                    'Kentucky']*10)\n",
    "#If you have non-unique indexes, you can use them \n",
    "#to do groupby operations.\n",
    "indexed_series.groupby(level=0).mean()"
   ]
  },
  {
   "cell_type": "code",
   "execution_count": 9,
   "metadata": {
    "collapsed": false
   },
   "outputs": [
    {
     "data": {
      "text/plain": [
       "2015-01-31   -1.095279\n",
       "2015-02-28   -1.705899\n",
       "2015-03-31   -0.510460\n",
       "2015-04-30   -0.283797\n",
       "2015-05-31   -0.679914\n",
       "2015-06-30   -0.842282\n",
       "2015-07-31   -0.081378\n",
       "2015-08-31    1.020374\n",
       "2015-09-30    0.440991\n",
       "2015-10-31    1.001638\n",
       "Freq: M, dtype: float64"
      ]
     },
     "execution_count": 9,
     "metadata": {},
     "output_type": "execute_result"
    }
   ],
   "source": [
    "#Datetime index\n",
    "dt_index = pd.date_range('2015-1-1', \n",
    "                        '2015-11-1', \n",
    "                        freq='m')\n",
    "dt_series = pd.Series(randn(10), \n",
    "                      index = dt_index)\n",
    "dt_series"
   ]
  },
  {
   "cell_type": "code",
   "execution_count": 10,
   "metadata": {
    "collapsed": false
   },
   "outputs": [
    {
     "data": {
      "text/plain": [
       "2015-03-31   -1.103879\n",
       "2015-06-30   -0.601997\n",
       "2015-09-30    0.459996\n",
       "2015-12-31    1.001638\n",
       "Freq: Q-DEC, dtype: float64"
      ]
     },
     "execution_count": 10,
     "metadata": {},
     "output_type": "execute_result"
    }
   ],
   "source": [
    "#Datetime indexes make it easy to transform freqs etc!\n",
    "dt_series.resample('q')"
   ]
  },
  {
   "cell_type": "markdown",
   "metadata": {},
   "source": [
    "#DataFrames\n",
    "Data frames extend the concept of Series to table-like data."
   ]
  },
  {
   "cell_type": "code",
   "execution_count": 11,
   "metadata": {
    "collapsed": false
   },
   "outputs": [
    {
     "data": {
      "text/html": [
       "<div>\n",
       "<table border=\"1\" class=\"dataframe\">\n",
       "  <thead>\n",
       "    <tr style=\"text-align: right;\">\n",
       "      <th></th>\n",
       "      <th>a</th>\n",
       "      <th>b</th>\n",
       "      <th>c</th>\n",
       "      <th>d</th>\n",
       "      <th>e</th>\n",
       "    </tr>\n",
       "  </thead>\n",
       "  <tbody>\n",
       "    <tr>\n",
       "      <th>2015-01-31</th>\n",
       "      <td>-1.143348</td>\n",
       "      <td>2.062954</td>\n",
       "      <td>-0.505914</td>\n",
       "      <td>-0.542069</td>\n",
       "      <td>-1.584379</td>\n",
       "    </tr>\n",
       "    <tr>\n",
       "      <th>2015-02-28</th>\n",
       "      <td>0.658830</td>\n",
       "      <td>-0.485753</td>\n",
       "      <td>1.442875</td>\n",
       "      <td>0.546691</td>\n",
       "      <td>1.296615</td>\n",
       "    </tr>\n",
       "    <tr>\n",
       "      <th>2015-03-31</th>\n",
       "      <td>0.652732</td>\n",
       "      <td>1.340474</td>\n",
       "      <td>-0.894651</td>\n",
       "      <td>-0.541520</td>\n",
       "      <td>0.547490</td>\n",
       "    </tr>\n",
       "    <tr>\n",
       "      <th>2015-04-30</th>\n",
       "      <td>-0.735129</td>\n",
       "      <td>2.113196</td>\n",
       "      <td>1.309023</td>\n",
       "      <td>0.027226</td>\n",
       "      <td>-1.835355</td>\n",
       "    </tr>\n",
       "    <tr>\n",
       "      <th>2015-05-31</th>\n",
       "      <td>-0.270804</td>\n",
       "      <td>-0.048938</td>\n",
       "      <td>-0.451612</td>\n",
       "      <td>-0.507399</td>\n",
       "      <td>-0.612965</td>\n",
       "    </tr>\n",
       "    <tr>\n",
       "      <th>2015-06-30</th>\n",
       "      <td>0.010572</td>\n",
       "      <td>-0.069243</td>\n",
       "      <td>-0.253239</td>\n",
       "      <td>-0.323348</td>\n",
       "      <td>-1.077695</td>\n",
       "    </tr>\n",
       "    <tr>\n",
       "      <th>2015-07-31</th>\n",
       "      <td>-1.726897</td>\n",
       "      <td>-0.752957</td>\n",
       "      <td>-0.615605</td>\n",
       "      <td>-0.250319</td>\n",
       "      <td>-1.081979</td>\n",
       "    </tr>\n",
       "    <tr>\n",
       "      <th>2015-08-31</th>\n",
       "      <td>-2.195304</td>\n",
       "      <td>-1.345296</td>\n",
       "      <td>-0.656554</td>\n",
       "      <td>-1.382995</td>\n",
       "      <td>-0.252311</td>\n",
       "    </tr>\n",
       "    <tr>\n",
       "      <th>2015-09-30</th>\n",
       "      <td>0.585070</td>\n",
       "      <td>-0.893555</td>\n",
       "      <td>-0.849016</td>\n",
       "      <td>-0.291847</td>\n",
       "      <td>-0.323570</td>\n",
       "    </tr>\n",
       "    <tr>\n",
       "      <th>2015-10-31</th>\n",
       "      <td>0.376233</td>\n",
       "      <td>-0.208479</td>\n",
       "      <td>2.273469</td>\n",
       "      <td>0.212773</td>\n",
       "      <td>1.380277</td>\n",
       "    </tr>\n",
       "  </tbody>\n",
       "</table>\n",
       "</div>"
      ],
      "text/plain": [
       "                   a         b         c         d         e\n",
       "2015-01-31 -1.143348  2.062954 -0.505914 -0.542069 -1.584379\n",
       "2015-02-28  0.658830 -0.485753  1.442875  0.546691  1.296615\n",
       "2015-03-31  0.652732  1.340474 -0.894651 -0.541520  0.547490\n",
       "2015-04-30 -0.735129  2.113196  1.309023  0.027226 -1.835355\n",
       "2015-05-31 -0.270804 -0.048938 -0.451612 -0.507399 -0.612965\n",
       "2015-06-30  0.010572 -0.069243 -0.253239 -0.323348 -1.077695\n",
       "2015-07-31 -1.726897 -0.752957 -0.615605 -0.250319 -1.081979\n",
       "2015-08-31 -2.195304 -1.345296 -0.656554 -1.382995 -0.252311\n",
       "2015-09-30  0.585070 -0.893555 -0.849016 -0.291847 -0.323570\n",
       "2015-10-31  0.376233 -0.208479  2.273469  0.212773  1.380277"
      ]
     },
     "execution_count": 11,
     "metadata": {},
     "output_type": "execute_result"
    }
   ],
   "source": [
    "df = pd.DataFrame(randn(10, 5), index=dt_index, columns=[x for x in 'abcde'])\n",
    "df"
   ]
  },
  {
   "cell_type": "code",
   "execution_count": 12,
   "metadata": {
    "collapsed": false
   },
   "outputs": [
    {
     "data": {
      "text/plain": [
       "pandas.core.series.Series"
      ]
     },
     "execution_count": 12,
     "metadata": {},
     "output_type": "execute_result"
    }
   ],
   "source": [
    "#A dataframes columns are series:\n",
    "col = df.a\n",
    "type(col)"
   ]
  },
  {
   "cell_type": "code",
   "execution_count": 13,
   "metadata": {
    "collapsed": false
   },
   "outputs": [
    {
     "data": {
      "text/plain": [
       "pandas.core.series.Series"
      ]
     },
     "execution_count": 13,
     "metadata": {},
     "output_type": "execute_result"
    }
   ],
   "source": [
    "#So are the rows.\n",
    "row = df.ix['2015-01-31']\n",
    "type(row)"
   ]
  },
  {
   "cell_type": "code",
   "execution_count": 14,
   "metadata": {
    "collapsed": false
   },
   "outputs": [
    {
     "data": {
      "text/plain": [
       "DatetimeIndex(['2015-01-31', '2015-02-28', '2015-03-31', '2015-04-30',\n",
       "               '2015-05-31', '2015-06-30', '2015-07-31', '2015-08-31',\n",
       "               '2015-09-30', '2015-10-31'],\n",
       "              dtype='datetime64[ns]', freq='M')"
      ]
     },
     "execution_count": 14,
     "metadata": {},
     "output_type": "execute_result"
    }
   ],
   "source": [
    "#The columns all have the same index:\n",
    "col.index   "
   ]
  },
  {
   "cell_type": "code",
   "execution_count": 15,
   "metadata": {
    "collapsed": false
   },
   "outputs": [
    {
     "data": {
      "text/plain": [
       "Index([u'a', u'b', u'c', u'd', u'e'], dtype='object')"
      ]
     },
     "execution_count": 15,
     "metadata": {},
     "output_type": "execute_result"
    }
   ],
   "source": [
    "#What's the index for the rows?\n",
    "row.index"
   ]
  },
  {
   "cell_type": "markdown",
   "metadata": {},
   "source": [
    "#DataFrame basics"
   ]
  },
  {
   "cell_type": "code",
   "execution_count": 16,
   "metadata": {
    "collapsed": false
   },
   "outputs": [
    {
     "data": {
      "text/html": [
       "<div>\n",
       "<table border=\"1\" class=\"dataframe\">\n",
       "  <thead>\n",
       "    <tr style=\"text-align: right;\">\n",
       "      <th></th>\n",
       "      <th>a</th>\n",
       "      <th>b</th>\n",
       "      <th>c</th>\n",
       "      <th>d</th>\n",
       "      <th>e</th>\n",
       "      <th>new</th>\n",
       "    </tr>\n",
       "  </thead>\n",
       "  <tbody>\n",
       "    <tr>\n",
       "      <th>2015-01-31</th>\n",
       "      <td>-1.143348</td>\n",
       "      <td>2.062954</td>\n",
       "      <td>-0.505914</td>\n",
       "      <td>-0.542069</td>\n",
       "      <td>-1.584379</td>\n",
       "      <td>0.919605</td>\n",
       "    </tr>\n",
       "    <tr>\n",
       "      <th>2015-02-28</th>\n",
       "      <td>0.658830</td>\n",
       "      <td>-0.485753</td>\n",
       "      <td>1.442875</td>\n",
       "      <td>0.546691</td>\n",
       "      <td>1.296615</td>\n",
       "      <td>0.173077</td>\n",
       "    </tr>\n",
       "    <tr>\n",
       "      <th>2015-03-31</th>\n",
       "      <td>0.652732</td>\n",
       "      <td>1.340474</td>\n",
       "      <td>-0.894651</td>\n",
       "      <td>-0.541520</td>\n",
       "      <td>0.547490</td>\n",
       "      <td>1.993206</td>\n",
       "    </tr>\n",
       "    <tr>\n",
       "      <th>2015-04-30</th>\n",
       "      <td>-0.735129</td>\n",
       "      <td>2.113196</td>\n",
       "      <td>1.309023</td>\n",
       "      <td>0.027226</td>\n",
       "      <td>-1.835355</td>\n",
       "      <td>1.378067</td>\n",
       "    </tr>\n",
       "    <tr>\n",
       "      <th>2015-05-31</th>\n",
       "      <td>-0.270804</td>\n",
       "      <td>-0.048938</td>\n",
       "      <td>-0.451612</td>\n",
       "      <td>-0.507399</td>\n",
       "      <td>-0.612965</td>\n",
       "      <td>-0.319743</td>\n",
       "    </tr>\n",
       "    <tr>\n",
       "      <th>2015-06-30</th>\n",
       "      <td>0.010572</td>\n",
       "      <td>-0.069243</td>\n",
       "      <td>-0.253239</td>\n",
       "      <td>-0.323348</td>\n",
       "      <td>-1.077695</td>\n",
       "      <td>-0.058672</td>\n",
       "    </tr>\n",
       "    <tr>\n",
       "      <th>2015-07-31</th>\n",
       "      <td>-1.726897</td>\n",
       "      <td>-0.752957</td>\n",
       "      <td>-0.615605</td>\n",
       "      <td>-0.250319</td>\n",
       "      <td>-1.081979</td>\n",
       "      <td>-2.479854</td>\n",
       "    </tr>\n",
       "    <tr>\n",
       "      <th>2015-08-31</th>\n",
       "      <td>-2.195304</td>\n",
       "      <td>-1.345296</td>\n",
       "      <td>-0.656554</td>\n",
       "      <td>-1.382995</td>\n",
       "      <td>-0.252311</td>\n",
       "      <td>-3.540599</td>\n",
       "    </tr>\n",
       "    <tr>\n",
       "      <th>2015-09-30</th>\n",
       "      <td>0.585070</td>\n",
       "      <td>-0.893555</td>\n",
       "      <td>-0.849016</td>\n",
       "      <td>-0.291847</td>\n",
       "      <td>-0.323570</td>\n",
       "      <td>-0.308485</td>\n",
       "    </tr>\n",
       "    <tr>\n",
       "      <th>2015-10-31</th>\n",
       "      <td>0.376233</td>\n",
       "      <td>-0.208479</td>\n",
       "      <td>2.273469</td>\n",
       "      <td>0.212773</td>\n",
       "      <td>1.380277</td>\n",
       "      <td>0.167754</td>\n",
       "    </tr>\n",
       "  </tbody>\n",
       "</table>\n",
       "</div>"
      ],
      "text/plain": [
       "                   a         b         c         d         e       new\n",
       "2015-01-31 -1.143348  2.062954 -0.505914 -0.542069 -1.584379  0.919605\n",
       "2015-02-28  0.658830 -0.485753  1.442875  0.546691  1.296615  0.173077\n",
       "2015-03-31  0.652732  1.340474 -0.894651 -0.541520  0.547490  1.993206\n",
       "2015-04-30 -0.735129  2.113196  1.309023  0.027226 -1.835355  1.378067\n",
       "2015-05-31 -0.270804 -0.048938 -0.451612 -0.507399 -0.612965 -0.319743\n",
       "2015-06-30  0.010572 -0.069243 -0.253239 -0.323348 -1.077695 -0.058672\n",
       "2015-07-31 -1.726897 -0.752957 -0.615605 -0.250319 -1.081979 -2.479854\n",
       "2015-08-31 -2.195304 -1.345296 -0.656554 -1.382995 -0.252311 -3.540599\n",
       "2015-09-30  0.585070 -0.893555 -0.849016 -0.291847 -0.323570 -0.308485\n",
       "2015-10-31  0.376233 -0.208479  2.273469  0.212773  1.380277  0.167754"
      ]
     },
     "execution_count": 16,
     "metadata": {},
     "output_type": "execute_result"
    }
   ],
   "source": [
    "#New column\n",
    "df['new'] = df['a'] + df['b']\n",
    "df"
   ]
  },
  {
   "cell_type": "code",
   "execution_count": 17,
   "metadata": {
    "collapsed": false
   },
   "outputs": [
    {
     "data": {
      "text/html": [
       "<div>\n",
       "<table border=\"1\" class=\"dataframe\">\n",
       "  <thead>\n",
       "    <tr style=\"text-align: right;\">\n",
       "      <th></th>\n",
       "      <th>a</th>\n",
       "      <th>b</th>\n",
       "      <th>c</th>\n",
       "      <th>d</th>\n",
       "      <th>e</th>\n",
       "    </tr>\n",
       "  </thead>\n",
       "  <tbody>\n",
       "    <tr>\n",
       "      <th>2015-01-31</th>\n",
       "      <td>-1.143348</td>\n",
       "      <td>2.062954</td>\n",
       "      <td>-0.505914</td>\n",
       "      <td>-0.542069</td>\n",
       "      <td>-1.584379</td>\n",
       "    </tr>\n",
       "    <tr>\n",
       "      <th>2015-02-28</th>\n",
       "      <td>0.658830</td>\n",
       "      <td>-0.485753</td>\n",
       "      <td>1.442875</td>\n",
       "      <td>0.546691</td>\n",
       "      <td>1.296615</td>\n",
       "    </tr>\n",
       "    <tr>\n",
       "      <th>2015-03-31</th>\n",
       "      <td>0.652732</td>\n",
       "      <td>1.340474</td>\n",
       "      <td>-0.894651</td>\n",
       "      <td>-0.541520</td>\n",
       "      <td>0.547490</td>\n",
       "    </tr>\n",
       "    <tr>\n",
       "      <th>2015-04-30</th>\n",
       "      <td>-0.735129</td>\n",
       "      <td>2.113196</td>\n",
       "      <td>1.309023</td>\n",
       "      <td>0.027226</td>\n",
       "      <td>-1.835355</td>\n",
       "    </tr>\n",
       "    <tr>\n",
       "      <th>2015-05-31</th>\n",
       "      <td>-0.270804</td>\n",
       "      <td>-0.048938</td>\n",
       "      <td>-0.451612</td>\n",
       "      <td>-0.507399</td>\n",
       "      <td>-0.612965</td>\n",
       "    </tr>\n",
       "    <tr>\n",
       "      <th>2015-06-30</th>\n",
       "      <td>0.010572</td>\n",
       "      <td>-0.069243</td>\n",
       "      <td>-0.253239</td>\n",
       "      <td>-0.323348</td>\n",
       "      <td>-1.077695</td>\n",
       "    </tr>\n",
       "    <tr>\n",
       "      <th>2015-07-31</th>\n",
       "      <td>-1.726897</td>\n",
       "      <td>-0.752957</td>\n",
       "      <td>-0.615605</td>\n",
       "      <td>-0.250319</td>\n",
       "      <td>-1.081979</td>\n",
       "    </tr>\n",
       "    <tr>\n",
       "      <th>2015-08-31</th>\n",
       "      <td>-2.195304</td>\n",
       "      <td>-1.345296</td>\n",
       "      <td>-0.656554</td>\n",
       "      <td>-1.382995</td>\n",
       "      <td>-0.252311</td>\n",
       "    </tr>\n",
       "    <tr>\n",
       "      <th>2015-09-30</th>\n",
       "      <td>0.585070</td>\n",
       "      <td>-0.893555</td>\n",
       "      <td>-0.849016</td>\n",
       "      <td>-0.291847</td>\n",
       "      <td>-0.323570</td>\n",
       "    </tr>\n",
       "    <tr>\n",
       "      <th>2015-10-31</th>\n",
       "      <td>0.376233</td>\n",
       "      <td>-0.208479</td>\n",
       "      <td>2.273469</td>\n",
       "      <td>0.212773</td>\n",
       "      <td>1.380277</td>\n",
       "    </tr>\n",
       "  </tbody>\n",
       "</table>\n",
       "</div>"
      ],
      "text/plain": [
       "                   a         b         c         d         e\n",
       "2015-01-31 -1.143348  2.062954 -0.505914 -0.542069 -1.584379\n",
       "2015-02-28  0.658830 -0.485753  1.442875  0.546691  1.296615\n",
       "2015-03-31  0.652732  1.340474 -0.894651 -0.541520  0.547490\n",
       "2015-04-30 -0.735129  2.113196  1.309023  0.027226 -1.835355\n",
       "2015-05-31 -0.270804 -0.048938 -0.451612 -0.507399 -0.612965\n",
       "2015-06-30  0.010572 -0.069243 -0.253239 -0.323348 -1.077695\n",
       "2015-07-31 -1.726897 -0.752957 -0.615605 -0.250319 -1.081979\n",
       "2015-08-31 -2.195304 -1.345296 -0.656554 -1.382995 -0.252311\n",
       "2015-09-30  0.585070 -0.893555 -0.849016 -0.291847 -0.323570\n",
       "2015-10-31  0.376233 -0.208479  2.273469  0.212773  1.380277"
      ]
     },
     "execution_count": 17,
     "metadata": {},
     "output_type": "execute_result"
    }
   ],
   "source": [
    "#Delete a column\n",
    "df.drop('new', axis=1)"
   ]
  },
  {
   "cell_type": "markdown",
   "metadata": {},
   "source": [
    "##Axis?\n",
    "Because pandas thinks of rows and columns as both being series, anything we can do to rows we can do to columns too. \n",
    "\n",
    "Axis describes which one we want to do it to. 0=rows, 1=columns."
   ]
  },
  {
   "cell_type": "code",
   "execution_count": 18,
   "metadata": {
    "collapsed": false
   },
   "outputs": [
    {
     "data": {
      "text/html": [
       "<div>\n",
       "<table border=\"1\" class=\"dataframe\">\n",
       "  <thead>\n",
       "    <tr style=\"text-align: right;\">\n",
       "      <th></th>\n",
       "      <th>a</th>\n",
       "      <th>b</th>\n",
       "      <th>c</th>\n",
       "      <th>d</th>\n",
       "      <th>e</th>\n",
       "      <th>new</th>\n",
       "    </tr>\n",
       "  </thead>\n",
       "  <tbody>\n",
       "    <tr>\n",
       "      <th>2015-01-31</th>\n",
       "      <td>-1.143348</td>\n",
       "      <td>2.062954</td>\n",
       "      <td>-0.505914</td>\n",
       "      <td>-0.542069</td>\n",
       "      <td>-1.584379</td>\n",
       "      <td>0.919605</td>\n",
       "    </tr>\n",
       "    <tr>\n",
       "      <th>2015-02-28</th>\n",
       "      <td>0.658830</td>\n",
       "      <td>-0.485753</td>\n",
       "      <td>1.442875</td>\n",
       "      <td>0.546691</td>\n",
       "      <td>1.296615</td>\n",
       "      <td>0.173077</td>\n",
       "    </tr>\n",
       "    <tr>\n",
       "      <th>2015-03-31</th>\n",
       "      <td>0.652732</td>\n",
       "      <td>1.340474</td>\n",
       "      <td>-0.894651</td>\n",
       "      <td>-0.541520</td>\n",
       "      <td>0.547490</td>\n",
       "      <td>1.993206</td>\n",
       "    </tr>\n",
       "    <tr>\n",
       "      <th>2015-05-31</th>\n",
       "      <td>-0.270804</td>\n",
       "      <td>-0.048938</td>\n",
       "      <td>-0.451612</td>\n",
       "      <td>-0.507399</td>\n",
       "      <td>-0.612965</td>\n",
       "      <td>-0.319743</td>\n",
       "    </tr>\n",
       "    <tr>\n",
       "      <th>2015-06-30</th>\n",
       "      <td>0.010572</td>\n",
       "      <td>-0.069243</td>\n",
       "      <td>-0.253239</td>\n",
       "      <td>-0.323348</td>\n",
       "      <td>-1.077695</td>\n",
       "      <td>-0.058672</td>\n",
       "    </tr>\n",
       "    <tr>\n",
       "      <th>2015-07-31</th>\n",
       "      <td>-1.726897</td>\n",
       "      <td>-0.752957</td>\n",
       "      <td>-0.615605</td>\n",
       "      <td>-0.250319</td>\n",
       "      <td>-1.081979</td>\n",
       "      <td>-2.479854</td>\n",
       "    </tr>\n",
       "    <tr>\n",
       "      <th>2015-08-31</th>\n",
       "      <td>-2.195304</td>\n",
       "      <td>-1.345296</td>\n",
       "      <td>-0.656554</td>\n",
       "      <td>-1.382995</td>\n",
       "      <td>-0.252311</td>\n",
       "      <td>-3.540599</td>\n",
       "    </tr>\n",
       "    <tr>\n",
       "      <th>2015-09-30</th>\n",
       "      <td>0.585070</td>\n",
       "      <td>-0.893555</td>\n",
       "      <td>-0.849016</td>\n",
       "      <td>-0.291847</td>\n",
       "      <td>-0.323570</td>\n",
       "      <td>-0.308485</td>\n",
       "    </tr>\n",
       "    <tr>\n",
       "      <th>2015-10-31</th>\n",
       "      <td>0.376233</td>\n",
       "      <td>-0.208479</td>\n",
       "      <td>2.273469</td>\n",
       "      <td>0.212773</td>\n",
       "      <td>1.380277</td>\n",
       "      <td>0.167754</td>\n",
       "    </tr>\n",
       "  </tbody>\n",
       "</table>\n",
       "</div>"
      ],
      "text/plain": [
       "                   a         b         c         d         e       new\n",
       "2015-01-31 -1.143348  2.062954 -0.505914 -0.542069 -1.584379  0.919605\n",
       "2015-02-28  0.658830 -0.485753  1.442875  0.546691  1.296615  0.173077\n",
       "2015-03-31  0.652732  1.340474 -0.894651 -0.541520  0.547490  1.993206\n",
       "2015-05-31 -0.270804 -0.048938 -0.451612 -0.507399 -0.612965 -0.319743\n",
       "2015-06-30  0.010572 -0.069243 -0.253239 -0.323348 -1.077695 -0.058672\n",
       "2015-07-31 -1.726897 -0.752957 -0.615605 -0.250319 -1.081979 -2.479854\n",
       "2015-08-31 -2.195304 -1.345296 -0.656554 -1.382995 -0.252311 -3.540599\n",
       "2015-09-30  0.585070 -0.893555 -0.849016 -0.291847 -0.323570 -0.308485\n",
       "2015-10-31  0.376233 -0.208479  2.273469  0.212773  1.380277  0.167754"
      ]
     },
     "execution_count": 18,
     "metadata": {},
     "output_type": "execute_result"
    }
   ],
   "source": [
    "lbl = pd.Timestamp('2015-04-30 00:00:00', offset='M')\n",
    "df.drop(lbl, axis=0)"
   ]
  },
  {
   "cell_type": "markdown",
   "metadata": {},
   "source": [
    "#Selecting subsets.\n",
    "There a couple of ways to select a subset of a python data frame."
   ]
  },
  {
   "cell_type": "code",
   "execution_count": 19,
   "metadata": {
    "collapsed": false
   },
   "outputs": [
    {
     "data": {
      "text/html": [
       "<div>\n",
       "<table border=\"1\" class=\"dataframe\">\n",
       "  <thead>\n",
       "    <tr style=\"text-align: right;\">\n",
       "      <th></th>\n",
       "      <th>a</th>\n",
       "      <th>b</th>\n",
       "      <th>c</th>\n",
       "      <th>d</th>\n",
       "      <th>e</th>\n",
       "      <th>new</th>\n",
       "    </tr>\n",
       "  </thead>\n",
       "  <tbody>\n",
       "    <tr>\n",
       "      <th>2015-02-28</th>\n",
       "      <td>0.658830</td>\n",
       "      <td>-0.485753</td>\n",
       "      <td>1.442875</td>\n",
       "      <td>0.546691</td>\n",
       "      <td>1.296615</td>\n",
       "      <td>0.173077</td>\n",
       "    </tr>\n",
       "    <tr>\n",
       "      <th>2015-03-31</th>\n",
       "      <td>0.652732</td>\n",
       "      <td>1.340474</td>\n",
       "      <td>-0.894651</td>\n",
       "      <td>-0.541520</td>\n",
       "      <td>0.547490</td>\n",
       "      <td>1.993206</td>\n",
       "    </tr>\n",
       "    <tr>\n",
       "      <th>2015-06-30</th>\n",
       "      <td>0.010572</td>\n",
       "      <td>-0.069243</td>\n",
       "      <td>-0.253239</td>\n",
       "      <td>-0.323348</td>\n",
       "      <td>-1.077695</td>\n",
       "      <td>-0.058672</td>\n",
       "    </tr>\n",
       "    <tr>\n",
       "      <th>2015-09-30</th>\n",
       "      <td>0.585070</td>\n",
       "      <td>-0.893555</td>\n",
       "      <td>-0.849016</td>\n",
       "      <td>-0.291847</td>\n",
       "      <td>-0.323570</td>\n",
       "      <td>-0.308485</td>\n",
       "    </tr>\n",
       "    <tr>\n",
       "      <th>2015-10-31</th>\n",
       "      <td>0.376233</td>\n",
       "      <td>-0.208479</td>\n",
       "      <td>2.273469</td>\n",
       "      <td>0.212773</td>\n",
       "      <td>1.380277</td>\n",
       "      <td>0.167754</td>\n",
       "    </tr>\n",
       "  </tbody>\n",
       "</table>\n",
       "</div>"
      ],
      "text/plain": [
       "                   a         b         c         d         e       new\n",
       "2015-02-28  0.658830 -0.485753  1.442875  0.546691  1.296615  0.173077\n",
       "2015-03-31  0.652732  1.340474 -0.894651 -0.541520  0.547490  1.993206\n",
       "2015-06-30  0.010572 -0.069243 -0.253239 -0.323348 -1.077695 -0.058672\n",
       "2015-09-30  0.585070 -0.893555 -0.849016 -0.291847 -0.323570 -0.308485\n",
       "2015-10-31  0.376233 -0.208479  2.273469  0.212773  1.380277  0.167754"
      ]
     },
     "execution_count": 19,
     "metadata": {},
     "output_type": "execute_result"
    }
   ],
   "source": [
    "#To subset the rows, you can use the convenient:\n",
    "df[df.a > 0]"
   ]
  },
  {
   "cell_type": "code",
   "execution_count": 20,
   "metadata": {
    "collapsed": false
   },
   "outputs": [
    {
     "data": {
      "text/html": [
       "<div>\n",
       "<table border=\"1\" class=\"dataframe\">\n",
       "  <thead>\n",
       "    <tr style=\"text-align: right;\">\n",
       "      <th></th>\n",
       "      <th>a</th>\n",
       "      <th>b</th>\n",
       "      <th>c</th>\n",
       "      <th>d</th>\n",
       "      <th>e</th>\n",
       "      <th>new</th>\n",
       "    </tr>\n",
       "  </thead>\n",
       "  <tbody>\n",
       "    <tr>\n",
       "      <th>2015-03-31</th>\n",
       "      <td>0.652732</td>\n",
       "      <td>1.340474</td>\n",
       "      <td>-0.894651</td>\n",
       "      <td>-0.541520</td>\n",
       "      <td>0.547490</td>\n",
       "      <td>1.993206</td>\n",
       "    </tr>\n",
       "    <tr>\n",
       "      <th>2015-06-30</th>\n",
       "      <td>0.010572</td>\n",
       "      <td>-0.069243</td>\n",
       "      <td>-0.253239</td>\n",
       "      <td>-0.323348</td>\n",
       "      <td>-1.077695</td>\n",
       "      <td>-0.058672</td>\n",
       "    </tr>\n",
       "    <tr>\n",
       "      <th>2015-09-30</th>\n",
       "      <td>0.585070</td>\n",
       "      <td>-0.893555</td>\n",
       "      <td>-0.849016</td>\n",
       "      <td>-0.291847</td>\n",
       "      <td>-0.323570</td>\n",
       "      <td>-0.308485</td>\n",
       "    </tr>\n",
       "  </tbody>\n",
       "</table>\n",
       "</div>"
      ],
      "text/plain": [
       "                   a         b         c         d         e       new\n",
       "2015-03-31  0.652732  1.340474 -0.894651 -0.541520  0.547490  1.993206\n",
       "2015-06-30  0.010572 -0.069243 -0.253239 -0.323348 -1.077695 -0.058672\n",
       "2015-09-30  0.585070 -0.893555 -0.849016 -0.291847 -0.323570 -0.308485"
      ]
     },
     "execution_count": 20,
     "metadata": {},
     "output_type": "execute_result"
    }
   ],
   "source": [
    "#Or combine multiple conditions:\n",
    "df[(df.a > 0) & (df.c < 0)]"
   ]
  },
  {
   "cell_type": "code",
   "execution_count": null,
   "metadata": {
    "collapsed": false
   },
   "outputs": [],
   "source": [
    "#Selecting a column\n",
    "df.a\n",
    "#Works sometimes."
   ]
  },
  {
   "cell_type": "code",
   "execution_count": null,
   "metadata": {
    "collapsed": false
   },
   "outputs": [],
   "source": [
    "df['a'] #works always"
   ]
  },
  {
   "cell_type": "code",
   "execution_count": 21,
   "metadata": {
    "collapsed": false
   },
   "outputs": [
    {
     "data": {
      "text/html": [
       "<div>\n",
       "<table border=\"1\" class=\"dataframe\">\n",
       "  <thead>\n",
       "    <tr style=\"text-align: right;\">\n",
       "      <th></th>\n",
       "      <th>a</th>\n",
       "      <th>b</th>\n",
       "    </tr>\n",
       "  </thead>\n",
       "  <tbody>\n",
       "    <tr>\n",
       "      <th>2015-01-31</th>\n",
       "      <td>-1.143348</td>\n",
       "      <td>2.062954</td>\n",
       "    </tr>\n",
       "    <tr>\n",
       "      <th>2015-02-28</th>\n",
       "      <td>0.658830</td>\n",
       "      <td>-0.485753</td>\n",
       "    </tr>\n",
       "    <tr>\n",
       "      <th>2015-03-31</th>\n",
       "      <td>0.652732</td>\n",
       "      <td>1.340474</td>\n",
       "    </tr>\n",
       "    <tr>\n",
       "      <th>2015-04-30</th>\n",
       "      <td>-0.735129</td>\n",
       "      <td>2.113196</td>\n",
       "    </tr>\n",
       "    <tr>\n",
       "      <th>2015-05-31</th>\n",
       "      <td>-0.270804</td>\n",
       "      <td>-0.048938</td>\n",
       "    </tr>\n",
       "    <tr>\n",
       "      <th>2015-06-30</th>\n",
       "      <td>0.010572</td>\n",
       "      <td>-0.069243</td>\n",
       "    </tr>\n",
       "    <tr>\n",
       "      <th>2015-07-31</th>\n",
       "      <td>-1.726897</td>\n",
       "      <td>-0.752957</td>\n",
       "    </tr>\n",
       "    <tr>\n",
       "      <th>2015-08-31</th>\n",
       "      <td>-2.195304</td>\n",
       "      <td>-1.345296</td>\n",
       "    </tr>\n",
       "    <tr>\n",
       "      <th>2015-09-30</th>\n",
       "      <td>0.585070</td>\n",
       "      <td>-0.893555</td>\n",
       "    </tr>\n",
       "    <tr>\n",
       "      <th>2015-10-31</th>\n",
       "      <td>0.376233</td>\n",
       "      <td>-0.208479</td>\n",
       "    </tr>\n",
       "  </tbody>\n",
       "</table>\n",
       "</div>"
      ],
      "text/plain": [
       "                   a         b\n",
       "2015-01-31 -1.143348  2.062954\n",
       "2015-02-28  0.658830 -0.485753\n",
       "2015-03-31  0.652732  1.340474\n",
       "2015-04-30 -0.735129  2.113196\n",
       "2015-05-31 -0.270804 -0.048938\n",
       "2015-06-30  0.010572 -0.069243\n",
       "2015-07-31 -1.726897 -0.752957\n",
       "2015-08-31 -2.195304 -1.345296\n",
       "2015-09-30  0.585070 -0.893555\n",
       "2015-10-31  0.376233 -0.208479"
      ]
     },
     "execution_count": 21,
     "metadata": {},
     "output_type": "execute_result"
    }
   ],
   "source": [
    "df[['a', 'b']]\n",
    "#Or a subset of columns"
   ]
  },
  {
   "cell_type": "markdown",
   "metadata": {},
   "source": [
    "#Advanced selection.\n",
    "The above methods work for simple types of selections, but what if you need something more complex?"
   ]
  },
  {
   "cell_type": "code",
   "execution_count": 22,
   "metadata": {
    "collapsed": false
   },
   "outputs": [
    {
     "data": {
      "text/html": [
       "<div>\n",
       "<table border=\"1\" class=\"dataframe\">\n",
       "  <thead>\n",
       "    <tr style=\"text-align: right;\">\n",
       "      <th></th>\n",
       "      <th>c</th>\n",
       "      <th>d</th>\n",
       "      <th>e</th>\n",
       "    </tr>\n",
       "  </thead>\n",
       "  <tbody>\n",
       "    <tr>\n",
       "      <th>2015-05-31</th>\n",
       "      <td>-0.451612</td>\n",
       "      <td>-0.507399</td>\n",
       "      <td>-0.612965</td>\n",
       "    </tr>\n",
       "    <tr>\n",
       "      <th>2015-06-30</th>\n",
       "      <td>-0.253239</td>\n",
       "      <td>-0.323348</td>\n",
       "      <td>-1.077695</td>\n",
       "    </tr>\n",
       "    <tr>\n",
       "      <th>2015-07-31</th>\n",
       "      <td>-0.615605</td>\n",
       "      <td>-0.250319</td>\n",
       "      <td>-1.081979</td>\n",
       "    </tr>\n",
       "    <tr>\n",
       "      <th>2015-08-31</th>\n",
       "      <td>-0.656554</td>\n",
       "      <td>-1.382995</td>\n",
       "      <td>-0.252311</td>\n",
       "    </tr>\n",
       "  </tbody>\n",
       "</table>\n",
       "</div>"
      ],
      "text/plain": [
       "                   c         d         e\n",
       "2015-05-31 -0.451612 -0.507399 -0.612965\n",
       "2015-06-30 -0.253239 -0.323348 -1.077695\n",
       "2015-07-31 -0.615605 -0.250319 -1.081979\n",
       "2015-08-31 -0.656554 -1.382995 -0.252311"
      ]
     },
     "execution_count": 22,
     "metadata": {},
     "output_type": "execute_result"
    }
   ],
   "source": [
    "df.loc['2015-05-31':'2015-08-31', 'c':'e'] #Ranges by label."
   ]
  },
  {
   "cell_type": "code",
   "execution_count": 23,
   "metadata": {
    "collapsed": false
   },
   "outputs": [
    {
     "data": {
      "text/html": [
       "<div>\n",
       "<table border=\"1\" class=\"dataframe\">\n",
       "  <thead>\n",
       "    <tr style=\"text-align: right;\">\n",
       "      <th></th>\n",
       "      <th>c</th>\n",
       "      <th>d</th>\n",
       "      <th>e</th>\n",
       "    </tr>\n",
       "  </thead>\n",
       "  <tbody>\n",
       "    <tr>\n",
       "      <th>2015-03-31</th>\n",
       "      <td>-0.894651</td>\n",
       "      <td>-0.541520</td>\n",
       "      <td>0.547490</td>\n",
       "    </tr>\n",
       "    <tr>\n",
       "      <th>2015-04-30</th>\n",
       "      <td>1.309023</td>\n",
       "      <td>0.027226</td>\n",
       "      <td>-1.835355</td>\n",
       "    </tr>\n",
       "    <tr>\n",
       "      <th>2015-05-31</th>\n",
       "      <td>-0.451612</td>\n",
       "      <td>-0.507399</td>\n",
       "      <td>-0.612965</td>\n",
       "    </tr>\n",
       "    <tr>\n",
       "      <th>2015-06-30</th>\n",
       "      <td>-0.253239</td>\n",
       "      <td>-0.323348</td>\n",
       "      <td>-1.077695</td>\n",
       "    </tr>\n",
       "    <tr>\n",
       "      <th>2015-07-31</th>\n",
       "      <td>-0.615605</td>\n",
       "      <td>-0.250319</td>\n",
       "      <td>-1.081979</td>\n",
       "    </tr>\n",
       "  </tbody>\n",
       "</table>\n",
       "</div>"
      ],
      "text/plain": [
       "                   c         d         e\n",
       "2015-03-31 -0.894651 -0.541520  0.547490\n",
       "2015-04-30  1.309023  0.027226 -1.835355\n",
       "2015-05-31 -0.451612 -0.507399 -0.612965\n",
       "2015-06-30 -0.253239 -0.323348 -1.077695\n",
       "2015-07-31 -0.615605 -0.250319 -1.081979"
      ]
     },
     "execution_count": 23,
     "metadata": {},
     "output_type": "execute_result"
    }
   ],
   "source": [
    "df.iloc[2:-3,2:5] #Ranges by number."
   ]
  },
  {
   "cell_type": "code",
   "execution_count": 24,
   "metadata": {
    "collapsed": false
   },
   "outputs": [
    {
     "data": {
      "text/html": [
       "<div>\n",
       "<table border=\"1\" class=\"dataframe\">\n",
       "  <thead>\n",
       "    <tr style=\"text-align: right;\">\n",
       "      <th></th>\n",
       "      <th>a</th>\n",
       "      <th>b</th>\n",
       "      <th>c</th>\n",
       "      <th>d</th>\n",
       "      <th>e</th>\n",
       "      <th>new</th>\n",
       "    </tr>\n",
       "  </thead>\n",
       "  <tbody>\n",
       "  </tbody>\n",
       "</table>\n",
       "</div>"
      ],
      "text/plain": [
       "Empty DataFrame\n",
       "Columns: [a, b, c, d, e, new]\n",
       "Index: []"
      ]
     },
     "execution_count": 24,
     "metadata": {},
     "output_type": "execute_result"
    }
   ],
   "source": [
    "#SQL-like queries for parsimonious row selection.\n",
    "#Experimental\n",
    "df.query('a > 1 and c <1')"
   ]
  },
  {
   "cell_type": "code",
   "execution_count": 25,
   "metadata": {
    "collapsed": false
   },
   "outputs": [],
   "source": [
    "#Multi Index:\n",
    "dt_index = pd.date_range('2015-1-1', \n",
    "                        '2017-7-1', \n",
    "                        freq='m')\n",
    "df = pd.DataFrame(randn(30,5), index=dt_index)"
   ]
  },
  {
   "cell_type": "code",
   "execution_count": 26,
   "metadata": {
    "collapsed": false
   },
   "outputs": [
    {
     "data": {
      "text/html": [
       "<div>\n",
       "<table border=\"1\" class=\"dataframe\">\n",
       "  <thead>\n",
       "    <tr style=\"text-align: right;\">\n",
       "      <th></th>\n",
       "      <th>0</th>\n",
       "      <th>1</th>\n",
       "      <th>2</th>\n",
       "      <th>3</th>\n",
       "      <th>4</th>\n",
       "      <th>state</th>\n",
       "    </tr>\n",
       "  </thead>\n",
       "  <tbody>\n",
       "    <tr>\n",
       "      <th>2015-01-31</th>\n",
       "      <td>1.280106</td>\n",
       "      <td>-0.466317</td>\n",
       "      <td>1.732939</td>\n",
       "      <td>1.081218</td>\n",
       "      <td>0.154248</td>\n",
       "      <td>Alabama</td>\n",
       "    </tr>\n",
       "    <tr>\n",
       "      <th>2015-02-28</th>\n",
       "      <td>0.371117</td>\n",
       "      <td>-0.685107</td>\n",
       "      <td>0.918546</td>\n",
       "      <td>-0.263773</td>\n",
       "      <td>-0.590534</td>\n",
       "      <td>Alaska</td>\n",
       "    </tr>\n",
       "    <tr>\n",
       "      <th>2015-03-31</th>\n",
       "      <td>0.035069</td>\n",
       "      <td>0.781747</td>\n",
       "      <td>1.813453</td>\n",
       "      <td>0.721023</td>\n",
       "      <td>0.082303</td>\n",
       "      <td>Arizona</td>\n",
       "    </tr>\n",
       "    <tr>\n",
       "      <th>2015-04-30</th>\n",
       "      <td>2.238615</td>\n",
       "      <td>-1.368774</td>\n",
       "      <td>-1.028821</td>\n",
       "      <td>2.387643</td>\n",
       "      <td>1.387509</td>\n",
       "      <td>Alabama</td>\n",
       "    </tr>\n",
       "    <tr>\n",
       "      <th>2015-05-31</th>\n",
       "      <td>0.676634</td>\n",
       "      <td>1.683604</td>\n",
       "      <td>-0.332364</td>\n",
       "      <td>-0.264154</td>\n",
       "      <td>0.378226</td>\n",
       "      <td>Alaska</td>\n",
       "    </tr>\n",
       "  </tbody>\n",
       "</table>\n",
       "</div>"
      ],
      "text/plain": [
       "                   0         1         2         3         4    state\n",
       "2015-01-31  1.280106 -0.466317  1.732939  1.081218  0.154248  Alabama\n",
       "2015-02-28  0.371117 -0.685107  0.918546 -0.263773 -0.590534   Alaska\n",
       "2015-03-31  0.035069  0.781747  1.813453  0.721023  0.082303  Arizona\n",
       "2015-04-30  2.238615 -1.368774 -1.028821  2.387643  1.387509  Alabama\n",
       "2015-05-31  0.676634  1.683604 -0.332364 -0.264154  0.378226   Alaska"
      ]
     },
     "execution_count": 26,
     "metadata": {},
     "output_type": "execute_result"
    }
   ],
   "source": [
    "df['state'] = ['Alabama', 'Alaska' , 'Arizona'] * 10\n",
    "df.head()"
   ]
  },
  {
   "cell_type": "code",
   "execution_count": 28,
   "metadata": {
    "collapsed": false
   },
   "outputs": [
    {
     "data": {
      "text/html": [
       "<div>\n",
       "<table border=\"1\" class=\"dataframe\">\n",
       "  <thead>\n",
       "    <tr style=\"text-align: right;\">\n",
       "      <th></th>\n",
       "      <th></th>\n",
       "      <th>0</th>\n",
       "      <th>1</th>\n",
       "      <th>2</th>\n",
       "      <th>3</th>\n",
       "      <th>4</th>\n",
       "    </tr>\n",
       "    <tr>\n",
       "      <th>state</th>\n",
       "      <th>index</th>\n",
       "      <th></th>\n",
       "      <th></th>\n",
       "      <th></th>\n",
       "      <th></th>\n",
       "      <th></th>\n",
       "    </tr>\n",
       "  </thead>\n",
       "  <tbody>\n",
       "    <tr>\n",
       "      <th>Alabama</th>\n",
       "      <th>2015-01-31</th>\n",
       "      <td>1.280106</td>\n",
       "      <td>-0.466317</td>\n",
       "      <td>1.732939</td>\n",
       "      <td>1.081218</td>\n",
       "      <td>0.154248</td>\n",
       "    </tr>\n",
       "    <tr>\n",
       "      <th>Alaska</th>\n",
       "      <th>2015-02-28</th>\n",
       "      <td>0.371117</td>\n",
       "      <td>-0.685107</td>\n",
       "      <td>0.918546</td>\n",
       "      <td>-0.263773</td>\n",
       "      <td>-0.590534</td>\n",
       "    </tr>\n",
       "    <tr>\n",
       "      <th>Arizona</th>\n",
       "      <th>2015-03-31</th>\n",
       "      <td>0.035069</td>\n",
       "      <td>0.781747</td>\n",
       "      <td>1.813453</td>\n",
       "      <td>0.721023</td>\n",
       "      <td>0.082303</td>\n",
       "    </tr>\n",
       "    <tr>\n",
       "      <th>Alabama</th>\n",
       "      <th>2015-04-30</th>\n",
       "      <td>2.238615</td>\n",
       "      <td>-1.368774</td>\n",
       "      <td>-1.028821</td>\n",
       "      <td>2.387643</td>\n",
       "      <td>1.387509</td>\n",
       "    </tr>\n",
       "    <tr>\n",
       "      <th>Alaska</th>\n",
       "      <th>2015-05-31</th>\n",
       "      <td>0.676634</td>\n",
       "      <td>1.683604</td>\n",
       "      <td>-0.332364</td>\n",
       "      <td>-0.264154</td>\n",
       "      <td>0.378226</td>\n",
       "    </tr>\n",
       "  </tbody>\n",
       "</table>\n",
       "</div>"
      ],
      "text/plain": [
       "                           0         1         2         3         4\n",
       "state   index                                                       \n",
       "Alabama 2015-01-31  1.280106 -0.466317  1.732939  1.081218  0.154248\n",
       "Alaska  2015-02-28  0.371117 -0.685107  0.918546 -0.263773 -0.590534\n",
       "Arizona 2015-03-31  0.035069  0.781747  1.813453  0.721023  0.082303\n",
       "Alabama 2015-04-30  2.238615 -1.368774 -1.028821  2.387643  1.387509\n",
       "Alaska  2015-05-31  0.676634  1.683604 -0.332364 -0.264154  0.378226"
      ]
     },
     "execution_count": 28,
     "metadata": {},
     "output_type": "execute_result"
    }
   ],
   "source": [
    "df = df.reset_index()\n",
    "df = df.set_index(['state', 'index'])\n",
    "df.head()"
   ]
  },
  {
   "cell_type": "code",
   "execution_count": 30,
   "metadata": {
    "collapsed": false
   },
   "outputs": [
    {
     "data": {
      "text/plain": [
       "('Alabama', Timestamp('2015-01-31 00:00:00'))"
      ]
     },
     "execution_count": 30,
     "metadata": {},
     "output_type": "execute_result"
    }
   ],
   "source": []
  },
  {
   "cell_type": "code",
   "execution_count": 31,
   "metadata": {
    "collapsed": false
   },
   "outputs": [
    {
     "data": {
      "text/html": [
       "<div>\n",
       "<table border=\"1\" class=\"dataframe\">\n",
       "  <thead>\n",
       "    <tr style=\"text-align: right;\">\n",
       "      <th></th>\n",
       "      <th>0</th>\n",
       "      <th>1</th>\n",
       "      <th>2</th>\n",
       "      <th>3</th>\n",
       "      <th>4</th>\n",
       "    </tr>\n",
       "    <tr>\n",
       "      <th>index</th>\n",
       "      <th></th>\n",
       "      <th></th>\n",
       "      <th></th>\n",
       "      <th></th>\n",
       "      <th></th>\n",
       "    </tr>\n",
       "  </thead>\n",
       "  <tbody>\n",
       "    <tr>\n",
       "      <th>2015-01-31</th>\n",
       "      <td>1.280106</td>\n",
       "      <td>-0.466317</td>\n",
       "      <td>1.732939</td>\n",
       "      <td>1.081218</td>\n",
       "      <td>0.154248</td>\n",
       "    </tr>\n",
       "    <tr>\n",
       "      <th>2015-04-30</th>\n",
       "      <td>2.238615</td>\n",
       "      <td>-1.368774</td>\n",
       "      <td>-1.028821</td>\n",
       "      <td>2.387643</td>\n",
       "      <td>1.387509</td>\n",
       "    </tr>\n",
       "    <tr>\n",
       "      <th>2015-07-31</th>\n",
       "      <td>-0.402826</td>\n",
       "      <td>1.332836</td>\n",
       "      <td>0.734681</td>\n",
       "      <td>-1.922603</td>\n",
       "      <td>-2.260875</td>\n",
       "    </tr>\n",
       "    <tr>\n",
       "      <th>2015-10-31</th>\n",
       "      <td>-0.950359</td>\n",
       "      <td>0.118545</td>\n",
       "      <td>0.866325</td>\n",
       "      <td>-0.105059</td>\n",
       "      <td>0.243204</td>\n",
       "    </tr>\n",
       "    <tr>\n",
       "      <th>2016-01-31</th>\n",
       "      <td>0.187560</td>\n",
       "      <td>0.142747</td>\n",
       "      <td>-1.085881</td>\n",
       "      <td>0.918004</td>\n",
       "      <td>0.356604</td>\n",
       "    </tr>\n",
       "  </tbody>\n",
       "</table>\n",
       "</div>"
      ],
      "text/plain": [
       "                   0         1         2         3         4\n",
       "index                                                       \n",
       "2015-01-31  1.280106 -0.466317  1.732939  1.081218  0.154248\n",
       "2015-04-30  2.238615 -1.368774 -1.028821  2.387643  1.387509\n",
       "2015-07-31 -0.402826  1.332836  0.734681 -1.922603 -2.260875\n",
       "2015-10-31 -0.950359  0.118545  0.866325 -0.105059  0.243204\n",
       "2016-01-31  0.187560  0.142747 -1.085881  0.918004  0.356604"
      ]
     },
     "execution_count": 31,
     "metadata": {},
     "output_type": "execute_result"
    }
   ],
   "source": [
    "df.loc['Alabama'].head()"
   ]
  },
  {
   "cell_type": "code",
   "execution_count": 32,
   "metadata": {
    "collapsed": false
   },
   "outputs": [
    {
     "ename": "KeyError",
     "evalue": "'the label [2015-01-31] is not in the [index]'",
     "output_type": "error",
     "traceback": [
      "\u001b[0;31m---------------------------------------------------------------------------\u001b[0m",
      "\u001b[0;31mKeyError\u001b[0m                                  Traceback (most recent call last)",
      "\u001b[0;32m<ipython-input-32-5a5a10bc40e7>\u001b[0m in \u001b[0;36m<module>\u001b[0;34m()\u001b[0m\n\u001b[0;32m----> 1\u001b[0;31m \u001b[0mdf\u001b[0m\u001b[0;34m.\u001b[0m\u001b[0mloc\u001b[0m\u001b[0;34m[\u001b[0m\u001b[0;34m'2015-01-31'\u001b[0m\u001b[0;34m]\u001b[0m \u001b[0;31m#Doesn't work.\u001b[0m\u001b[0;34m\u001b[0m\u001b[0m\n\u001b[0m",
      "\u001b[0;32m/Users/scott/anaconda/lib/python2.7/site-packages/pandas/core/indexing.pyc\u001b[0m in \u001b[0;36m__getitem__\u001b[0;34m(self, key)\u001b[0m\n\u001b[1;32m   1196\u001b[0m             \u001b[0;32mreturn\u001b[0m \u001b[0mself\u001b[0m\u001b[0;34m.\u001b[0m\u001b[0m_getitem_tuple\u001b[0m\u001b[0;34m(\u001b[0m\u001b[0mkey\u001b[0m\u001b[0;34m)\u001b[0m\u001b[0;34m\u001b[0m\u001b[0m\n\u001b[1;32m   1197\u001b[0m         \u001b[0;32melse\u001b[0m\u001b[0;34m:\u001b[0m\u001b[0;34m\u001b[0m\u001b[0m\n\u001b[0;32m-> 1198\u001b[0;31m             \u001b[0;32mreturn\u001b[0m \u001b[0mself\u001b[0m\u001b[0;34m.\u001b[0m\u001b[0m_getitem_axis\u001b[0m\u001b[0;34m(\u001b[0m\u001b[0mkey\u001b[0m\u001b[0;34m,\u001b[0m \u001b[0maxis\u001b[0m\u001b[0;34m=\u001b[0m\u001b[0;36m0\u001b[0m\u001b[0;34m)\u001b[0m\u001b[0;34m\u001b[0m\u001b[0m\n\u001b[0m\u001b[1;32m   1199\u001b[0m \u001b[0;34m\u001b[0m\u001b[0m\n\u001b[1;32m   1200\u001b[0m     \u001b[0;32mdef\u001b[0m \u001b[0m_getitem_axis\u001b[0m\u001b[0;34m(\u001b[0m\u001b[0mself\u001b[0m\u001b[0;34m,\u001b[0m \u001b[0mkey\u001b[0m\u001b[0;34m,\u001b[0m \u001b[0maxis\u001b[0m\u001b[0;34m=\u001b[0m\u001b[0;36m0\u001b[0m\u001b[0;34m)\u001b[0m\u001b[0;34m:\u001b[0m\u001b[0;34m\u001b[0m\u001b[0m\n",
      "\u001b[0;32m/Users/scott/anaconda/lib/python2.7/site-packages/pandas/core/indexing.pyc\u001b[0m in \u001b[0;36m_getitem_axis\u001b[0;34m(self, key, axis)\u001b[0m\n\u001b[1;32m   1340\u001b[0m \u001b[0;34m\u001b[0m\u001b[0m\n\u001b[1;32m   1341\u001b[0m         \u001b[0;31m# fall thru to straight lookup\u001b[0m\u001b[0;34m\u001b[0m\u001b[0;34m\u001b[0m\u001b[0m\n\u001b[0;32m-> 1342\u001b[0;31m         \u001b[0mself\u001b[0m\u001b[0;34m.\u001b[0m\u001b[0m_has_valid_type\u001b[0m\u001b[0;34m(\u001b[0m\u001b[0mkey\u001b[0m\u001b[0;34m,\u001b[0m \u001b[0maxis\u001b[0m\u001b[0;34m)\u001b[0m\u001b[0;34m\u001b[0m\u001b[0m\n\u001b[0m\u001b[1;32m   1343\u001b[0m         \u001b[0;32mreturn\u001b[0m \u001b[0mself\u001b[0m\u001b[0;34m.\u001b[0m\u001b[0m_get_label\u001b[0m\u001b[0;34m(\u001b[0m\u001b[0mkey\u001b[0m\u001b[0;34m,\u001b[0m \u001b[0maxis\u001b[0m\u001b[0;34m=\u001b[0m\u001b[0maxis\u001b[0m\u001b[0;34m)\u001b[0m\u001b[0;34m\u001b[0m\u001b[0m\n\u001b[1;32m   1344\u001b[0m \u001b[0;34m\u001b[0m\u001b[0m\n",
      "\u001b[0;32m/Users/scott/anaconda/lib/python2.7/site-packages/pandas/core/indexing.pyc\u001b[0m in \u001b[0;36m_has_valid_type\u001b[0;34m(self, key, axis)\u001b[0m\n\u001b[1;32m   1302\u001b[0m                 \u001b[0;32mraise\u001b[0m\u001b[0;34m\u001b[0m\u001b[0m\n\u001b[1;32m   1303\u001b[0m             \u001b[0;32mexcept\u001b[0m\u001b[0;34m:\u001b[0m\u001b[0;34m\u001b[0m\u001b[0m\n\u001b[0;32m-> 1304\u001b[0;31m                 \u001b[0merror\u001b[0m\u001b[0;34m(\u001b[0m\u001b[0;34m)\u001b[0m\u001b[0;34m\u001b[0m\u001b[0m\n\u001b[0m\u001b[1;32m   1305\u001b[0m \u001b[0;34m\u001b[0m\u001b[0m\n\u001b[1;32m   1306\u001b[0m         \u001b[0;32mreturn\u001b[0m \u001b[0mTrue\u001b[0m\u001b[0;34m\u001b[0m\u001b[0m\n",
      "\u001b[0;32m/Users/scott/anaconda/lib/python2.7/site-packages/pandas/core/indexing.pyc\u001b[0m in \u001b[0;36merror\u001b[0;34m()\u001b[0m\n\u001b[1;32m   1289\u001b[0m                         \"cannot use label indexing with a null key\")\n\u001b[1;32m   1290\u001b[0m                 raise KeyError(\"the label [%s] is not in the [%s]\" %\n\u001b[0;32m-> 1291\u001b[0;31m                                (key, self.obj._get_axis_name(axis)))\n\u001b[0m\u001b[1;32m   1292\u001b[0m \u001b[0;34m\u001b[0m\u001b[0m\n\u001b[1;32m   1293\u001b[0m             \u001b[0;32mtry\u001b[0m\u001b[0;34m:\u001b[0m\u001b[0;34m\u001b[0m\u001b[0m\n",
      "\u001b[0;31mKeyError\u001b[0m: 'the label [2015-01-31] is not in the [index]'"
     ]
    }
   ],
   "source": [
    "df.loc['2015-01-31'] #Doesn't work."
   ]
  },
  {
   "cell_type": "code",
   "execution_count": 33,
   "metadata": {
    "collapsed": false
   },
   "outputs": [
    {
     "data": {
      "text/plain": [
       "0    1.280106\n",
       "1   -0.466317\n",
       "2    1.732939\n",
       "3    1.081218\n",
       "4    0.154248\n",
       "Name: (Alabama, 2015-01-31 00:00:00), dtype: float64"
      ]
     },
     "execution_count": 33,
     "metadata": {},
     "output_type": "execute_result"
    }
   ],
   "source": [
    "df.loc[('Alabama', '2015-01-31')] #Can do this."
   ]
  },
  {
   "cell_type": "code",
   "execution_count": 34,
   "metadata": {
    "collapsed": false
   },
   "outputs": [
    {
     "name": "stderr",
     "output_type": "stream",
     "text": [
      "/Users/scott/anaconda/lib/python2.7/site-packages/pandas/core/index.py:4281: FutureWarning: elementwise comparison failed; returning scalar instead, but in the future will perform elementwise comparison\n",
      "  return np.sum(name == np.asarray(self.names)) > 1\n"
     ]
    },
    {
     "data": {
      "text/html": [
       "<div>\n",
       "<table border=\"1\" class=\"dataframe\">\n",
       "  <thead>\n",
       "    <tr>\n",
       "      <th></th>\n",
       "      <th colspan=\"3\" halign=\"left\">0</th>\n",
       "      <th colspan=\"3\" halign=\"left\">1</th>\n",
       "      <th colspan=\"3\" halign=\"left\">2</th>\n",
       "      <th colspan=\"3\" halign=\"left\">3</th>\n",
       "      <th colspan=\"3\" halign=\"left\">4</th>\n",
       "    </tr>\n",
       "    <tr>\n",
       "      <th>state</th>\n",
       "      <th>Alabama</th>\n",
       "      <th>Alaska</th>\n",
       "      <th>Arizona</th>\n",
       "      <th>Alabama</th>\n",
       "      <th>Alaska</th>\n",
       "      <th>Arizona</th>\n",
       "      <th>Alabama</th>\n",
       "      <th>Alaska</th>\n",
       "      <th>Arizona</th>\n",
       "      <th>Alabama</th>\n",
       "      <th>Alaska</th>\n",
       "      <th>Arizona</th>\n",
       "      <th>Alabama</th>\n",
       "      <th>Alaska</th>\n",
       "      <th>Arizona</th>\n",
       "    </tr>\n",
       "    <tr>\n",
       "      <th>index</th>\n",
       "      <th></th>\n",
       "      <th></th>\n",
       "      <th></th>\n",
       "      <th></th>\n",
       "      <th></th>\n",
       "      <th></th>\n",
       "      <th></th>\n",
       "      <th></th>\n",
       "      <th></th>\n",
       "      <th></th>\n",
       "      <th></th>\n",
       "      <th></th>\n",
       "      <th></th>\n",
       "      <th></th>\n",
       "      <th></th>\n",
       "    </tr>\n",
       "  </thead>\n",
       "  <tbody>\n",
       "    <tr>\n",
       "      <th>2015-01-31</th>\n",
       "      <td>1.280106</td>\n",
       "      <td>NaN</td>\n",
       "      <td>NaN</td>\n",
       "      <td>-0.466317</td>\n",
       "      <td>NaN</td>\n",
       "      <td>NaN</td>\n",
       "      <td>1.732939</td>\n",
       "      <td>NaN</td>\n",
       "      <td>NaN</td>\n",
       "      <td>1.081218</td>\n",
       "      <td>NaN</td>\n",
       "      <td>NaN</td>\n",
       "      <td>0.154248</td>\n",
       "      <td>NaN</td>\n",
       "      <td>NaN</td>\n",
       "    </tr>\n",
       "    <tr>\n",
       "      <th>2015-02-28</th>\n",
       "      <td>NaN</td>\n",
       "      <td>0.371117</td>\n",
       "      <td>NaN</td>\n",
       "      <td>NaN</td>\n",
       "      <td>-0.685107</td>\n",
       "      <td>NaN</td>\n",
       "      <td>NaN</td>\n",
       "      <td>0.918546</td>\n",
       "      <td>NaN</td>\n",
       "      <td>NaN</td>\n",
       "      <td>-0.263773</td>\n",
       "      <td>NaN</td>\n",
       "      <td>NaN</td>\n",
       "      <td>-0.590534</td>\n",
       "      <td>NaN</td>\n",
       "    </tr>\n",
       "    <tr>\n",
       "      <th>2015-03-31</th>\n",
       "      <td>NaN</td>\n",
       "      <td>NaN</td>\n",
       "      <td>0.035069</td>\n",
       "      <td>NaN</td>\n",
       "      <td>NaN</td>\n",
       "      <td>0.781747</td>\n",
       "      <td>NaN</td>\n",
       "      <td>NaN</td>\n",
       "      <td>1.813453</td>\n",
       "      <td>NaN</td>\n",
       "      <td>NaN</td>\n",
       "      <td>0.721023</td>\n",
       "      <td>NaN</td>\n",
       "      <td>NaN</td>\n",
       "      <td>0.082303</td>\n",
       "    </tr>\n",
       "    <tr>\n",
       "      <th>2015-04-30</th>\n",
       "      <td>2.238615</td>\n",
       "      <td>NaN</td>\n",
       "      <td>NaN</td>\n",
       "      <td>-1.368774</td>\n",
       "      <td>NaN</td>\n",
       "      <td>NaN</td>\n",
       "      <td>-1.028821</td>\n",
       "      <td>NaN</td>\n",
       "      <td>NaN</td>\n",
       "      <td>2.387643</td>\n",
       "      <td>NaN</td>\n",
       "      <td>NaN</td>\n",
       "      <td>1.387509</td>\n",
       "      <td>NaN</td>\n",
       "      <td>NaN</td>\n",
       "    </tr>\n",
       "    <tr>\n",
       "      <th>2015-05-31</th>\n",
       "      <td>NaN</td>\n",
       "      <td>0.676634</td>\n",
       "      <td>NaN</td>\n",
       "      <td>NaN</td>\n",
       "      <td>1.683604</td>\n",
       "      <td>NaN</td>\n",
       "      <td>NaN</td>\n",
       "      <td>-0.332364</td>\n",
       "      <td>NaN</td>\n",
       "      <td>NaN</td>\n",
       "      <td>-0.264154</td>\n",
       "      <td>NaN</td>\n",
       "      <td>NaN</td>\n",
       "      <td>0.378226</td>\n",
       "      <td>NaN</td>\n",
       "    </tr>\n",
       "  </tbody>\n",
       "</table>\n",
       "</div>"
      ],
      "text/plain": [
       "                   0                             1                      \\\n",
       "state        Alabama    Alaska   Arizona   Alabama    Alaska   Arizona   \n",
       "index                                                                    \n",
       "2015-01-31  1.280106       NaN       NaN -0.466317       NaN       NaN   \n",
       "2015-02-28       NaN  0.371117       NaN       NaN -0.685107       NaN   \n",
       "2015-03-31       NaN       NaN  0.035069       NaN       NaN  0.781747   \n",
       "2015-04-30  2.238615       NaN       NaN -1.368774       NaN       NaN   \n",
       "2015-05-31       NaN  0.676634       NaN       NaN  1.683604       NaN   \n",
       "\n",
       "                   2                             3                      \\\n",
       "state        Alabama    Alaska   Arizona   Alabama    Alaska   Arizona   \n",
       "index                                                                    \n",
       "2015-01-31  1.732939       NaN       NaN  1.081218       NaN       NaN   \n",
       "2015-02-28       NaN  0.918546       NaN       NaN -0.263773       NaN   \n",
       "2015-03-31       NaN       NaN  1.813453       NaN       NaN  0.721023   \n",
       "2015-04-30 -1.028821       NaN       NaN  2.387643       NaN       NaN   \n",
       "2015-05-31       NaN -0.332364       NaN       NaN -0.264154       NaN   \n",
       "\n",
       "                   4                      \n",
       "state        Alabama    Alaska   Arizona  \n",
       "index                                     \n",
       "2015-01-31  0.154248       NaN       NaN  \n",
       "2015-02-28       NaN -0.590534       NaN  \n",
       "2015-03-31       NaN       NaN  0.082303  \n",
       "2015-04-30  1.387509       NaN       NaN  \n",
       "2015-05-31       NaN  0.378226       NaN  "
      ]
     },
     "execution_count": 34,
     "metadata": {},
     "output_type": "execute_result"
    }
   ],
   "source": [
    "#Can also have multi-index in columns.\n",
    "df.reset_index().set_index(['index', 'state']).unstack().head()"
   ]
  },
  {
   "cell_type": "code",
   "execution_count": null,
   "metadata": {
    "collapsed": false
   },
   "outputs": [],
   "source": [
    "df.head()"
   ]
  },
  {
   "cell_type": "markdown",
   "metadata": {},
   "source": [
    "#split-apply-combine"
   ]
  },
  {
   "cell_type": "code",
   "execution_count": 35,
   "metadata": {
    "collapsed": false
   },
   "outputs": [
    {
     "data": {
      "text/html": [
       "<div>\n",
       "<table border=\"1\" class=\"dataframe\">\n",
       "  <thead>\n",
       "    <tr style=\"text-align: right;\">\n",
       "      <th></th>\n",
       "      <th>0</th>\n",
       "      <th>1</th>\n",
       "      <th>2</th>\n",
       "      <th>3</th>\n",
       "      <th>4</th>\n",
       "    </tr>\n",
       "    <tr>\n",
       "      <th>index</th>\n",
       "      <th></th>\n",
       "      <th></th>\n",
       "      <th></th>\n",
       "      <th></th>\n",
       "      <th></th>\n",
       "    </tr>\n",
       "  </thead>\n",
       "  <tbody>\n",
       "    <tr>\n",
       "      <th>2015-01-31</th>\n",
       "      <td>1.280106</td>\n",
       "      <td>-0.466317</td>\n",
       "      <td>1.732939</td>\n",
       "      <td>1.081218</td>\n",
       "      <td>0.154248</td>\n",
       "    </tr>\n",
       "    <tr>\n",
       "      <th>2015-02-28</th>\n",
       "      <td>0.371117</td>\n",
       "      <td>-0.685107</td>\n",
       "      <td>0.918546</td>\n",
       "      <td>-0.263773</td>\n",
       "      <td>-0.590534</td>\n",
       "    </tr>\n",
       "    <tr>\n",
       "      <th>2015-03-31</th>\n",
       "      <td>0.035069</td>\n",
       "      <td>0.781747</td>\n",
       "      <td>1.813453</td>\n",
       "      <td>0.721023</td>\n",
       "      <td>0.082303</td>\n",
       "    </tr>\n",
       "    <tr>\n",
       "      <th>2015-04-30</th>\n",
       "      <td>2.238615</td>\n",
       "      <td>-1.368774</td>\n",
       "      <td>-1.028821</td>\n",
       "      <td>2.387643</td>\n",
       "      <td>1.387509</td>\n",
       "    </tr>\n",
       "    <tr>\n",
       "      <th>2015-05-31</th>\n",
       "      <td>0.676634</td>\n",
       "      <td>1.683604</td>\n",
       "      <td>-0.332364</td>\n",
       "      <td>-0.264154</td>\n",
       "      <td>0.378226</td>\n",
       "    </tr>\n",
       "  </tbody>\n",
       "</table>\n",
       "</div>"
      ],
      "text/plain": [
       "                   0         1         2         3         4\n",
       "index                                                       \n",
       "2015-01-31  1.280106 -0.466317  1.732939  1.081218  0.154248\n",
       "2015-02-28  0.371117 -0.685107  0.918546 -0.263773 -0.590534\n",
       "2015-03-31  0.035069  0.781747  1.813453  0.721023  0.082303\n",
       "2015-04-30  2.238615 -1.368774 -1.028821  2.387643  1.387509\n",
       "2015-05-31  0.676634  1.683604 -0.332364 -0.264154  0.378226"
      ]
     },
     "execution_count": 35,
     "metadata": {},
     "output_type": "execute_result"
    }
   ],
   "source": [
    "df.groupby(level=1).mean().head()"
   ]
  },
  {
   "cell_type": "code",
   "execution_count": 36,
   "metadata": {
    "collapsed": false
   },
   "outputs": [
    {
     "data": {
      "text/html": [
       "<div>\n",
       "<table border=\"1\" class=\"dataframe\">\n",
       "  <thead>\n",
       "    <tr style=\"text-align: right;\">\n",
       "      <th></th>\n",
       "      <th>0</th>\n",
       "      <th>1</th>\n",
       "      <th>2</th>\n",
       "      <th>3</th>\n",
       "      <th>4</th>\n",
       "    </tr>\n",
       "    <tr>\n",
       "      <th>state</th>\n",
       "      <th></th>\n",
       "      <th></th>\n",
       "      <th></th>\n",
       "      <th></th>\n",
       "      <th></th>\n",
       "    </tr>\n",
       "  </thead>\n",
       "  <tbody>\n",
       "    <tr>\n",
       "      <th>Alabama</th>\n",
       "      <td>0.173062</td>\n",
       "      <td>-0.049322</td>\n",
       "      <td>0.030444</td>\n",
       "      <td>-0.024764</td>\n",
       "      <td>0.101674</td>\n",
       "    </tr>\n",
       "    <tr>\n",
       "      <th>Alaska</th>\n",
       "      <td>-0.118404</td>\n",
       "      <td>0.433872</td>\n",
       "      <td>0.164598</td>\n",
       "      <td>-0.137009</td>\n",
       "      <td>-0.138930</td>\n",
       "    </tr>\n",
       "    <tr>\n",
       "      <th>Arizona</th>\n",
       "      <td>-0.441754</td>\n",
       "      <td>0.118957</td>\n",
       "      <td>0.239654</td>\n",
       "      <td>0.104140</td>\n",
       "      <td>-0.130351</td>\n",
       "    </tr>\n",
       "  </tbody>\n",
       "</table>\n",
       "</div>"
      ],
      "text/plain": [
       "                0         1         2         3         4\n",
       "state                                                    \n",
       "Alabama  0.173062 -0.049322  0.030444 -0.024764  0.101674\n",
       "Alaska  -0.118404  0.433872  0.164598 -0.137009 -0.138930\n",
       "Arizona -0.441754  0.118957  0.239654  0.104140 -0.130351"
      ]
     },
     "execution_count": 36,
     "metadata": {},
     "output_type": "execute_result"
    }
   ],
   "source": [
    "df.groupby(level=0).mean().head() #Groupby index"
   ]
  },
  {
   "cell_type": "code",
   "execution_count": 37,
   "metadata": {
    "collapsed": false
   },
   "outputs": [
    {
     "data": {
      "text/html": [
       "<div>\n",
       "<table border=\"1\" class=\"dataframe\">\n",
       "  <thead>\n",
       "    <tr style=\"text-align: right;\">\n",
       "      <th></th>\n",
       "      <th>0</th>\n",
       "      <th>1</th>\n",
       "      <th>2</th>\n",
       "      <th>3</th>\n",
       "      <th>4</th>\n",
       "    </tr>\n",
       "    <tr>\n",
       "      <th>state</th>\n",
       "      <th></th>\n",
       "      <th></th>\n",
       "      <th></th>\n",
       "      <th></th>\n",
       "      <th></th>\n",
       "    </tr>\n",
       "  </thead>\n",
       "  <tbody>\n",
       "    <tr>\n",
       "      <th>Alabama</th>\n",
       "      <td>0.173062</td>\n",
       "      <td>-0.049322</td>\n",
       "      <td>0.030444</td>\n",
       "      <td>-0.024764</td>\n",
       "      <td>0.101674</td>\n",
       "    </tr>\n",
       "    <tr>\n",
       "      <th>Alaska</th>\n",
       "      <td>-0.118404</td>\n",
       "      <td>0.433872</td>\n",
       "      <td>0.164598</td>\n",
       "      <td>-0.137009</td>\n",
       "      <td>-0.138930</td>\n",
       "    </tr>\n",
       "    <tr>\n",
       "      <th>Arizona</th>\n",
       "      <td>-0.441754</td>\n",
       "      <td>0.118957</td>\n",
       "      <td>0.239654</td>\n",
       "      <td>0.104140</td>\n",
       "      <td>-0.130351</td>\n",
       "    </tr>\n",
       "  </tbody>\n",
       "</table>\n",
       "</div>"
      ],
      "text/plain": [
       "                0         1         2         3         4\n",
       "state                                                    \n",
       "Alabama  0.173062 -0.049322  0.030444 -0.024764  0.101674\n",
       "Alaska  -0.118404  0.433872  0.164598 -0.137009 -0.138930\n",
       "Arizona -0.441754  0.118957  0.239654  0.104140 -0.130351"
      ]
     },
     "execution_count": 37,
     "metadata": {},
     "output_type": "execute_result"
    }
   ],
   "source": [
    "#Groupby doesn't have to be on index.\n",
    "df.reset_index().groupby('state').mean().head()\n",
    "#'state' could be a list of columns to group on."
   ]
  },
  {
   "cell_type": "code",
   "execution_count": 38,
   "metadata": {
    "collapsed": false
   },
   "outputs": [
    {
     "data": {
      "text/html": [
       "<div>\n",
       "<table border=\"1\" class=\"dataframe\">\n",
       "  <thead>\n",
       "    <tr style=\"text-align: right;\">\n",
       "      <th></th>\n",
       "      <th></th>\n",
       "      <th>0</th>\n",
       "      <th>1</th>\n",
       "      <th>2</th>\n",
       "      <th>3</th>\n",
       "      <th>4</th>\n",
       "    </tr>\n",
       "    <tr>\n",
       "      <th>state</th>\n",
       "      <th>index</th>\n",
       "      <th></th>\n",
       "      <th></th>\n",
       "      <th></th>\n",
       "      <th></th>\n",
       "      <th></th>\n",
       "    </tr>\n",
       "  </thead>\n",
       "  <tbody>\n",
       "    <tr>\n",
       "      <th>Alabama</th>\n",
       "      <th>2015-01-31</th>\n",
       "      <td>1.280106</td>\n",
       "      <td>-0.466317</td>\n",
       "      <td>1.732939</td>\n",
       "      <td>1.081218</td>\n",
       "      <td>0.154248</td>\n",
       "    </tr>\n",
       "    <tr>\n",
       "      <th>Alaska</th>\n",
       "      <th>2015-02-28</th>\n",
       "      <td>0.371117</td>\n",
       "      <td>-0.685107</td>\n",
       "      <td>0.918546</td>\n",
       "      <td>-0.263773</td>\n",
       "      <td>-0.590534</td>\n",
       "    </tr>\n",
       "    <tr>\n",
       "      <th>Arizona</th>\n",
       "      <th>2015-03-31</th>\n",
       "      <td>0.035069</td>\n",
       "      <td>0.781747</td>\n",
       "      <td>1.813453</td>\n",
       "      <td>0.721023</td>\n",
       "      <td>0.082303</td>\n",
       "    </tr>\n",
       "    <tr>\n",
       "      <th>Alabama</th>\n",
       "      <th>2015-04-30</th>\n",
       "      <td>2.238615</td>\n",
       "      <td>-1.368774</td>\n",
       "      <td>-1.028821</td>\n",
       "      <td>2.387643</td>\n",
       "      <td>1.387509</td>\n",
       "    </tr>\n",
       "    <tr>\n",
       "      <th>Alaska</th>\n",
       "      <th>2015-05-31</th>\n",
       "      <td>0.676634</td>\n",
       "      <td>1.683604</td>\n",
       "      <td>-0.332364</td>\n",
       "      <td>-0.264154</td>\n",
       "      <td>0.378226</td>\n",
       "    </tr>\n",
       "    <tr>\n",
       "      <th>Arizona</th>\n",
       "      <th>2015-06-30</th>\n",
       "      <td>0.795351</td>\n",
       "      <td>0.297730</td>\n",
       "      <td>1.697800</td>\n",
       "      <td>-0.802927</td>\n",
       "      <td>-0.185184</td>\n",
       "    </tr>\n",
       "    <tr>\n",
       "      <th>Alabama</th>\n",
       "      <th>2015-07-31</th>\n",
       "      <td>-0.402826</td>\n",
       "      <td>1.332836</td>\n",
       "      <td>0.734681</td>\n",
       "      <td>-1.922603</td>\n",
       "      <td>-2.260875</td>\n",
       "    </tr>\n",
       "    <tr>\n",
       "      <th>Alaska</th>\n",
       "      <th>2015-08-31</th>\n",
       "      <td>-0.934453</td>\n",
       "      <td>0.615194</td>\n",
       "      <td>1.220205</td>\n",
       "      <td>1.081601</td>\n",
       "      <td>1.398518</td>\n",
       "    </tr>\n",
       "    <tr>\n",
       "      <th>Arizona</th>\n",
       "      <th>2015-09-30</th>\n",
       "      <td>-0.088721</td>\n",
       "      <td>-1.446514</td>\n",
       "      <td>1.043860</td>\n",
       "      <td>1.311307</td>\n",
       "      <td>0.138018</td>\n",
       "    </tr>\n",
       "    <tr>\n",
       "      <th>Alabama</th>\n",
       "      <th>2015-10-31</th>\n",
       "      <td>-0.950359</td>\n",
       "      <td>0.118545</td>\n",
       "      <td>0.866325</td>\n",
       "      <td>-0.105059</td>\n",
       "      <td>0.243204</td>\n",
       "    </tr>\n",
       "    <tr>\n",
       "      <th>Alaska</th>\n",
       "      <th>2015-11-30</th>\n",
       "      <td>0.227046</td>\n",
       "      <td>1.093313</td>\n",
       "      <td>0.665626</td>\n",
       "      <td>0.113091</td>\n",
       "      <td>-0.494024</td>\n",
       "    </tr>\n",
       "    <tr>\n",
       "      <th>Arizona</th>\n",
       "      <th>2015-12-31</th>\n",
       "      <td>0.289223</td>\n",
       "      <td>2.824596</td>\n",
       "      <td>0.153747</td>\n",
       "      <td>-0.561164</td>\n",
       "      <td>-1.056768</td>\n",
       "    </tr>\n",
       "    <tr>\n",
       "      <th>Alabama</th>\n",
       "      <th>2016-01-31</th>\n",
       "      <td>0.187560</td>\n",
       "      <td>0.142747</td>\n",
       "      <td>-1.085881</td>\n",
       "      <td>0.918004</td>\n",
       "      <td>0.356604</td>\n",
       "    </tr>\n",
       "    <tr>\n",
       "      <th>Alaska</th>\n",
       "      <th>2016-02-29</th>\n",
       "      <td>0.220109</td>\n",
       "      <td>-0.510412</td>\n",
       "      <td>0.329074</td>\n",
       "      <td>-1.045410</td>\n",
       "      <td>1.598416</td>\n",
       "    </tr>\n",
       "    <tr>\n",
       "      <th>Arizona</th>\n",
       "      <th>2016-03-31</th>\n",
       "      <td>-1.908878</td>\n",
       "      <td>1.311009</td>\n",
       "      <td>0.819012</td>\n",
       "      <td>1.006281</td>\n",
       "      <td>-0.093818</td>\n",
       "    </tr>\n",
       "    <tr>\n",
       "      <th>Alabama</th>\n",
       "      <th>2016-04-30</th>\n",
       "      <td>0.824048</td>\n",
       "      <td>-0.372896</td>\n",
       "      <td>-0.263442</td>\n",
       "      <td>-0.715810</td>\n",
       "      <td>-0.096098</td>\n",
       "    </tr>\n",
       "    <tr>\n",
       "      <th>Alaska</th>\n",
       "      <th>2016-05-31</th>\n",
       "      <td>0.827622</td>\n",
       "      <td>0.067059</td>\n",
       "      <td>0.591928</td>\n",
       "      <td>0.899658</td>\n",
       "      <td>0.424564</td>\n",
       "    </tr>\n",
       "    <tr>\n",
       "      <th>Arizona</th>\n",
       "      <th>2016-06-30</th>\n",
       "      <td>-1.486221</td>\n",
       "      <td>-0.107266</td>\n",
       "      <td>-0.948520</td>\n",
       "      <td>-0.340265</td>\n",
       "      <td>-0.579981</td>\n",
       "    </tr>\n",
       "    <tr>\n",
       "      <th>Alabama</th>\n",
       "      <th>2016-07-31</th>\n",
       "      <td>0.860077</td>\n",
       "      <td>0.580564</td>\n",
       "      <td>0.880607</td>\n",
       "      <td>-0.036217</td>\n",
       "      <td>-1.310277</td>\n",
       "    </tr>\n",
       "    <tr>\n",
       "      <th>Alaska</th>\n",
       "      <th>2016-08-31</th>\n",
       "      <td>-0.798869</td>\n",
       "      <td>-0.189988</td>\n",
       "      <td>-0.356600</td>\n",
       "      <td>-0.645187</td>\n",
       "      <td>-0.658941</td>\n",
       "    </tr>\n",
       "    <tr>\n",
       "      <th>Arizona</th>\n",
       "      <th>2016-09-30</th>\n",
       "      <td>-1.033567</td>\n",
       "      <td>0.194118</td>\n",
       "      <td>0.113976</td>\n",
       "      <td>0.160082</td>\n",
       "      <td>0.595881</td>\n",
       "    </tr>\n",
       "    <tr>\n",
       "      <th>Alabama</th>\n",
       "      <th>2016-10-31</th>\n",
       "      <td>-1.145234</td>\n",
       "      <td>0.131124</td>\n",
       "      <td>-1.145703</td>\n",
       "      <td>-1.179872</td>\n",
       "      <td>1.955026</td>\n",
       "    </tr>\n",
       "    <tr>\n",
       "      <th>Alaska</th>\n",
       "      <th>2016-11-30</th>\n",
       "      <td>-0.194113</td>\n",
       "      <td>0.393457</td>\n",
       "      <td>-0.328804</td>\n",
       "      <td>0.099277</td>\n",
       "      <td>-1.459123</td>\n",
       "    </tr>\n",
       "    <tr>\n",
       "      <th>Arizona</th>\n",
       "      <th>2016-12-31</th>\n",
       "      <td>0.796830</td>\n",
       "      <td>-1.936757</td>\n",
       "      <td>-0.528099</td>\n",
       "      <td>-0.077209</td>\n",
       "      <td>0.049481</td>\n",
       "    </tr>\n",
       "    <tr>\n",
       "      <th>Alabama</th>\n",
       "      <th>2017-01-31</th>\n",
       "      <td>-0.198236</td>\n",
       "      <td>-0.594908</td>\n",
       "      <td>0.621816</td>\n",
       "      <td>-0.739477</td>\n",
       "      <td>-0.138303</td>\n",
       "    </tr>\n",
       "    <tr>\n",
       "      <th>Alaska</th>\n",
       "      <th>2017-02-28</th>\n",
       "      <td>-1.059717</td>\n",
       "      <td>1.458368</td>\n",
       "      <td>-0.402904</td>\n",
       "      <td>-1.372683</td>\n",
       "      <td>-1.128445</td>\n",
       "    </tr>\n",
       "    <tr>\n",
       "      <th>Arizona</th>\n",
       "      <th>2017-03-31</th>\n",
       "      <td>-0.893291</td>\n",
       "      <td>-0.424985</td>\n",
       "      <td>-1.445839</td>\n",
       "      <td>0.275924</td>\n",
       "      <td>-0.311889</td>\n",
       "    </tr>\n",
       "    <tr>\n",
       "      <th>Alabama</th>\n",
       "      <th>2017-04-30</th>\n",
       "      <td>-0.963128</td>\n",
       "      <td>0.003860</td>\n",
       "      <td>-1.008082</td>\n",
       "      <td>0.064529</td>\n",
       "      <td>0.725707</td>\n",
       "    </tr>\n",
       "    <tr>\n",
       "      <th>Alaska</th>\n",
       "      <th>2017-05-31</th>\n",
       "      <td>-0.519417</td>\n",
       "      <td>0.413231</td>\n",
       "      <td>-0.658728</td>\n",
       "      <td>0.027492</td>\n",
       "      <td>-0.857961</td>\n",
       "    </tr>\n",
       "    <tr>\n",
       "      <th>Arizona</th>\n",
       "      <th>2017-06-30</th>\n",
       "      <td>-0.923337</td>\n",
       "      <td>-0.304107</td>\n",
       "      <td>-0.322856</td>\n",
       "      <td>-0.651650</td>\n",
       "      <td>0.058451</td>\n",
       "    </tr>\n",
       "  </tbody>\n",
       "</table>\n",
       "</div>"
      ],
      "text/plain": [
       "                           0         1         2         3         4\n",
       "state   index                                                       \n",
       "Alabama 2015-01-31  1.280106 -0.466317  1.732939  1.081218  0.154248\n",
       "Alaska  2015-02-28  0.371117 -0.685107  0.918546 -0.263773 -0.590534\n",
       "Arizona 2015-03-31  0.035069  0.781747  1.813453  0.721023  0.082303\n",
       "Alabama 2015-04-30  2.238615 -1.368774 -1.028821  2.387643  1.387509\n",
       "Alaska  2015-05-31  0.676634  1.683604 -0.332364 -0.264154  0.378226\n",
       "Arizona 2015-06-30  0.795351  0.297730  1.697800 -0.802927 -0.185184\n",
       "Alabama 2015-07-31 -0.402826  1.332836  0.734681 -1.922603 -2.260875\n",
       "Alaska  2015-08-31 -0.934453  0.615194  1.220205  1.081601  1.398518\n",
       "Arizona 2015-09-30 -0.088721 -1.446514  1.043860  1.311307  0.138018\n",
       "Alabama 2015-10-31 -0.950359  0.118545  0.866325 -0.105059  0.243204\n",
       "Alaska  2015-11-30  0.227046  1.093313  0.665626  0.113091 -0.494024\n",
       "Arizona 2015-12-31  0.289223  2.824596  0.153747 -0.561164 -1.056768\n",
       "Alabama 2016-01-31  0.187560  0.142747 -1.085881  0.918004  0.356604\n",
       "Alaska  2016-02-29  0.220109 -0.510412  0.329074 -1.045410  1.598416\n",
       "Arizona 2016-03-31 -1.908878  1.311009  0.819012  1.006281 -0.093818\n",
       "Alabama 2016-04-30  0.824048 -0.372896 -0.263442 -0.715810 -0.096098\n",
       "Alaska  2016-05-31  0.827622  0.067059  0.591928  0.899658  0.424564\n",
       "Arizona 2016-06-30 -1.486221 -0.107266 -0.948520 -0.340265 -0.579981\n",
       "Alabama 2016-07-31  0.860077  0.580564  0.880607 -0.036217 -1.310277\n",
       "Alaska  2016-08-31 -0.798869 -0.189988 -0.356600 -0.645187 -0.658941\n",
       "Arizona 2016-09-30 -1.033567  0.194118  0.113976  0.160082  0.595881\n",
       "Alabama 2016-10-31 -1.145234  0.131124 -1.145703 -1.179872  1.955026\n",
       "Alaska  2016-11-30 -0.194113  0.393457 -0.328804  0.099277 -1.459123\n",
       "Arizona 2016-12-31  0.796830 -1.936757 -0.528099 -0.077209  0.049481\n",
       "Alabama 2017-01-31 -0.198236 -0.594908  0.621816 -0.739477 -0.138303\n",
       "Alaska  2017-02-28 -1.059717  1.458368 -0.402904 -1.372683 -1.128445\n",
       "Arizona 2017-03-31 -0.893291 -0.424985 -1.445839  0.275924 -0.311889\n",
       "Alabama 2017-04-30 -0.963128  0.003860 -1.008082  0.064529  0.725707\n",
       "Alaska  2017-05-31 -0.519417  0.413231 -0.658728  0.027492 -0.857961\n",
       "Arizona 2017-06-30 -0.923337 -0.304107 -0.322856 -0.651650  0.058451"
      ]
     },
     "execution_count": 38,
     "metadata": {},
     "output_type": "execute_result"
    }
   ],
   "source": [
    "df"
   ]
  },
  {
   "cell_type": "code",
   "execution_count": 39,
   "metadata": {
    "collapsed": false
   },
   "outputs": [],
   "source": [
    "#Apply\n",
    "g = df.groupby(level=0)"
   ]
  },
  {
   "cell_type": "code",
   "execution_count": 40,
   "metadata": {
    "collapsed": false
   },
   "outputs": [
    {
     "data": {
      "text/html": [
       "<div>\n",
       "<table border=\"1\" class=\"dataframe\">\n",
       "  <thead>\n",
       "    <tr style=\"text-align: right;\">\n",
       "      <th></th>\n",
       "      <th>0</th>\n",
       "      <th>1</th>\n",
       "      <th>2</th>\n",
       "      <th>3</th>\n",
       "      <th>4</th>\n",
       "    </tr>\n",
       "    <tr>\n",
       "      <th>state</th>\n",
       "      <th></th>\n",
       "      <th></th>\n",
       "      <th></th>\n",
       "      <th></th>\n",
       "      <th></th>\n",
       "    </tr>\n",
       "  </thead>\n",
       "  <tbody>\n",
       "    <tr>\n",
       "      <th>Alabama</th>\n",
       "      <td>0.173062</td>\n",
       "      <td>-0.049322</td>\n",
       "      <td>0.030444</td>\n",
       "      <td>-0.024764</td>\n",
       "      <td>0.101674</td>\n",
       "    </tr>\n",
       "    <tr>\n",
       "      <th>Alaska</th>\n",
       "      <td>-0.118404</td>\n",
       "      <td>0.433872</td>\n",
       "      <td>0.164598</td>\n",
       "      <td>-0.137009</td>\n",
       "      <td>-0.138930</td>\n",
       "    </tr>\n",
       "    <tr>\n",
       "      <th>Arizona</th>\n",
       "      <td>-0.441754</td>\n",
       "      <td>0.118957</td>\n",
       "      <td>0.239654</td>\n",
       "      <td>0.104140</td>\n",
       "      <td>-0.130351</td>\n",
       "    </tr>\n",
       "  </tbody>\n",
       "</table>\n",
       "</div>"
      ],
      "text/plain": [
       "                0         1         2         3         4\n",
       "state                                                    \n",
       "Alabama  0.173062 -0.049322  0.030444 -0.024764  0.101674\n",
       "Alaska  -0.118404  0.433872  0.164598 -0.137009 -0.138930\n",
       "Arizona -0.441754  0.118957  0.239654  0.104140 -0.130351"
      ]
     },
     "execution_count": 40,
     "metadata": {},
     "output_type": "execute_result"
    }
   ],
   "source": [
    "#If one row for each index.\n",
    "g.aggregate(np.mean)"
   ]
  },
  {
   "cell_type": "code",
   "execution_count": 41,
   "metadata": {
    "collapsed": false
   },
   "outputs": [
    {
     "data": {
      "text/html": [
       "<div>\n",
       "<table border=\"1\" class=\"dataframe\">\n",
       "  <thead>\n",
       "    <tr style=\"text-align: right;\">\n",
       "      <th></th>\n",
       "      <th></th>\n",
       "      <th>0</th>\n",
       "      <th>1</th>\n",
       "      <th>2</th>\n",
       "      <th>3</th>\n",
       "      <th>4</th>\n",
       "    </tr>\n",
       "    <tr>\n",
       "      <th>state</th>\n",
       "      <th>index</th>\n",
       "      <th></th>\n",
       "      <th></th>\n",
       "      <th></th>\n",
       "      <th></th>\n",
       "      <th></th>\n",
       "    </tr>\n",
       "  </thead>\n",
       "  <tbody>\n",
       "    <tr>\n",
       "      <th>Alabama</th>\n",
       "      <th>2015-01-31</th>\n",
       "      <td>0.994669</td>\n",
       "      <td>-0.575522</td>\n",
       "      <td>1.608540</td>\n",
       "      <td>0.890882</td>\n",
       "      <td>0.043350</td>\n",
       "    </tr>\n",
       "    <tr>\n",
       "      <th>Alaska</th>\n",
       "      <th>2015-02-28</th>\n",
       "      <td>0.718110</td>\n",
       "      <td>-1.400090</td>\n",
       "      <td>1.144534</td>\n",
       "      <td>-0.164450</td>\n",
       "      <td>-0.432632</td>\n",
       "    </tr>\n",
       "    <tr>\n",
       "      <th>Arizona</th>\n",
       "      <th>2015-03-31</th>\n",
       "      <td>0.506373</td>\n",
       "      <td>0.490678</td>\n",
       "      <td>1.438868</td>\n",
       "      <td>0.849020</td>\n",
       "      <td>0.474147</td>\n",
       "    </tr>\n",
       "    <tr>\n",
       "      <th>Alabama</th>\n",
       "      <th>2015-04-30</th>\n",
       "      <td>1.855881</td>\n",
       "      <td>-1.821059</td>\n",
       "      <td>-1.000808</td>\n",
       "      <td>1.943224</td>\n",
       "      <td>1.060240</td>\n",
       "    </tr>\n",
       "    <tr>\n",
       "      <th>Alaska</th>\n",
       "      <th>2015-05-31</th>\n",
       "      <td>1.166292</td>\n",
       "      <td>1.563691</td>\n",
       "      <td>-0.754415</td>\n",
       "      <td>-0.164945</td>\n",
       "      <td>0.495432</td>\n",
       "    </tr>\n",
       "  </tbody>\n",
       "</table>\n",
       "</div>"
      ],
      "text/plain": [
       "                           0         1         2         3         4\n",
       "state   index                                                       \n",
       "Alabama 2015-01-31  0.994669 -0.575522  1.608540  0.890882  0.043350\n",
       "Alaska  2015-02-28  0.718110 -1.400090  1.144534 -0.164450 -0.432632\n",
       "Arizona 2015-03-31  0.506373  0.490678  1.438868  0.849020  0.474147\n",
       "Alabama 2015-04-30  1.855881 -1.821059 -1.000808  1.943224  1.060240\n",
       "Alaska  2015-05-31  1.166292  1.563691 -0.754415 -0.164945  0.495432"
      ]
     },
     "execution_count": 41,
     "metadata": {},
     "output_type": "execute_result"
    }
   ],
   "source": [
    "#If same shape as original:\n",
    "g.transform(lambda x: (x - x.mean())/x.std()).head()"
   ]
  },
  {
   "cell_type": "code",
   "execution_count": 42,
   "metadata": {
    "collapsed": false
   },
   "outputs": [
    {
     "data": {
      "text/html": [
       "<div>\n",
       "<table border=\"1\" class=\"dataframe\">\n",
       "  <thead>\n",
       "    <tr style=\"text-align: right;\">\n",
       "      <th></th>\n",
       "      <th></th>\n",
       "      <th>0</th>\n",
       "      <th>1</th>\n",
       "      <th>2</th>\n",
       "      <th>3</th>\n",
       "      <th>4</th>\n",
       "    </tr>\n",
       "    <tr>\n",
       "      <th>state</th>\n",
       "      <th></th>\n",
       "      <th></th>\n",
       "      <th></th>\n",
       "      <th></th>\n",
       "      <th></th>\n",
       "      <th></th>\n",
       "    </tr>\n",
       "  </thead>\n",
       "  <tbody>\n",
       "    <tr>\n",
       "      <th rowspan=\"8\" valign=\"top\">Alabama</th>\n",
       "      <th>count</th>\n",
       "      <td>10.000000</td>\n",
       "      <td>10.000000</td>\n",
       "      <td>10.000000</td>\n",
       "      <td>10.000000</td>\n",
       "      <td>10.000000</td>\n",
       "    </tr>\n",
       "    <tr>\n",
       "      <th>mean</th>\n",
       "      <td>0.173062</td>\n",
       "      <td>-0.049322</td>\n",
       "      <td>0.030444</td>\n",
       "      <td>-0.024764</td>\n",
       "      <td>0.101674</td>\n",
       "    </tr>\n",
       "    <tr>\n",
       "      <th>std</th>\n",
       "      <td>1.112977</td>\n",
       "      <td>0.724552</td>\n",
       "      <td>1.058410</td>\n",
       "      <td>1.241446</td>\n",
       "      <td>1.212776</td>\n",
       "    </tr>\n",
       "    <tr>\n",
       "      <th>min</th>\n",
       "      <td>-1.145234</td>\n",
       "      <td>-1.368774</td>\n",
       "      <td>-1.145703</td>\n",
       "      <td>-1.922603</td>\n",
       "      <td>-2.260875</td>\n",
       "    </tr>\n",
       "    <tr>\n",
       "      <th>25%</th>\n",
       "      <td>-0.813476</td>\n",
       "      <td>-0.442962</td>\n",
       "      <td>-1.023636</td>\n",
       "      <td>-0.733560</td>\n",
       "      <td>-0.127752</td>\n",
       "    </tr>\n",
       "    <tr>\n",
       "      <th>50%</th>\n",
       "      <td>-0.005338</td>\n",
       "      <td>0.061202</td>\n",
       "      <td>0.179187</td>\n",
       "      <td>-0.070638</td>\n",
       "      <td>0.198726</td>\n",
       "    </tr>\n",
       "    <tr>\n",
       "      <th>75%</th>\n",
       "      <td>0.851070</td>\n",
       "      <td>0.139841</td>\n",
       "      <td>0.833414</td>\n",
       "      <td>0.704635</td>\n",
       "      <td>0.633431</td>\n",
       "    </tr>\n",
       "    <tr>\n",
       "      <th>max</th>\n",
       "      <td>2.238615</td>\n",
       "      <td>1.332836</td>\n",
       "      <td>1.732939</td>\n",
       "      <td>2.387643</td>\n",
       "      <td>1.955026</td>\n",
       "    </tr>\n",
       "    <tr>\n",
       "      <th rowspan=\"4\" valign=\"top\">Alaska</th>\n",
       "      <th>count</th>\n",
       "      <td>10.000000</td>\n",
       "      <td>10.000000</td>\n",
       "      <td>10.000000</td>\n",
       "      <td>10.000000</td>\n",
       "      <td>10.000000</td>\n",
       "    </tr>\n",
       "    <tr>\n",
       "      <th>mean</th>\n",
       "      <td>-0.118404</td>\n",
       "      <td>0.433872</td>\n",
       "      <td>0.164598</td>\n",
       "      <td>-0.137009</td>\n",
       "      <td>-0.138930</td>\n",
       "    </tr>\n",
       "    <tr>\n",
       "      <th>std</th>\n",
       "      <td>0.681680</td>\n",
       "      <td>0.799219</td>\n",
       "      <td>0.658738</td>\n",
       "      <td>0.770836</td>\n",
       "      <td>1.043849</td>\n",
       "    </tr>\n",
       "    <tr>\n",
       "      <th>min</th>\n",
       "      <td>-1.059717</td>\n",
       "      <td>-0.685107</td>\n",
       "      <td>-0.658728</td>\n",
       "      <td>-1.372683</td>\n",
       "      <td>-1.459123</td>\n",
       "    </tr>\n",
       "  </tbody>\n",
       "</table>\n",
       "</div>"
      ],
      "text/plain": [
       "                       0          1          2          3          4\n",
       "state                                                               \n",
       "Alabama count  10.000000  10.000000  10.000000  10.000000  10.000000\n",
       "        mean    0.173062  -0.049322   0.030444  -0.024764   0.101674\n",
       "        std     1.112977   0.724552   1.058410   1.241446   1.212776\n",
       "        min    -1.145234  -1.368774  -1.145703  -1.922603  -2.260875\n",
       "        25%    -0.813476  -0.442962  -1.023636  -0.733560  -0.127752\n",
       "        50%    -0.005338   0.061202   0.179187  -0.070638   0.198726\n",
       "        75%     0.851070   0.139841   0.833414   0.704635   0.633431\n",
       "        max     2.238615   1.332836   1.732939   2.387643   1.955026\n",
       "Alaska  count  10.000000  10.000000  10.000000  10.000000  10.000000\n",
       "        mean   -0.118404   0.433872   0.164598  -0.137009  -0.138930\n",
       "        std     0.681680   0.799219   0.658738   0.770836   1.043849\n",
       "        min    -1.059717  -0.685107  -0.658728  -1.372683  -1.459123"
      ]
     },
     "execution_count": 42,
     "metadata": {},
     "output_type": "execute_result"
    }
   ],
   "source": [
    "#Different index than I started with.\n",
    "g.apply(lambda x: x.describe()).head(12)"
   ]
  },
  {
   "cell_type": "code",
   "execution_count": 51,
   "metadata": {
    "collapsed": false
   },
   "outputs": [
    {
     "data": {
      "text/plain": [
       "[0, 1, 4, 9, 16, 25, 36, 49, 64, 81]"
      ]
     },
     "execution_count": 51,
     "metadata": {},
     "output_type": "execute_result"
    }
   ],
   "source": [
    "mylist = range(10)\n",
    "map(lambda x: x**2, mylist)"
   ]
  },
  {
   "cell_type": "code",
   "execution_count": 53,
   "metadata": {
    "collapsed": false
   },
   "outputs": [
    {
     "data": {
      "text/plain": [
       "array([ 0,  1,  4,  9, 16, 25, 36, 49, 64, 81])"
      ]
     },
     "execution_count": 53,
     "metadata": {},
     "output_type": "execute_result"
    }
   ],
   "source": [
    "mylist = np.arange(10)\n",
    "mylist**2"
   ]
  },
  {
   "cell_type": "code",
   "execution_count": 50,
   "metadata": {
    "collapsed": false
   },
   "outputs": [
    {
     "data": {
      "text/plain": [
       "['i', 'went', 'to']"
      ]
     },
     "execution_count": 50,
     "metadata": {},
     "output_type": "execute_result"
    }
   ],
   "source": [
    "mywords = ['i', 'went', 'to']\n",
    "map(lambda x: x, mywords)"
   ]
  },
  {
   "cell_type": "code",
   "execution_count": 55,
   "metadata": {
    "collapsed": false
   },
   "outputs": [
    {
     "ename": "KeyError",
     "evalue": "'4'",
     "output_type": "error",
     "traceback": [
      "\u001b[0;31m---------------------------------------------------------------------------\u001b[0m",
      "\u001b[0;31mKeyError\u001b[0m                                  Traceback (most recent call last)",
      "\u001b[0;32m<ipython-input-55-a4f84c5bb401>\u001b[0m in \u001b[0;36m<module>\u001b[0;34m()\u001b[0m\n\u001b[0;32m----> 1\u001b[0;31m \u001b[0mdf\u001b[0m\u001b[0;34m[\u001b[0m\u001b[0;34m'4'\u001b[0m\u001b[0;34m]\u001b[0m\u001b[0;34m.\u001b[0m\u001b[0mmap\u001b[0m\u001b[0;34m(\u001b[0m\u001b[0;32mlambda\u001b[0m \u001b[0mx\u001b[0m\u001b[0;34m:\u001b[0m\u001b[0mx\u001b[0m\u001b[0;34m)\u001b[0m\u001b[0;34m\u001b[0m\u001b[0m\n\u001b[0m",
      "\u001b[0;32m/Users/scott/anaconda/lib/python2.7/site-packages/pandas/core/frame.pyc\u001b[0m in \u001b[0;36m__getitem__\u001b[0;34m(self, key)\u001b[0m\n\u001b[1;32m   1912\u001b[0m             \u001b[0;32mreturn\u001b[0m \u001b[0mself\u001b[0m\u001b[0;34m.\u001b[0m\u001b[0m_getitem_multilevel\u001b[0m\u001b[0;34m(\u001b[0m\u001b[0mkey\u001b[0m\u001b[0;34m)\u001b[0m\u001b[0;34m\u001b[0m\u001b[0m\n\u001b[1;32m   1913\u001b[0m         \u001b[0;32melse\u001b[0m\u001b[0;34m:\u001b[0m\u001b[0;34m\u001b[0m\u001b[0m\n\u001b[0;32m-> 1914\u001b[0;31m             \u001b[0;32mreturn\u001b[0m \u001b[0mself\u001b[0m\u001b[0;34m.\u001b[0m\u001b[0m_getitem_column\u001b[0m\u001b[0;34m(\u001b[0m\u001b[0mkey\u001b[0m\u001b[0;34m)\u001b[0m\u001b[0;34m\u001b[0m\u001b[0m\n\u001b[0m\u001b[1;32m   1915\u001b[0m \u001b[0;34m\u001b[0m\u001b[0m\n\u001b[1;32m   1916\u001b[0m     \u001b[0;32mdef\u001b[0m \u001b[0m_getitem_column\u001b[0m\u001b[0;34m(\u001b[0m\u001b[0mself\u001b[0m\u001b[0;34m,\u001b[0m \u001b[0mkey\u001b[0m\u001b[0;34m)\u001b[0m\u001b[0;34m:\u001b[0m\u001b[0;34m\u001b[0m\u001b[0m\n",
      "\u001b[0;32m/Users/scott/anaconda/lib/python2.7/site-packages/pandas/core/frame.pyc\u001b[0m in \u001b[0;36m_getitem_column\u001b[0;34m(self, key)\u001b[0m\n\u001b[1;32m   1919\u001b[0m         \u001b[0;31m# get column\u001b[0m\u001b[0;34m\u001b[0m\u001b[0;34m\u001b[0m\u001b[0m\n\u001b[1;32m   1920\u001b[0m         \u001b[0;32mif\u001b[0m \u001b[0mself\u001b[0m\u001b[0;34m.\u001b[0m\u001b[0mcolumns\u001b[0m\u001b[0;34m.\u001b[0m\u001b[0mis_unique\u001b[0m\u001b[0;34m:\u001b[0m\u001b[0;34m\u001b[0m\u001b[0m\n\u001b[0;32m-> 1921\u001b[0;31m             \u001b[0;32mreturn\u001b[0m \u001b[0mself\u001b[0m\u001b[0;34m.\u001b[0m\u001b[0m_get_item_cache\u001b[0m\u001b[0;34m(\u001b[0m\u001b[0mkey\u001b[0m\u001b[0;34m)\u001b[0m\u001b[0;34m\u001b[0m\u001b[0m\n\u001b[0m\u001b[1;32m   1922\u001b[0m \u001b[0;34m\u001b[0m\u001b[0m\n\u001b[1;32m   1923\u001b[0m         \u001b[0;31m# duplicate columns & possible reduce dimensionaility\u001b[0m\u001b[0;34m\u001b[0m\u001b[0;34m\u001b[0m\u001b[0m\n",
      "\u001b[0;32m/Users/scott/anaconda/lib/python2.7/site-packages/pandas/core/generic.pyc\u001b[0m in \u001b[0;36m_get_item_cache\u001b[0;34m(self, item)\u001b[0m\n\u001b[1;32m   1088\u001b[0m         \u001b[0mres\u001b[0m \u001b[0;34m=\u001b[0m \u001b[0mcache\u001b[0m\u001b[0;34m.\u001b[0m\u001b[0mget\u001b[0m\u001b[0;34m(\u001b[0m\u001b[0mitem\u001b[0m\u001b[0;34m)\u001b[0m\u001b[0;34m\u001b[0m\u001b[0m\n\u001b[1;32m   1089\u001b[0m         \u001b[0;32mif\u001b[0m \u001b[0mres\u001b[0m \u001b[0;32mis\u001b[0m \u001b[0mNone\u001b[0m\u001b[0;34m:\u001b[0m\u001b[0;34m\u001b[0m\u001b[0m\n\u001b[0;32m-> 1090\u001b[0;31m             \u001b[0mvalues\u001b[0m \u001b[0;34m=\u001b[0m \u001b[0mself\u001b[0m\u001b[0;34m.\u001b[0m\u001b[0m_data\u001b[0m\u001b[0;34m.\u001b[0m\u001b[0mget\u001b[0m\u001b[0;34m(\u001b[0m\u001b[0mitem\u001b[0m\u001b[0;34m)\u001b[0m\u001b[0;34m\u001b[0m\u001b[0m\n\u001b[0m\u001b[1;32m   1091\u001b[0m             \u001b[0mres\u001b[0m \u001b[0;34m=\u001b[0m \u001b[0mself\u001b[0m\u001b[0;34m.\u001b[0m\u001b[0m_box_item_values\u001b[0m\u001b[0;34m(\u001b[0m\u001b[0mitem\u001b[0m\u001b[0;34m,\u001b[0m \u001b[0mvalues\u001b[0m\u001b[0;34m)\u001b[0m\u001b[0;34m\u001b[0m\u001b[0m\n\u001b[1;32m   1092\u001b[0m             \u001b[0mcache\u001b[0m\u001b[0;34m[\u001b[0m\u001b[0mitem\u001b[0m\u001b[0;34m]\u001b[0m \u001b[0;34m=\u001b[0m \u001b[0mres\u001b[0m\u001b[0;34m\u001b[0m\u001b[0m\n",
      "\u001b[0;32m/Users/scott/anaconda/lib/python2.7/site-packages/pandas/core/internals.pyc\u001b[0m in \u001b[0;36mget\u001b[0;34m(self, item, fastpath)\u001b[0m\n\u001b[1;32m   3100\u001b[0m \u001b[0;34m\u001b[0m\u001b[0m\n\u001b[1;32m   3101\u001b[0m             \u001b[0;32mif\u001b[0m \u001b[0;32mnot\u001b[0m \u001b[0misnull\u001b[0m\u001b[0;34m(\u001b[0m\u001b[0mitem\u001b[0m\u001b[0;34m)\u001b[0m\u001b[0;34m:\u001b[0m\u001b[0;34m\u001b[0m\u001b[0m\n\u001b[0;32m-> 3102\u001b[0;31m                 \u001b[0mloc\u001b[0m \u001b[0;34m=\u001b[0m \u001b[0mself\u001b[0m\u001b[0;34m.\u001b[0m\u001b[0mitems\u001b[0m\u001b[0;34m.\u001b[0m\u001b[0mget_loc\u001b[0m\u001b[0;34m(\u001b[0m\u001b[0mitem\u001b[0m\u001b[0;34m)\u001b[0m\u001b[0;34m\u001b[0m\u001b[0m\n\u001b[0m\u001b[1;32m   3103\u001b[0m             \u001b[0;32melse\u001b[0m\u001b[0;34m:\u001b[0m\u001b[0;34m\u001b[0m\u001b[0m\n\u001b[1;32m   3104\u001b[0m                 \u001b[0mindexer\u001b[0m \u001b[0;34m=\u001b[0m \u001b[0mnp\u001b[0m\u001b[0;34m.\u001b[0m\u001b[0marange\u001b[0m\u001b[0;34m(\u001b[0m\u001b[0mlen\u001b[0m\u001b[0;34m(\u001b[0m\u001b[0mself\u001b[0m\u001b[0;34m.\u001b[0m\u001b[0mitems\u001b[0m\u001b[0;34m)\u001b[0m\u001b[0;34m)\u001b[0m\u001b[0;34m[\u001b[0m\u001b[0misnull\u001b[0m\u001b[0;34m(\u001b[0m\u001b[0mself\u001b[0m\u001b[0;34m.\u001b[0m\u001b[0mitems\u001b[0m\u001b[0;34m)\u001b[0m\u001b[0;34m]\u001b[0m\u001b[0;34m\u001b[0m\u001b[0m\n",
      "\u001b[0;32m/Users/scott/anaconda/lib/python2.7/site-packages/pandas/core/index.pyc\u001b[0m in \u001b[0;36mget_loc\u001b[0;34m(self, key, method, tolerance)\u001b[0m\n\u001b[1;32m   1690\u001b[0m                 raise ValueError('tolerance argument only valid if using pad, '\n\u001b[1;32m   1691\u001b[0m                                  'backfill or nearest lookups')\n\u001b[0;32m-> 1692\u001b[0;31m             \u001b[0;32mreturn\u001b[0m \u001b[0mself\u001b[0m\u001b[0;34m.\u001b[0m\u001b[0m_engine\u001b[0m\u001b[0;34m.\u001b[0m\u001b[0mget_loc\u001b[0m\u001b[0;34m(\u001b[0m\u001b[0m_values_from_object\u001b[0m\u001b[0;34m(\u001b[0m\u001b[0mkey\u001b[0m\u001b[0;34m)\u001b[0m\u001b[0;34m)\u001b[0m\u001b[0;34m\u001b[0m\u001b[0m\n\u001b[0m\u001b[1;32m   1693\u001b[0m \u001b[0;34m\u001b[0m\u001b[0m\n\u001b[1;32m   1694\u001b[0m         indexer = self.get_indexer([key], method=method,\n",
      "\u001b[0;32mpandas/index.pyx\u001b[0m in \u001b[0;36mpandas.index.IndexEngine.get_loc (pandas/index.c:3979)\u001b[0;34m()\u001b[0m\n",
      "\u001b[0;32mpandas/index.pyx\u001b[0m in \u001b[0;36mpandas.index.IndexEngine.get_loc (pandas/index.c:3843)\u001b[0;34m()\u001b[0m\n",
      "\u001b[0;32mpandas/hashtable.pyx\u001b[0m in \u001b[0;36mpandas.hashtable.PyObjectHashTable.get_item (pandas/hashtable.c:12265)\u001b[0;34m()\u001b[0m\n",
      "\u001b[0;32mpandas/hashtable.pyx\u001b[0m in \u001b[0;36mpandas.hashtable.PyObjectHashTable.get_item (pandas/hashtable.c:12216)\u001b[0;34m()\u001b[0m\n",
      "\u001b[0;31mKeyError\u001b[0m: '4'"
     ]
    }
   ],
   "source": [
    "df['4'].map(lambda x:x)"
   ]
  },
  {
   "cell_type": "markdown",
   "metadata": {},
   "source": [
    "#Reading and writing data.\n"
   ]
  },
  {
   "cell_type": "code",
   "execution_count": 56,
   "metadata": {
    "collapsed": true
   },
   "outputs": [],
   "source": [
    "df.to_csv('saved_data.csv', delimiter='\\t')"
   ]
  },
  {
   "cell_type": "code",
   "execution_count": 57,
   "metadata": {
    "collapsed": true
   },
   "outputs": [],
   "source": [
    "read = pd.read_csv('saved_data.csv', delimiter='\\t')\n",
    "#TONS OF options for reading data"
   ]
  },
  {
   "cell_type": "code",
   "execution_count": 58,
   "metadata": {
    "collapsed": false
   },
   "outputs": [
    {
     "data": {
      "text/plain": [
       "'Other methods:\\npd.read_excel\\npd.read_sql\\npd.read_stata\\n...\\n'"
      ]
     },
     "execution_count": 58,
     "metadata": {},
     "output_type": "execute_result"
    }
   ],
   "source": [
    "\"\"\"Other methods:\n",
    "pd.read_excel\n",
    "pd.read_sql\n",
    "pd.read_stata\n",
    "...\n",
    "\"\"\""
   ]
  },
  {
   "cell_type": "markdown",
   "metadata": {},
   "source": [
    "#Other very useful things.\n",
    "\n",
    "join, concat and merge"
   ]
  },
  {
   "cell_type": "code",
   "execution_count": null,
   "metadata": {
    "collapsed": false
   },
   "outputs": [],
   "source": [
    "state_df = pd.DataFrame({'governor':['Robert Bentley',\n",
    "                                    'Bill Walker',\n",
    "                                    'Doug Ducey',\n",
    "                                    'Asa Hutchinson']}, \n",
    "                        index=['Alabama', 'Alaska', 'Arizona', 'Arkansas'])\n",
    "#Note merge is most useful when you want to merge on something other than the index.\n",
    "#Default is to merge on common column names.\n",
    "pd.merge(df.reset_index(), state_df, \n",
    "         left_on='state', right_index=True, how='right').tail()"
   ]
  },
  {
   "cell_type": "code",
   "execution_count": 59,
   "metadata": {
    "collapsed": false
   },
   "outputs": [
    {
     "data": {
      "text/html": [
       "<div>\n",
       "<table border=\"1\" class=\"dataframe\">\n",
       "  <thead>\n",
       "    <tr style=\"text-align: right;\">\n",
       "      <th></th>\n",
       "      <th>0</th>\n",
       "      <th>1</th>\n",
       "      <th>2</th>\n",
       "      <th>3</th>\n",
       "      <th>4</th>\n",
       "    </tr>\n",
       "    <tr>\n",
       "      <th>state</th>\n",
       "      <th></th>\n",
       "      <th></th>\n",
       "      <th></th>\n",
       "      <th></th>\n",
       "      <th></th>\n",
       "    </tr>\n",
       "  </thead>\n",
       "  <tbody>\n",
       "    <tr>\n",
       "      <th>Alabama</th>\n",
       "      <td>0.173062</td>\n",
       "      <td>-0.049322</td>\n",
       "      <td>0.030444</td>\n",
       "      <td>-0.024764</td>\n",
       "      <td>0.101674</td>\n",
       "    </tr>\n",
       "    <tr>\n",
       "      <th>Alaska</th>\n",
       "      <td>-0.118404</td>\n",
       "      <td>0.433872</td>\n",
       "      <td>0.164598</td>\n",
       "      <td>-0.137009</td>\n",
       "      <td>-0.138930</td>\n",
       "    </tr>\n",
       "    <tr>\n",
       "      <th>Arizona</th>\n",
       "      <td>-0.441754</td>\n",
       "      <td>0.118957</td>\n",
       "      <td>0.239654</td>\n",
       "      <td>0.104140</td>\n",
       "      <td>-0.130351</td>\n",
       "    </tr>\n",
       "  </tbody>\n",
       "</table>\n",
       "</div>"
      ],
      "text/plain": [
       "                0         1         2         3         4\n",
       "state                                                    \n",
       "Alabama  0.173062 -0.049322  0.030444 -0.024764  0.101674\n",
       "Alaska  -0.118404  0.433872  0.164598 -0.137009 -0.138930\n",
       "Arizona -0.441754  0.118957  0.239654  0.104140 -0.130351"
      ]
     },
     "execution_count": 59,
     "metadata": {},
     "output_type": "execute_result"
    }
   ],
   "source": [
    "state_avg = df.groupby(level=0).mean()\n",
    "state_avg.head()"
   ]
  },
  {
   "cell_type": "code",
   "execution_count": 60,
   "metadata": {
    "collapsed": false
   },
   "outputs": [
    {
     "ename": "NameError",
     "evalue": "name 'state_df' is not defined",
     "output_type": "error",
     "traceback": [
      "\u001b[0;31m---------------------------------------------------------------------------\u001b[0m",
      "\u001b[0;31mNameError\u001b[0m                                 Traceback (most recent call last)",
      "\u001b[0;32m<ipython-input-60-e403e10f4aad>\u001b[0m in \u001b[0;36m<module>\u001b[0;34m()\u001b[0m\n\u001b[1;32m      1\u001b[0m \u001b[0;31m#Concat allows joining along the axes.\u001b[0m\u001b[0;34m\u001b[0m\u001b[0;34m\u001b[0m\u001b[0m\n\u001b[0;32m----> 2\u001b[0;31m \u001b[0mpd\u001b[0m\u001b[0;34m.\u001b[0m\u001b[0mconcat\u001b[0m\u001b[0;34m(\u001b[0m\u001b[0;34m[\u001b[0m\u001b[0mstate_avg\u001b[0m\u001b[0;34m,\u001b[0m \u001b[0mstate_df\u001b[0m\u001b[0;34m]\u001b[0m\u001b[0;34m,\u001b[0m \u001b[0maxis\u001b[0m\u001b[0;34m=\u001b[0m\u001b[0;36m1\u001b[0m\u001b[0;34m)\u001b[0m\u001b[0;34m\u001b[0m\u001b[0m\n\u001b[0m",
      "\u001b[0;31mNameError\u001b[0m: name 'state_df' is not defined"
     ]
    }
   ],
   "source": [
    "#Concat allows joining along the axes.\n",
    "pd.concat([state_avg, state_df], axis=1)"
   ]
  },
  {
   "cell_type": "code",
   "execution_count": 61,
   "metadata": {
    "collapsed": false
   },
   "outputs": [
    {
     "ename": "NameError",
     "evalue": "name 'state_df' is not defined",
     "output_type": "error",
     "traceback": [
      "\u001b[0;31m---------------------------------------------------------------------------\u001b[0m",
      "\u001b[0;31mNameError\u001b[0m                                 Traceback (most recent call last)",
      "\u001b[0;32m<ipython-input-61-1b6b8af166c7>\u001b[0m in \u001b[0;36m<module>\u001b[0;34m()\u001b[0m\n\u001b[1;32m      1\u001b[0m \u001b[0;31m#Join also works. Just like merge, but\u001b[0m\u001b[0;34m\u001b[0m\u001b[0;34m\u001b[0m\u001b[0m\n\u001b[1;32m      2\u001b[0m \u001b[0;31m#default is to join on indexes.\u001b[0m\u001b[0;34m\u001b[0m\u001b[0;34m\u001b[0m\u001b[0m\n\u001b[0;32m----> 3\u001b[0;31m \u001b[0mstate_avg\u001b[0m\u001b[0;34m.\u001b[0m\u001b[0mjoin\u001b[0m\u001b[0;34m(\u001b[0m\u001b[0mstate_df\u001b[0m\u001b[0;34m,\u001b[0m \u001b[0mhow\u001b[0m\u001b[0;34m=\u001b[0m\u001b[0;34m'right'\u001b[0m\u001b[0;34m)\u001b[0m\u001b[0;34m\u001b[0m\u001b[0m\n\u001b[0m",
      "\u001b[0;31mNameError\u001b[0m: name 'state_df' is not defined"
     ]
    }
   ],
   "source": [
    "#Join also works. Just like merge, but \n",
    "#default is to join on indexes.\n",
    "state_avg.join(state_df, how='right')"
   ]
  },
  {
   "cell_type": "markdown",
   "metadata": {},
   "source": [
    "#Exploratory Data Analysis with Pandas"
   ]
  },
  {
   "cell_type": "code",
   "execution_count": 62,
   "metadata": {
    "collapsed": true
   },
   "outputs": [],
   "source": [
    "import pandas as pd\n",
    "import matplotlib.pyplot as plt\n",
    "%matplotlib inline"
   ]
  },
  {
   "cell_type": "code",
   "execution_count": 4,
   "metadata": {
    "collapsed": false
   },
   "outputs": [
    {
     "name": "stdout",
     "output_type": "stream",
     "text": [
      "         Date   Outlook  Temperature  Humidity  Windy      Result\n",
      "0  07-01-2014     sunny           85        85  False  Don't Play\n",
      "1  07-02-2014     sunny           80        90   True  Don't Play\n",
      "2  07-03-2014  overcast           83        78  False        Play\n",
      "3  07-04-2014      rain           70        96  False        Play\n",
      "4  07-05-2014      rain           68        80  False        Play\n"
     ]
    }
   ],
   "source": [
    "df = pd.read_csv('data/playgolf.csv', delimiter='|' )\n",
    "print df.head()"
   ]
  },
  {
   "cell_type": "markdown",
   "metadata": {},
   "source": [
    "#Describe the continuous variables\n",
    "##This treats the Boolean Windy variable as a series of 0's and 1's"
   ]
  },
  {
   "cell_type": "code",
   "execution_count": 5,
   "metadata": {
    "collapsed": false
   },
   "outputs": [
    {
     "data": {
      "text/html": [
       "<div style=\"max-height:1000px;max-width:1500px;overflow:auto;\">\n",
       "<table border=\"1\" class=\"dataframe\">\n",
       "  <thead>\n",
       "    <tr style=\"text-align: right;\">\n",
       "      <th></th>\n",
       "      <th>Temperature</th>\n",
       "      <th>Humidity</th>\n",
       "      <th>Windy</th>\n",
       "    </tr>\n",
       "  </thead>\n",
       "  <tbody>\n",
       "    <tr>\n",
       "      <th>count</th>\n",
       "      <td>14.000000</td>\n",
       "      <td>14.000000</td>\n",
       "      <td>14</td>\n",
       "    </tr>\n",
       "    <tr>\n",
       "      <th>mean</th>\n",
       "      <td>73.571429</td>\n",
       "      <td>80.285714</td>\n",
       "      <td>0.4285714</td>\n",
       "    </tr>\n",
       "    <tr>\n",
       "      <th>std</th>\n",
       "      <td>6.571667</td>\n",
       "      <td>9.840486</td>\n",
       "      <td>0.5135526</td>\n",
       "    </tr>\n",
       "    <tr>\n",
       "      <th>min</th>\n",
       "      <td>64.000000</td>\n",
       "      <td>65.000000</td>\n",
       "      <td>False</td>\n",
       "    </tr>\n",
       "    <tr>\n",
       "      <th>25%</th>\n",
       "      <td>69.250000</td>\n",
       "      <td>71.250000</td>\n",
       "      <td>0</td>\n",
       "    </tr>\n",
       "    <tr>\n",
       "      <th>50%</th>\n",
       "      <td>72.000000</td>\n",
       "      <td>80.000000</td>\n",
       "      <td>0</td>\n",
       "    </tr>\n",
       "    <tr>\n",
       "      <th>75%</th>\n",
       "      <td>78.750000</td>\n",
       "      <td>88.750000</td>\n",
       "      <td>1</td>\n",
       "    </tr>\n",
       "    <tr>\n",
       "      <th>max</th>\n",
       "      <td>85.000000</td>\n",
       "      <td>96.000000</td>\n",
       "      <td>True</td>\n",
       "    </tr>\n",
       "  </tbody>\n",
       "</table>\n",
       "</div>"
      ],
      "text/plain": [
       "       Temperature   Humidity      Windy\n",
       "count    14.000000  14.000000         14\n",
       "mean     73.571429  80.285714  0.4285714\n",
       "std       6.571667   9.840486  0.5135526\n",
       "min      64.000000  65.000000      False\n",
       "25%      69.250000  71.250000          0\n",
       "50%      72.000000  80.000000          0\n",
       "75%      78.750000  88.750000          1\n",
       "max      85.000000  96.000000       True"
      ]
     },
     "execution_count": 5,
     "metadata": {},
     "output_type": "execute_result"
    }
   ],
   "source": [
    "df.describe()"
   ]
  },
  {
   "cell_type": "markdown",
   "metadata": {},
   "source": [
    "Can see the general pattern of Temperature and Humidity and mean of a Boolean represents the percentage"
   ]
  },
  {
   "cell_type": "markdown",
   "metadata": {},
   "source": [
    "##We can make use of df.plot() to produce simple graphs that calls on the more adjustable Matplotlib library "
   ]
  },
  {
   "cell_type": "code",
   "execution_count": 6,
   "metadata": {
    "collapsed": false,
    "scrolled": true
   },
   "outputs": [
    {
     "data": {
      "text/plain": [
       "array([[<matplotlib.axes._subplots.AxesSubplot object at 0x107480990>,\n",
       "        <matplotlib.axes._subplots.AxesSubplot object at 0x10755b9d0>]], dtype=object)"
      ]
     },
     "execution_count": 6,
     "metadata": {},
     "output_type": "execute_result"
    },
    {
     "data": {
      "image/png": "[encoded data removed]",
      "text/plain": [
       "<matplotlib.figure.Figure at 0x107480e90>"
      ]
     },
     "metadata": {},
     "output_type": "display_data"
    }
   ],
   "source": [
    "df.hist(['Temperature','Humidity'],bins=5)"
   ]
  },
  {
   "cell_type": "code",
   "execution_count": 7,
   "metadata": {
    "collapsed": false
   },
   "outputs": [
    {
     "data": {
      "text/plain": [
       "<matplotlib.axes._subplots.AxesSubplot at 0x10777e310>"
      ]
     },
     "execution_count": 7,
     "metadata": {},
     "output_type": "execute_result"
    },
    {
     "data": {
      "image/png": "[encoded data removed]",
      "text/plain": [
       "<matplotlib.figure.Figure at 0x107787890>"
      ]
     },
     "metadata": {},
     "output_type": "display_data"
    }
   ],
   "source": [
    "df[['Temperature','Humidity']].plot(kind='box')"
   ]
  },
  {
   "cell_type": "markdown",
   "metadata": {},
   "source": [
    "###Scatterplots for examining bivariate relationships"
   ]
  },
  {
   "cell_type": "code",
   "execution_count": 8,
   "metadata": {
    "collapsed": false,
    "scrolled": false
   },
   "outputs": [
    {
     "data": {
      "text/plain": [
       "<matplotlib.axes._subplots.AxesSubplot at 0x10790ddd0>"
      ]
     },
     "execution_count": 8,
     "metadata": {},
     "output_type": "execute_result"
    },
    {
     "data": {
      "image/png": "[encoded data removed]",
      "text/plain": [
       "<matplotlib.figure.Figure at 0x1079201d0>"
      ]
     },
     "metadata": {},
     "output_type": "display_data"
    }
   ],
   "source": [
    "df.plot('Temperature', 'Humidity', kind='scatter')"
   ]
  },
  {
   "cell_type": "markdown",
   "metadata": {},
   "source": [
    "###If we want to color the scatterplots according to a category, it requires a bit of matplotlib...ugh!"
   ]
  },
  {
   "cell_type": "code",
   "execution_count": 9,
   "metadata": {
    "collapsed": false
   },
   "outputs": [
    {
     "name": "stdout",
     "output_type": "stream",
     "text": [
      "overcast\n",
      "rain\n",
      "sunny\n"
     ]
    }
   ],
   "source": [
    "groups=df.groupby('Outlook')\n",
    "for name, group in groups:\n",
    "    print name"
   ]
  },
  {
   "cell_type": "code",
   "execution_count": 10,
   "metadata": {
    "collapsed": false
   },
   "outputs": [
    {
     "data": {
      "image/png": "[encoded data removed]",
      "text/plain": [
       "<matplotlib.figure.Figure at 0x107920410>"
      ]
     },
     "metadata": {},
     "output_type": "display_data"
    }
   ],
   "source": [
    "fig, ax = plt.subplots()\n",
    "\n",
    "ax.margins(0.05)\n",
    "for name, group in groups:\n",
    "    ax.plot(group.Temperature, group.Humidity, marker='o', linestyle='', ms=12, label=name)\n",
    "ax.legend(numpoints=1, loc='lower right')\n",
    "\n",
    "plt.show()"
   ]
  },
  {
   "cell_type": "markdown",
   "metadata": {},
   "source": [
    "#What about the categorical variables? Frequency tables and relative frequency tables"
   ]
  },
  {
   "cell_type": "markdown",
   "metadata": {},
   "source": [
    "###Simply df.value_counts() gets you the frequencies"
   ]
  },
  {
   "cell_type": "code",
   "execution_count": 11,
   "metadata": {
    "collapsed": false
   },
   "outputs": [
    {
     "data": {
      "text/plain": [
       "rain        5\n",
       "sunny       5\n",
       "overcast    4\n",
       "dtype: int64"
      ]
     },
     "execution_count": 11,
     "metadata": {},
     "output_type": "execute_result"
    }
   ],
   "source": [
    "df['Outlook'].value_counts()"
   ]
  },
  {
   "cell_type": "markdown",
   "metadata": {},
   "source": [
    "###Using apply will get you the value counts for multiple columns at once"
   ]
  },
  {
   "cell_type": "code",
   "execution_count": 12,
   "metadata": {
    "collapsed": false
   },
   "outputs": [
    {
     "data": {
      "text/html": [
       "<div style=\"max-height:1000px;max-width:1500px;overflow:auto;\">\n",
       "<table border=\"1\" class=\"dataframe\">\n",
       "  <thead>\n",
       "    <tr style=\"text-align: right;\">\n",
       "      <th></th>\n",
       "      <th>Outlook</th>\n",
       "      <th>Result</th>\n",
       "    </tr>\n",
       "  </thead>\n",
       "  <tbody>\n",
       "    <tr>\n",
       "      <th>Don't Play</th>\n",
       "      <td>NaN</td>\n",
       "      <td>5</td>\n",
       "    </tr>\n",
       "    <tr>\n",
       "      <th>Play</th>\n",
       "      <td>NaN</td>\n",
       "      <td>9</td>\n",
       "    </tr>\n",
       "    <tr>\n",
       "      <th>overcast</th>\n",
       "      <td>4</td>\n",
       "      <td>NaN</td>\n",
       "    </tr>\n",
       "    <tr>\n",
       "      <th>rain</th>\n",
       "      <td>5</td>\n",
       "      <td>NaN</td>\n",
       "    </tr>\n",
       "    <tr>\n",
       "      <th>sunny</th>\n",
       "      <td>5</td>\n",
       "      <td>NaN</td>\n",
       "    </tr>\n",
       "  </tbody>\n",
       "</table>\n",
       "</div>"
      ],
      "text/plain": [
       "            Outlook  Result\n",
       "Don't Play      NaN       5\n",
       "Play            NaN       9\n",
       "overcast          4     NaN\n",
       "rain              5     NaN\n",
       "sunny             5     NaN"
      ]
     },
     "execution_count": 12,
     "metadata": {},
     "output_type": "execute_result"
    }
   ],
   "source": [
    "df[['Outlook','Result']].apply(lambda x: x.value_counts())"
   ]
  },
  {
   "cell_type": "markdown",
   "metadata": {},
   "source": [
    "###Contingency Tables for looking at bivariate relationships between two categorical variables"
   ]
  },
  {
   "cell_type": "code",
   "execution_count": 13,
   "metadata": {
    "collapsed": false
   },
   "outputs": [
    {
     "data": {
      "text/html": [
       "<div style=\"max-height:1000px;max-width:1500px;overflow:auto;\">\n",
       "<table border=\"1\" class=\"dataframe\">\n",
       "  <thead>\n",
       "    <tr style=\"text-align: right;\">\n",
       "      <th>Result</th>\n",
       "      <th>Don't Play</th>\n",
       "      <th>Play</th>\n",
       "    </tr>\n",
       "    <tr>\n",
       "      <th>Outlook</th>\n",
       "      <th></th>\n",
       "      <th></th>\n",
       "    </tr>\n",
       "  </thead>\n",
       "  <tbody>\n",
       "    <tr>\n",
       "      <th>overcast</th>\n",
       "      <td>0</td>\n",
       "      <td>4</td>\n",
       "    </tr>\n",
       "    <tr>\n",
       "      <th>rain</th>\n",
       "      <td>2</td>\n",
       "      <td>3</td>\n",
       "    </tr>\n",
       "    <tr>\n",
       "      <th>sunny</th>\n",
       "      <td>3</td>\n",
       "      <td>2</td>\n",
       "    </tr>\n",
       "  </tbody>\n",
       "</table>\n",
       "</div>"
      ],
      "text/plain": [
       "Result    Don't Play  Play\n",
       "Outlook                   \n",
       "overcast           0     4\n",
       "rain               2     3\n",
       "sunny              3     2"
      ]
     },
     "execution_count": 13,
     "metadata": {},
     "output_type": "execute_result"
    }
   ],
   "source": [
    "pd.crosstab(df['Outlook'], df['Result'])"
   ]
  },
  {
   "cell_type": "markdown",
   "metadata": {},
   "source": [
    "###Often we want the row percentages"
   ]
  },
  {
   "cell_type": "code",
   "execution_count": 14,
   "metadata": {
    "collapsed": false
   },
   "outputs": [
    {
     "data": {
      "text/html": [
       "<div style=\"max-height:1000px;max-width:1500px;overflow:auto;\">\n",
       "<table border=\"1\" class=\"dataframe\">\n",
       "  <thead>\n",
       "    <tr style=\"text-align: right;\">\n",
       "      <th>Result</th>\n",
       "      <th>Don't Play</th>\n",
       "      <th>Play</th>\n",
       "    </tr>\n",
       "    <tr>\n",
       "      <th>Outlook</th>\n",
       "      <th></th>\n",
       "      <th></th>\n",
       "    </tr>\n",
       "  </thead>\n",
       "  <tbody>\n",
       "    <tr>\n",
       "      <th>overcast</th>\n",
       "      <td>0.0</td>\n",
       "      <td>1.0</td>\n",
       "    </tr>\n",
       "    <tr>\n",
       "      <th>rain</th>\n",
       "      <td>0.4</td>\n",
       "      <td>0.6</td>\n",
       "    </tr>\n",
       "    <tr>\n",
       "      <th>sunny</th>\n",
       "      <td>0.6</td>\n",
       "      <td>0.4</td>\n",
       "    </tr>\n",
       "  </tbody>\n",
       "</table>\n",
       "</div>"
      ],
      "text/plain": [
       "Result    Don't Play  Play\n",
       "Outlook                   \n",
       "overcast         0.0   1.0\n",
       "rain             0.4   0.6\n",
       "sunny            0.6   0.4"
      ]
     },
     "execution_count": 14,
     "metadata": {},
     "output_type": "execute_result"
    }
   ],
   "source": [
    "pd.crosstab(df['Outlook'], df['Result']).apply(lambda r: r/r.sum(), axis=1)"
   ]
  },
  {
   "cell_type": "markdown",
   "metadata": {},
   "source": [
    "###Or the column percentages"
   ]
  },
  {
   "cell_type": "code",
   "execution_count": 15,
   "metadata": {
    "collapsed": false
   },
   "outputs": [
    {
     "data": {
      "text/html": [
       "<div style=\"max-height:1000px;max-width:1500px;overflow:auto;\">\n",
       "<table border=\"1\" class=\"dataframe\">\n",
       "  <thead>\n",
       "    <tr style=\"text-align: right;\">\n",
       "      <th>Result</th>\n",
       "      <th>Don't Play</th>\n",
       "      <th>Play</th>\n",
       "    </tr>\n",
       "    <tr>\n",
       "      <th>Outlook</th>\n",
       "      <th></th>\n",
       "      <th></th>\n",
       "    </tr>\n",
       "  </thead>\n",
       "  <tbody>\n",
       "    <tr>\n",
       "      <th>overcast</th>\n",
       "      <td>0.0</td>\n",
       "      <td>0.444444</td>\n",
       "    </tr>\n",
       "    <tr>\n",
       "      <th>rain</th>\n",
       "      <td>0.4</td>\n",
       "      <td>0.333333</td>\n",
       "    </tr>\n",
       "    <tr>\n",
       "      <th>sunny</th>\n",
       "      <td>0.6</td>\n",
       "      <td>0.222222</td>\n",
       "    </tr>\n",
       "  </tbody>\n",
       "</table>\n",
       "</div>"
      ],
      "text/plain": [
       "Result    Don't Play      Play\n",
       "Outlook                       \n",
       "overcast         0.0  0.444444\n",
       "rain             0.4  0.333333\n",
       "sunny            0.6  0.222222"
      ]
     },
     "execution_count": 15,
     "metadata": {},
     "output_type": "execute_result"
    }
   ],
   "source": [
    "pd.crosstab(df['Outlook'], df['Result']).apply(lambda c: c/c.sum(), axis=0)"
   ]
  },
  {
   "cell_type": "markdown",
   "metadata": {},
   "source": [
    "#Enough...lets get to the pair sprint\n",
    "\n",
    "https://www.youtube.com/watch?v=yGf6LNWY9AI"
   ]
  },
  {
   "cell_type": "code",
   "execution_count": null,
   "metadata": {
    "collapsed": true
   },
   "outputs": [],
   "source": []
  },
  {
   "cell_type": "code",
   "execution_count": null,
   "metadata": {
    "collapsed": true
   },
   "outputs": [],
   "source": []
  },
  {
   "cell_type": "code",
   "execution_count": null,
   "metadata": {
    "collapsed": true
   },
   "outputs": [],
   "source": []
  },
  {
   "cell_type": "code",
   "execution_count": null,
   "metadata": {
    "collapsed": true
   },
   "outputs": [],
   "source": []
  },
  {
   "cell_type": "code",
   "execution_count": null,
   "metadata": {
    "collapsed": true
   },
   "outputs": [],
   "source": []
  },
  {
   "cell_type": "code",
   "execution_count": null,
   "metadata": {
    "collapsed": true
   },
   "outputs": [],
   "source": []
  },
  {
   "cell_type": "code",
   "execution_count": null,
   "metadata": {
    "collapsed": true
   },
   "outputs": [],
   "source": []
  },
  {
   "cell_type": "code",
   "execution_count": null,
   "metadata": {
    "collapsed": true
   },
   "outputs": [],
   "source": []
  },
  {
   "cell_type": "code",
   "execution_count": null,
   "metadata": {
    "collapsed": true
   },
   "outputs": [],
   "source": []
  },
  {
   "cell_type": "code",
   "execution_count": null,
   "metadata": {
    "collapsed": true
   },
   "outputs": [],
   "source": []
  },
  {
   "cell_type": "code",
   "execution_count": null,
   "metadata": {
    "collapsed": true
   },
   "outputs": [],
   "source": []
  },
  {
   "cell_type": "code",
   "execution_count": 71,
   "metadata": {
    "collapsed": false
   },
   "outputs": [
    {
     "data": {
      "text/html": [
       "<div>\n",
       "<table border=\"1\" class=\"dataframe\">\n",
       "  <thead>\n",
       "    <tr style=\"text-align: right;\">\n",
       "      <th></th>\n",
       "      <th>Year</th>\n",
       "      <th>Facility Id</th>\n",
       "      <th>Facility Name</th>\n",
       "      <th>APR DRG Code</th>\n",
       "      <th>APR Severity of Illness Code</th>\n",
       "      <th>APR DRG Description</th>\n",
       "      <th>APR Severity of Illness Description</th>\n",
       "      <th>APR Medical Surgical Code</th>\n",
       "      <th>APR Medical Surgical Description</th>\n",
       "      <th>Discharges</th>\n",
       "      <th>Mean Charge</th>\n",
       "      <th>Median Charge</th>\n",
       "      <th>Mean Cost</th>\n",
       "      <th>Median Cost</th>\n",
       "    </tr>\n",
       "  </thead>\n",
       "  <tbody>\n",
       "    <tr>\n",
       "      <th>0</th>\n",
       "      <td>2011</td>\n",
       "      <td>324</td>\n",
       "      <td>Adirondack Medical Center-Saranac Lake Site</td>\n",
       "      <td>4</td>\n",
       "      <td>4</td>\n",
       "      <td>Tracheostomy W MV 96+ Hours W Extensive Proced...</td>\n",
       "      <td>Extreme</td>\n",
       "      <td>P</td>\n",
       "      <td>Surgical</td>\n",
       "      <td>3</td>\n",
       "      <td>361289</td>\n",
       "      <td>210882</td>\n",
       "      <td>196080</td>\n",
       "      <td>123347</td>\n",
       "    </tr>\n",
       "    <tr>\n",
       "      <th>1</th>\n",
       "      <td>2011</td>\n",
       "      <td>324</td>\n",
       "      <td>Adirondack Medical Center-Saranac Lake Site</td>\n",
       "      <td>5</td>\n",
       "      <td>4</td>\n",
       "      <td>Tracheostomy W MV 96+ Hours W/O Extensive Proc...</td>\n",
       "      <td>Extreme</td>\n",
       "      <td>P</td>\n",
       "      <td>Surgical</td>\n",
       "      <td>1</td>\n",
       "      <td>102190</td>\n",
       "      <td>102190</td>\n",
       "      <td>59641</td>\n",
       "      <td>59641</td>\n",
       "    </tr>\n",
       "    <tr>\n",
       "      <th>2</th>\n",
       "      <td>2011</td>\n",
       "      <td>324</td>\n",
       "      <td>Adirondack Medical Center-Saranac Lake Site</td>\n",
       "      <td>24</td>\n",
       "      <td>2</td>\n",
       "      <td>Extracranial Vascular Procedures</td>\n",
       "      <td>Moderate</td>\n",
       "      <td>P</td>\n",
       "      <td>Surgical</td>\n",
       "      <td>6</td>\n",
       "      <td>14172</td>\n",
       "      <td>13506</td>\n",
       "      <td>6888</td>\n",
       "      <td>6445</td>\n",
       "    </tr>\n",
       "    <tr>\n",
       "      <th>3</th>\n",
       "      <td>2011</td>\n",
       "      <td>324</td>\n",
       "      <td>Adirondack Medical Center-Saranac Lake Site</td>\n",
       "      <td>26</td>\n",
       "      <td>1</td>\n",
       "      <td>Other Nervous System &amp; Related Procedures</td>\n",
       "      <td>Minor</td>\n",
       "      <td>P</td>\n",
       "      <td>Surgical</td>\n",
       "      <td>1</td>\n",
       "      <td>8833</td>\n",
       "      <td>8833</td>\n",
       "      <td>4259</td>\n",
       "      <td>4259</td>\n",
       "    </tr>\n",
       "    <tr>\n",
       "      <th>4</th>\n",
       "      <td>2011</td>\n",
       "      <td>324</td>\n",
       "      <td>Adirondack Medical Center-Saranac Lake Site</td>\n",
       "      <td>41</td>\n",
       "      <td>1</td>\n",
       "      <td>Nervous System Malignancy</td>\n",
       "      <td>Minor</td>\n",
       "      <td>M</td>\n",
       "      <td>Medical</td>\n",
       "      <td>1</td>\n",
       "      <td>5264</td>\n",
       "      <td>5264</td>\n",
       "      <td>1727</td>\n",
       "      <td>1727</td>\n",
       "    </tr>\n",
       "    <tr>\n",
       "      <th>5</th>\n",
       "      <td>2011</td>\n",
       "      <td>324</td>\n",
       "      <td>Adirondack Medical Center-Saranac Lake Site</td>\n",
       "      <td>41</td>\n",
       "      <td>2</td>\n",
       "      <td>Nervous System Malignancy</td>\n",
       "      <td>Moderate</td>\n",
       "      <td>M</td>\n",
       "      <td>Medical</td>\n",
       "      <td>1</td>\n",
       "      <td>17314</td>\n",
       "      <td>17314</td>\n",
       "      <td>5826</td>\n",
       "      <td>5826</td>\n",
       "    </tr>\n",
       "    <tr>\n",
       "      <th>6</th>\n",
       "      <td>2011</td>\n",
       "      <td>324</td>\n",
       "      <td>Adirondack Medical Center-Saranac Lake Site</td>\n",
       "      <td>42</td>\n",
       "      <td>2</td>\n",
       "      <td>Degenerative Nervous System Disorders Exc Mult...</td>\n",
       "      <td>Moderate</td>\n",
       "      <td>M</td>\n",
       "      <td>Medical</td>\n",
       "      <td>4</td>\n",
       "      <td>11574</td>\n",
       "      <td>11190</td>\n",
       "      <td>6122</td>\n",
       "      <td>5729</td>\n",
       "    </tr>\n",
       "    <tr>\n",
       "      <th>7</th>\n",
       "      <td>2011</td>\n",
       "      <td>324</td>\n",
       "      <td>Adirondack Medical Center-Saranac Lake Site</td>\n",
       "      <td>42</td>\n",
       "      <td>3</td>\n",
       "      <td>Degenerative Nervous System Disorders Exc Mult...</td>\n",
       "      <td>Major</td>\n",
       "      <td>M</td>\n",
       "      <td>Medical</td>\n",
       "      <td>2</td>\n",
       "      <td>18195</td>\n",
       "      <td>18195</td>\n",
       "      <td>9919</td>\n",
       "      <td>9919</td>\n",
       "    </tr>\n",
       "    <tr>\n",
       "      <th>8</th>\n",
       "      <td>2011</td>\n",
       "      <td>324</td>\n",
       "      <td>Adirondack Medical Center-Saranac Lake Site</td>\n",
       "      <td>42</td>\n",
       "      <td>4</td>\n",
       "      <td>Degenerative Nervous System Disorders Exc Mult...</td>\n",
       "      <td>Extreme</td>\n",
       "      <td>M</td>\n",
       "      <td>Medical</td>\n",
       "      <td>1</td>\n",
       "      <td>18243</td>\n",
       "      <td>18243</td>\n",
       "      <td>9694</td>\n",
       "      <td>9694</td>\n",
       "    </tr>\n",
       "    <tr>\n",
       "      <th>9</th>\n",
       "      <td>2011</td>\n",
       "      <td>324</td>\n",
       "      <td>Adirondack Medical Center-Saranac Lake Site</td>\n",
       "      <td>43</td>\n",
       "      <td>1</td>\n",
       "      <td>Multiple Sclerosis &amp; Other Demyelinating Diseases</td>\n",
       "      <td>Minor</td>\n",
       "      <td>M</td>\n",
       "      <td>Medical</td>\n",
       "      <td>1</td>\n",
       "      <td>28313</td>\n",
       "      <td>28313</td>\n",
       "      <td>10598</td>\n",
       "      <td>10598</td>\n",
       "    </tr>\n",
       "    <tr>\n",
       "      <th>10</th>\n",
       "      <td>2011</td>\n",
       "      <td>324</td>\n",
       "      <td>Adirondack Medical Center-Saranac Lake Site</td>\n",
       "      <td>43</td>\n",
       "      <td>3</td>\n",
       "      <td>Multiple Sclerosis &amp; Other Demyelinating Diseases</td>\n",
       "      <td>Major</td>\n",
       "      <td>M</td>\n",
       "      <td>Medical</td>\n",
       "      <td>1</td>\n",
       "      <td>6186</td>\n",
       "      <td>6186</td>\n",
       "      <td>4014</td>\n",
       "      <td>4014</td>\n",
       "    </tr>\n",
       "    <tr>\n",
       "      <th>11</th>\n",
       "      <td>2011</td>\n",
       "      <td>324</td>\n",
       "      <td>Adirondack Medical Center-Saranac Lake Site</td>\n",
       "      <td>44</td>\n",
       "      <td>3</td>\n",
       "      <td>Intracranial Hemorrhage</td>\n",
       "      <td>Major</td>\n",
       "      <td>M</td>\n",
       "      <td>Medical</td>\n",
       "      <td>2</td>\n",
       "      <td>10174</td>\n",
       "      <td>10174</td>\n",
       "      <td>4438</td>\n",
       "      <td>4438</td>\n",
       "    </tr>\n",
       "    <tr>\n",
       "      <th>12</th>\n",
       "      <td>2011</td>\n",
       "      <td>324</td>\n",
       "      <td>Adirondack Medical Center-Saranac Lake Site</td>\n",
       "      <td>44</td>\n",
       "      <td>4</td>\n",
       "      <td>Intracranial Hemorrhage</td>\n",
       "      <td>Extreme</td>\n",
       "      <td>M</td>\n",
       "      <td>Medical</td>\n",
       "      <td>1</td>\n",
       "      <td>8833</td>\n",
       "      <td>8833</td>\n",
       "      <td>4071</td>\n",
       "      <td>4071</td>\n",
       "    </tr>\n",
       "    <tr>\n",
       "      <th>13</th>\n",
       "      <td>2011</td>\n",
       "      <td>324</td>\n",
       "      <td>Adirondack Medical Center-Saranac Lake Site</td>\n",
       "      <td>45</td>\n",
       "      <td>3</td>\n",
       "      <td>CVA &amp; Precerebral Occlusion W Infarct</td>\n",
       "      <td>Major</td>\n",
       "      <td>M</td>\n",
       "      <td>Medical</td>\n",
       "      <td>11</td>\n",
       "      <td>21629</td>\n",
       "      <td>20156</td>\n",
       "      <td>11648</td>\n",
       "      <td>9660</td>\n",
       "    </tr>\n",
       "    <tr>\n",
       "      <th>14</th>\n",
       "      <td>2011</td>\n",
       "      <td>324</td>\n",
       "      <td>Adirondack Medical Center-Saranac Lake Site</td>\n",
       "      <td>45</td>\n",
       "      <td>4</td>\n",
       "      <td>CVA &amp; Precerebral Occlusion W Infarct</td>\n",
       "      <td>Extreme</td>\n",
       "      <td>M</td>\n",
       "      <td>Medical</td>\n",
       "      <td>4</td>\n",
       "      <td>30637</td>\n",
       "      <td>29466</td>\n",
       "      <td>17262</td>\n",
       "      <td>17249</td>\n",
       "    </tr>\n",
       "    <tr>\n",
       "      <th>15</th>\n",
       "      <td>2011</td>\n",
       "      <td>324</td>\n",
       "      <td>Adirondack Medical Center-Saranac Lake Site</td>\n",
       "      <td>45</td>\n",
       "      <td>1</td>\n",
       "      <td>CVA &amp; Precerebral Occlusion W Infarct</td>\n",
       "      <td>Minor</td>\n",
       "      <td>M</td>\n",
       "      <td>Medical</td>\n",
       "      <td>4</td>\n",
       "      <td>16533</td>\n",
       "      <td>15251</td>\n",
       "      <td>6925</td>\n",
       "      <td>7431</td>\n",
       "    </tr>\n",
       "    <tr>\n",
       "      <th>16</th>\n",
       "      <td>2011</td>\n",
       "      <td>324</td>\n",
       "      <td>Adirondack Medical Center-Saranac Lake Site</td>\n",
       "      <td>45</td>\n",
       "      <td>2</td>\n",
       "      <td>CVA &amp; Precerebral Occlusion W Infarct</td>\n",
       "      <td>Moderate</td>\n",
       "      <td>M</td>\n",
       "      <td>Medical</td>\n",
       "      <td>20</td>\n",
       "      <td>14958</td>\n",
       "      <td>14812</td>\n",
       "      <td>7118</td>\n",
       "      <td>7095</td>\n",
       "    </tr>\n",
       "    <tr>\n",
       "      <th>17</th>\n",
       "      <td>2011</td>\n",
       "      <td>324</td>\n",
       "      <td>Adirondack Medical Center-Saranac Lake Site</td>\n",
       "      <td>46</td>\n",
       "      <td>2</td>\n",
       "      <td>Nonspecific CVA &amp; Precerebral Occlusion W/O In...</td>\n",
       "      <td>Moderate</td>\n",
       "      <td>M</td>\n",
       "      <td>Medical</td>\n",
       "      <td>2</td>\n",
       "      <td>9032</td>\n",
       "      <td>9032</td>\n",
       "      <td>4407</td>\n",
       "      <td>4407</td>\n",
       "    </tr>\n",
       "    <tr>\n",
       "      <th>18</th>\n",
       "      <td>2011</td>\n",
       "      <td>324</td>\n",
       "      <td>Adirondack Medical Center-Saranac Lake Site</td>\n",
       "      <td>47</td>\n",
       "      <td>1</td>\n",
       "      <td>Transient Ischemia</td>\n",
       "      <td>Minor</td>\n",
       "      <td>M</td>\n",
       "      <td>Medical</td>\n",
       "      <td>4</td>\n",
       "      <td>15246</td>\n",
       "      <td>14574</td>\n",
       "      <td>6416</td>\n",
       "      <td>6497</td>\n",
       "    </tr>\n",
       "    <tr>\n",
       "      <th>19</th>\n",
       "      <td>2011</td>\n",
       "      <td>324</td>\n",
       "      <td>Adirondack Medical Center-Saranac Lake Site</td>\n",
       "      <td>47</td>\n",
       "      <td>2</td>\n",
       "      <td>Transient Ischemia</td>\n",
       "      <td>Moderate</td>\n",
       "      <td>M</td>\n",
       "      <td>Medical</td>\n",
       "      <td>4</td>\n",
       "      <td>11039</td>\n",
       "      <td>10144</td>\n",
       "      <td>4586</td>\n",
       "      <td>4773</td>\n",
       "    </tr>\n",
       "    <tr>\n",
       "      <th>20</th>\n",
       "      <td>2011</td>\n",
       "      <td>324</td>\n",
       "      <td>Adirondack Medical Center-Saranac Lake Site</td>\n",
       "      <td>47</td>\n",
       "      <td>3</td>\n",
       "      <td>Transient Ischemia</td>\n",
       "      <td>Major</td>\n",
       "      <td>M</td>\n",
       "      <td>Medical</td>\n",
       "      <td>1</td>\n",
       "      <td>15310</td>\n",
       "      <td>15310</td>\n",
       "      <td>5018</td>\n",
       "      <td>5018</td>\n",
       "    </tr>\n",
       "    <tr>\n",
       "      <th>21</th>\n",
       "      <td>2011</td>\n",
       "      <td>324</td>\n",
       "      <td>Adirondack Medical Center-Saranac Lake Site</td>\n",
       "      <td>48</td>\n",
       "      <td>2</td>\n",
       "      <td>Peripheral, Cranial &amp; Autonomic Nerve Disorders</td>\n",
       "      <td>Moderate</td>\n",
       "      <td>M</td>\n",
       "      <td>Medical</td>\n",
       "      <td>2</td>\n",
       "      <td>12954</td>\n",
       "      <td>12954</td>\n",
       "      <td>6600</td>\n",
       "      <td>6600</td>\n",
       "    </tr>\n",
       "    <tr>\n",
       "      <th>22</th>\n",
       "      <td>2011</td>\n",
       "      <td>324</td>\n",
       "      <td>Adirondack Medical Center-Saranac Lake Site</td>\n",
       "      <td>48</td>\n",
       "      <td>3</td>\n",
       "      <td>Peripheral, Cranial &amp; Autonomic Nerve Disorders</td>\n",
       "      <td>Major</td>\n",
       "      <td>M</td>\n",
       "      <td>Medical</td>\n",
       "      <td>2</td>\n",
       "      <td>11922</td>\n",
       "      <td>11922</td>\n",
       "      <td>7022</td>\n",
       "      <td>7022</td>\n",
       "    </tr>\n",
       "    <tr>\n",
       "      <th>23</th>\n",
       "      <td>2011</td>\n",
       "      <td>324</td>\n",
       "      <td>Adirondack Medical Center-Saranac Lake Site</td>\n",
       "      <td>48</td>\n",
       "      <td>4</td>\n",
       "      <td>Peripheral, Cranial &amp; Autonomic Nerve Disorders</td>\n",
       "      <td>Extreme</td>\n",
       "      <td>M</td>\n",
       "      <td>Medical</td>\n",
       "      <td>1</td>\n",
       "      <td>17802</td>\n",
       "      <td>17802</td>\n",
       "      <td>9721</td>\n",
       "      <td>9721</td>\n",
       "    </tr>\n",
       "    <tr>\n",
       "      <th>24</th>\n",
       "      <td>2011</td>\n",
       "      <td>324</td>\n",
       "      <td>Adirondack Medical Center-Saranac Lake Site</td>\n",
       "      <td>51</td>\n",
       "      <td>1</td>\n",
       "      <td>Viral Meningitis</td>\n",
       "      <td>Minor</td>\n",
       "      <td>M</td>\n",
       "      <td>Medical</td>\n",
       "      <td>1</td>\n",
       "      <td>17116</td>\n",
       "      <td>17116</td>\n",
       "      <td>7006</td>\n",
       "      <td>7006</td>\n",
       "    </tr>\n",
       "    <tr>\n",
       "      <th>25</th>\n",
       "      <td>2011</td>\n",
       "      <td>324</td>\n",
       "      <td>Adirondack Medical Center-Saranac Lake Site</td>\n",
       "      <td>52</td>\n",
       "      <td>1</td>\n",
       "      <td>Nontraumatic Stupor &amp; Coma</td>\n",
       "      <td>Minor</td>\n",
       "      <td>M</td>\n",
       "      <td>Medical</td>\n",
       "      <td>1</td>\n",
       "      <td>10111</td>\n",
       "      <td>10111</td>\n",
       "      <td>3776</td>\n",
       "      <td>3776</td>\n",
       "    </tr>\n",
       "    <tr>\n",
       "      <th>26</th>\n",
       "      <td>2011</td>\n",
       "      <td>324</td>\n",
       "      <td>Adirondack Medical Center-Saranac Lake Site</td>\n",
       "      <td>52</td>\n",
       "      <td>3</td>\n",
       "      <td>Nontraumatic Stupor &amp; Coma</td>\n",
       "      <td>Major</td>\n",
       "      <td>M</td>\n",
       "      <td>Medical</td>\n",
       "      <td>5</td>\n",
       "      <td>14780</td>\n",
       "      <td>13939</td>\n",
       "      <td>7207</td>\n",
       "      <td>6486</td>\n",
       "    </tr>\n",
       "    <tr>\n",
       "      <th>27</th>\n",
       "      <td>2011</td>\n",
       "      <td>324</td>\n",
       "      <td>Adirondack Medical Center-Saranac Lake Site</td>\n",
       "      <td>52</td>\n",
       "      <td>4</td>\n",
       "      <td>Nontraumatic Stupor &amp; Coma</td>\n",
       "      <td>Extreme</td>\n",
       "      <td>M</td>\n",
       "      <td>Medical</td>\n",
       "      <td>1</td>\n",
       "      <td>28849</td>\n",
       "      <td>28849</td>\n",
       "      <td>17483</td>\n",
       "      <td>17483</td>\n",
       "    </tr>\n",
       "    <tr>\n",
       "      <th>28</th>\n",
       "      <td>2011</td>\n",
       "      <td>324</td>\n",
       "      <td>Adirondack Medical Center-Saranac Lake Site</td>\n",
       "      <td>53</td>\n",
       "      <td>1</td>\n",
       "      <td>Seizure</td>\n",
       "      <td>Minor</td>\n",
       "      <td>M</td>\n",
       "      <td>Medical</td>\n",
       "      <td>3</td>\n",
       "      <td>6096</td>\n",
       "      <td>6317</td>\n",
       "      <td>3259</td>\n",
       "      <td>3456</td>\n",
       "    </tr>\n",
       "    <tr>\n",
       "      <th>29</th>\n",
       "      <td>2011</td>\n",
       "      <td>324</td>\n",
       "      <td>Adirondack Medical Center-Saranac Lake Site</td>\n",
       "      <td>53</td>\n",
       "      <td>2</td>\n",
       "      <td>Seizure</td>\n",
       "      <td>Moderate</td>\n",
       "      <td>M</td>\n",
       "      <td>Medical</td>\n",
       "      <td>3</td>\n",
       "      <td>9856</td>\n",
       "      <td>8088</td>\n",
       "      <td>4849</td>\n",
       "      <td>4153</td>\n",
       "    </tr>\n",
       "    <tr>\n",
       "      <th>...</th>\n",
       "      <td>...</td>\n",
       "      <td>...</td>\n",
       "      <td>...</td>\n",
       "      <td>...</td>\n",
       "      <td>...</td>\n",
       "      <td>...</td>\n",
       "      <td>...</td>\n",
       "      <td>...</td>\n",
       "      <td>...</td>\n",
       "      <td>...</td>\n",
       "      <td>...</td>\n",
       "      <td>...</td>\n",
       "      <td>...</td>\n",
       "      <td>...</td>\n",
       "    </tr>\n",
       "    <tr>\n",
       "      <th>383463</th>\n",
       "      <td>2009</td>\n",
       "      <td>1153</td>\n",
       "      <td>Wyoming County Community Hospital</td>\n",
       "      <td>775</td>\n",
       "      <td>2</td>\n",
       "      <td>Alcohol Abuse &amp; Dependence</td>\n",
       "      <td>Moderate</td>\n",
       "      <td>M</td>\n",
       "      <td>Medical</td>\n",
       "      <td>13</td>\n",
       "      <td>3772</td>\n",
       "      <td>3485</td>\n",
       "      <td>3245</td>\n",
       "      <td>2247</td>\n",
       "    </tr>\n",
       "    <tr>\n",
       "      <th>383464</th>\n",
       "      <td>2009</td>\n",
       "      <td>1153</td>\n",
       "      <td>Wyoming County Community Hospital</td>\n",
       "      <td>775</td>\n",
       "      <td>4</td>\n",
       "      <td>Alcohol Abuse &amp; Dependence</td>\n",
       "      <td>Extreme</td>\n",
       "      <td>M</td>\n",
       "      <td>Medical</td>\n",
       "      <td>1</td>\n",
       "      <td>4676</td>\n",
       "      <td>4676</td>\n",
       "      <td>4134</td>\n",
       "      <td>4134</td>\n",
       "    </tr>\n",
       "    <tr>\n",
       "      <th>383465</th>\n",
       "      <td>2009</td>\n",
       "      <td>1153</td>\n",
       "      <td>Wyoming County Community Hospital</td>\n",
       "      <td>776</td>\n",
       "      <td>2</td>\n",
       "      <td>Other Drug Abuse &amp; Dependence</td>\n",
       "      <td>Moderate</td>\n",
       "      <td>M</td>\n",
       "      <td>Medical</td>\n",
       "      <td>7</td>\n",
       "      <td>7695</td>\n",
       "      <td>5599</td>\n",
       "      <td>7058</td>\n",
       "      <td>4212</td>\n",
       "    </tr>\n",
       "    <tr>\n",
       "      <th>383466</th>\n",
       "      <td>2009</td>\n",
       "      <td>1153</td>\n",
       "      <td>Wyoming County Community Hospital</td>\n",
       "      <td>776</td>\n",
       "      <td>1</td>\n",
       "      <td>Other Drug Abuse &amp; Dependence</td>\n",
       "      <td>Minor</td>\n",
       "      <td>M</td>\n",
       "      <td>Medical</td>\n",
       "      <td>3</td>\n",
       "      <td>5118</td>\n",
       "      <td>5231</td>\n",
       "      <td>3933</td>\n",
       "      <td>3763</td>\n",
       "    </tr>\n",
       "    <tr>\n",
       "      <th>383467</th>\n",
       "      <td>2009</td>\n",
       "      <td>1153</td>\n",
       "      <td>Wyoming County Community Hospital</td>\n",
       "      <td>791</td>\n",
       "      <td>1</td>\n",
       "      <td>O.R. Procedure For Other Complications Of Trea...</td>\n",
       "      <td>Minor</td>\n",
       "      <td>P</td>\n",
       "      <td>Surgical</td>\n",
       "      <td>2</td>\n",
       "      <td>1745</td>\n",
       "      <td>1745</td>\n",
       "      <td>1687</td>\n",
       "      <td>1687</td>\n",
       "    </tr>\n",
       "    <tr>\n",
       "      <th>383468</th>\n",
       "      <td>2009</td>\n",
       "      <td>1153</td>\n",
       "      <td>Wyoming County Community Hospital</td>\n",
       "      <td>811</td>\n",
       "      <td>4</td>\n",
       "      <td>Allergic Reactions</td>\n",
       "      <td>Extreme</td>\n",
       "      <td>M</td>\n",
       "      <td>Medical</td>\n",
       "      <td>1</td>\n",
       "      <td>12649</td>\n",
       "      <td>12649</td>\n",
       "      <td>14707</td>\n",
       "      <td>14707</td>\n",
       "    </tr>\n",
       "    <tr>\n",
       "      <th>383469</th>\n",
       "      <td>2009</td>\n",
       "      <td>1153</td>\n",
       "      <td>Wyoming County Community Hospital</td>\n",
       "      <td>811</td>\n",
       "      <td>1</td>\n",
       "      <td>Allergic Reactions</td>\n",
       "      <td>Minor</td>\n",
       "      <td>M</td>\n",
       "      <td>Medical</td>\n",
       "      <td>1</td>\n",
       "      <td>2000</td>\n",
       "      <td>2000</td>\n",
       "      <td>5042</td>\n",
       "      <td>5042</td>\n",
       "    </tr>\n",
       "    <tr>\n",
       "      <th>383470</th>\n",
       "      <td>2009</td>\n",
       "      <td>1153</td>\n",
       "      <td>Wyoming County Community Hospital</td>\n",
       "      <td>811</td>\n",
       "      <td>3</td>\n",
       "      <td>Allergic Reactions</td>\n",
       "      <td>Major</td>\n",
       "      <td>M</td>\n",
       "      <td>Medical</td>\n",
       "      <td>1</td>\n",
       "      <td>6376</td>\n",
       "      <td>6376</td>\n",
       "      <td>10177</td>\n",
       "      <td>10177</td>\n",
       "    </tr>\n",
       "    <tr>\n",
       "      <th>383471</th>\n",
       "      <td>2009</td>\n",
       "      <td>1153</td>\n",
       "      <td>Wyoming County Community Hospital</td>\n",
       "      <td>812</td>\n",
       "      <td>3</td>\n",
       "      <td>Poisoning Of Medicinal Agents</td>\n",
       "      <td>Major</td>\n",
       "      <td>M</td>\n",
       "      <td>Medical</td>\n",
       "      <td>5</td>\n",
       "      <td>8896</td>\n",
       "      <td>5176</td>\n",
       "      <td>12082</td>\n",
       "      <td>8821</td>\n",
       "    </tr>\n",
       "    <tr>\n",
       "      <th>383472</th>\n",
       "      <td>2009</td>\n",
       "      <td>1153</td>\n",
       "      <td>Wyoming County Community Hospital</td>\n",
       "      <td>812</td>\n",
       "      <td>4</td>\n",
       "      <td>Poisoning Of Medicinal Agents</td>\n",
       "      <td>Extreme</td>\n",
       "      <td>M</td>\n",
       "      <td>Medical</td>\n",
       "      <td>1</td>\n",
       "      <td>11440</td>\n",
       "      <td>11440</td>\n",
       "      <td>27059</td>\n",
       "      <td>27059</td>\n",
       "    </tr>\n",
       "    <tr>\n",
       "      <th>383473</th>\n",
       "      <td>2009</td>\n",
       "      <td>1153</td>\n",
       "      <td>Wyoming County Community Hospital</td>\n",
       "      <td>812</td>\n",
       "      <td>1</td>\n",
       "      <td>Poisoning Of Medicinal Agents</td>\n",
       "      <td>Minor</td>\n",
       "      <td>M</td>\n",
       "      <td>Medical</td>\n",
       "      <td>3</td>\n",
       "      <td>3133</td>\n",
       "      <td>3157</td>\n",
       "      <td>3561</td>\n",
       "      <td>3449</td>\n",
       "    </tr>\n",
       "    <tr>\n",
       "      <th>383474</th>\n",
       "      <td>2009</td>\n",
       "      <td>1153</td>\n",
       "      <td>Wyoming County Community Hospital</td>\n",
       "      <td>812</td>\n",
       "      <td>2</td>\n",
       "      <td>Poisoning Of Medicinal Agents</td>\n",
       "      <td>Moderate</td>\n",
       "      <td>M</td>\n",
       "      <td>Medical</td>\n",
       "      <td>12</td>\n",
       "      <td>4561</td>\n",
       "      <td>4638</td>\n",
       "      <td>5637</td>\n",
       "      <td>5842</td>\n",
       "    </tr>\n",
       "    <tr>\n",
       "      <th>383475</th>\n",
       "      <td>2009</td>\n",
       "      <td>1153</td>\n",
       "      <td>Wyoming County Community Hospital</td>\n",
       "      <td>813</td>\n",
       "      <td>1</td>\n",
       "      <td>Other Complications Of Treatment</td>\n",
       "      <td>Minor</td>\n",
       "      <td>M</td>\n",
       "      <td>Medical</td>\n",
       "      <td>1</td>\n",
       "      <td>5729</td>\n",
       "      <td>5729</td>\n",
       "      <td>5062</td>\n",
       "      <td>5062</td>\n",
       "    </tr>\n",
       "    <tr>\n",
       "      <th>383476</th>\n",
       "      <td>2009</td>\n",
       "      <td>1153</td>\n",
       "      <td>Wyoming County Community Hospital</td>\n",
       "      <td>813</td>\n",
       "      <td>4</td>\n",
       "      <td>Other Complications Of Treatment</td>\n",
       "      <td>Extreme</td>\n",
       "      <td>M</td>\n",
       "      <td>Medical</td>\n",
       "      <td>1</td>\n",
       "      <td>12055</td>\n",
       "      <td>12055</td>\n",
       "      <td>9344</td>\n",
       "      <td>9344</td>\n",
       "    </tr>\n",
       "    <tr>\n",
       "      <th>383477</th>\n",
       "      <td>2009</td>\n",
       "      <td>1153</td>\n",
       "      <td>Wyoming County Community Hospital</td>\n",
       "      <td>813</td>\n",
       "      <td>3</td>\n",
       "      <td>Other Complications Of Treatment</td>\n",
       "      <td>Major</td>\n",
       "      <td>M</td>\n",
       "      <td>Medical</td>\n",
       "      <td>1</td>\n",
       "      <td>10091</td>\n",
       "      <td>10091</td>\n",
       "      <td>8695</td>\n",
       "      <td>8695</td>\n",
       "    </tr>\n",
       "    <tr>\n",
       "      <th>383478</th>\n",
       "      <td>2009</td>\n",
       "      <td>1153</td>\n",
       "      <td>Wyoming County Community Hospital</td>\n",
       "      <td>813</td>\n",
       "      <td>2</td>\n",
       "      <td>Other Complications Of Treatment</td>\n",
       "      <td>Moderate</td>\n",
       "      <td>M</td>\n",
       "      <td>Medical</td>\n",
       "      <td>2</td>\n",
       "      <td>3848</td>\n",
       "      <td>3848</td>\n",
       "      <td>3459</td>\n",
       "      <td>3459</td>\n",
       "    </tr>\n",
       "    <tr>\n",
       "      <th>383479</th>\n",
       "      <td>2009</td>\n",
       "      <td>1153</td>\n",
       "      <td>Wyoming County Community Hospital</td>\n",
       "      <td>816</td>\n",
       "      <td>1</td>\n",
       "      <td>Toxic Effects Of Non-Medicinal Substances</td>\n",
       "      <td>Minor</td>\n",
       "      <td>M</td>\n",
       "      <td>Medical</td>\n",
       "      <td>1</td>\n",
       "      <td>3511</td>\n",
       "      <td>3511</td>\n",
       "      <td>2390</td>\n",
       "      <td>2390</td>\n",
       "    </tr>\n",
       "    <tr>\n",
       "      <th>383480</th>\n",
       "      <td>2009</td>\n",
       "      <td>1153</td>\n",
       "      <td>Wyoming County Community Hospital</td>\n",
       "      <td>816</td>\n",
       "      <td>2</td>\n",
       "      <td>Toxic Effects Of Non-Medicinal Substances</td>\n",
       "      <td>Moderate</td>\n",
       "      <td>M</td>\n",
       "      <td>Medical</td>\n",
       "      <td>4</td>\n",
       "      <td>5289</td>\n",
       "      <td>5155</td>\n",
       "      <td>7317</td>\n",
       "      <td>6372</td>\n",
       "    </tr>\n",
       "    <tr>\n",
       "      <th>383481</th>\n",
       "      <td>2009</td>\n",
       "      <td>1153</td>\n",
       "      <td>Wyoming County Community Hospital</td>\n",
       "      <td>844</td>\n",
       "      <td>3</td>\n",
       "      <td>Partial Thickness Burns W Or W/O Skin Graft</td>\n",
       "      <td>Major</td>\n",
       "      <td>M</td>\n",
       "      <td>Medical</td>\n",
       "      <td>1</td>\n",
       "      <td>18982</td>\n",
       "      <td>18982</td>\n",
       "      <td>21168</td>\n",
       "      <td>21168</td>\n",
       "    </tr>\n",
       "    <tr>\n",
       "      <th>383482</th>\n",
       "      <td>2009</td>\n",
       "      <td>1153</td>\n",
       "      <td>Wyoming County Community Hospital</td>\n",
       "      <td>861</td>\n",
       "      <td>3</td>\n",
       "      <td>Signs, Symptoms &amp; Other Factors Influencing He...</td>\n",
       "      <td>Major</td>\n",
       "      <td>M</td>\n",
       "      <td>Medical</td>\n",
       "      <td>1</td>\n",
       "      <td>3547</td>\n",
       "      <td>3547</td>\n",
       "      <td>2874</td>\n",
       "      <td>2874</td>\n",
       "    </tr>\n",
       "    <tr>\n",
       "      <th>383483</th>\n",
       "      <td>2009</td>\n",
       "      <td>1153</td>\n",
       "      <td>Wyoming County Community Hospital</td>\n",
       "      <td>861</td>\n",
       "      <td>1</td>\n",
       "      <td>Signs, Symptoms &amp; Other Factors Influencing He...</td>\n",
       "      <td>Minor</td>\n",
       "      <td>M</td>\n",
       "      <td>Medical</td>\n",
       "      <td>4</td>\n",
       "      <td>3754</td>\n",
       "      <td>3421</td>\n",
       "      <td>2622</td>\n",
       "      <td>2308</td>\n",
       "    </tr>\n",
       "    <tr>\n",
       "      <th>383484</th>\n",
       "      <td>2009</td>\n",
       "      <td>1153</td>\n",
       "      <td>Wyoming County Community Hospital</td>\n",
       "      <td>861</td>\n",
       "      <td>2</td>\n",
       "      <td>Signs, Symptoms &amp; Other Factors Influencing He...</td>\n",
       "      <td>Moderate</td>\n",
       "      <td>M</td>\n",
       "      <td>Medical</td>\n",
       "      <td>10</td>\n",
       "      <td>5546</td>\n",
       "      <td>5544</td>\n",
       "      <td>4789</td>\n",
       "      <td>4897</td>\n",
       "    </tr>\n",
       "    <tr>\n",
       "      <th>383485</th>\n",
       "      <td>2009</td>\n",
       "      <td>1153</td>\n",
       "      <td>Wyoming County Community Hospital</td>\n",
       "      <td>930</td>\n",
       "      <td>2</td>\n",
       "      <td>Multiple Significant Trauma W/O O.R. Procedure</td>\n",
       "      <td>Moderate</td>\n",
       "      <td>M</td>\n",
       "      <td>Medical</td>\n",
       "      <td>1</td>\n",
       "      <td>8948</td>\n",
       "      <td>8948</td>\n",
       "      <td>8274</td>\n",
       "      <td>8274</td>\n",
       "    </tr>\n",
       "    <tr>\n",
       "      <th>383486</th>\n",
       "      <td>2009</td>\n",
       "      <td>1153</td>\n",
       "      <td>Wyoming County Community Hospital</td>\n",
       "      <td>950</td>\n",
       "      <td>4</td>\n",
       "      <td>Extensive Procedure Unrelated To Principal Dia...</td>\n",
       "      <td>Extreme</td>\n",
       "      <td>P</td>\n",
       "      <td>Surgical</td>\n",
       "      <td>1</td>\n",
       "      <td>28369</td>\n",
       "      <td>28369</td>\n",
       "      <td>32913</td>\n",
       "      <td>32913</td>\n",
       "    </tr>\n",
       "    <tr>\n",
       "      <th>383487</th>\n",
       "      <td>2009</td>\n",
       "      <td>1153</td>\n",
       "      <td>Wyoming County Community Hospital</td>\n",
       "      <td>950</td>\n",
       "      <td>3</td>\n",
       "      <td>Extensive Procedure Unrelated To Principal Dia...</td>\n",
       "      <td>Major</td>\n",
       "      <td>P</td>\n",
       "      <td>Surgical</td>\n",
       "      <td>1</td>\n",
       "      <td>23960</td>\n",
       "      <td>23960</td>\n",
       "      <td>21789</td>\n",
       "      <td>21789</td>\n",
       "    </tr>\n",
       "    <tr>\n",
       "      <th>383488</th>\n",
       "      <td>2009</td>\n",
       "      <td>1153</td>\n",
       "      <td>Wyoming County Community Hospital</td>\n",
       "      <td>951</td>\n",
       "      <td>3</td>\n",
       "      <td>Moderately Extensive Procedure Unrelated To Pr...</td>\n",
       "      <td>Major</td>\n",
       "      <td>P</td>\n",
       "      <td>Surgical</td>\n",
       "      <td>5</td>\n",
       "      <td>13572</td>\n",
       "      <td>12615</td>\n",
       "      <td>14433</td>\n",
       "      <td>15835</td>\n",
       "    </tr>\n",
       "    <tr>\n",
       "      <th>383489</th>\n",
       "      <td>2009</td>\n",
       "      <td>1153</td>\n",
       "      <td>Wyoming County Community Hospital</td>\n",
       "      <td>952</td>\n",
       "      <td>3</td>\n",
       "      <td>Nonextensive Procedure Unrelated To Principal ...</td>\n",
       "      <td>Major</td>\n",
       "      <td>P</td>\n",
       "      <td>Surgical</td>\n",
       "      <td>4</td>\n",
       "      <td>8323</td>\n",
       "      <td>8179</td>\n",
       "      <td>9520</td>\n",
       "      <td>8674</td>\n",
       "    </tr>\n",
       "    <tr>\n",
       "      <th>383490</th>\n",
       "      <td>2009</td>\n",
       "      <td>1153</td>\n",
       "      <td>Wyoming County Community Hospital</td>\n",
       "      <td>952</td>\n",
       "      <td>2</td>\n",
       "      <td>Nonextensive Procedure Unrelated To Principal ...</td>\n",
       "      <td>Moderate</td>\n",
       "      <td>P</td>\n",
       "      <td>Surgical</td>\n",
       "      <td>5</td>\n",
       "      <td>7746</td>\n",
       "      <td>5120</td>\n",
       "      <td>7257</td>\n",
       "      <td>5321</td>\n",
       "    </tr>\n",
       "    <tr>\n",
       "      <th>383491</th>\n",
       "      <td>2009</td>\n",
       "      <td>1153</td>\n",
       "      <td>Wyoming County Community Hospital</td>\n",
       "      <td>952</td>\n",
       "      <td>1</td>\n",
       "      <td>Nonextensive Procedure Unrelated To Principal ...</td>\n",
       "      <td>Minor</td>\n",
       "      <td>P</td>\n",
       "      <td>Surgical</td>\n",
       "      <td>1</td>\n",
       "      <td>7892</td>\n",
       "      <td>7892</td>\n",
       "      <td>6528</td>\n",
       "      <td>6528</td>\n",
       "    </tr>\n",
       "    <tr>\n",
       "      <th>383492</th>\n",
       "      <td>2009</td>\n",
       "      <td>1153</td>\n",
       "      <td>Wyoming County Community Hospital</td>\n",
       "      <td>956</td>\n",
       "      <td>0</td>\n",
       "      <td>Ungroupable</td>\n",
       "      <td>NaN</td>\n",
       "      <td>NaN</td>\n",
       "      <td>Other</td>\n",
       "      <td>3</td>\n",
       "      <td>1069</td>\n",
       "      <td>1309</td>\n",
       "      <td>1719</td>\n",
       "      <td>1756</td>\n",
       "    </tr>\n",
       "  </tbody>\n",
       "</table>\n",
       "<p>383493 rows × 14 columns</p>\n",
       "</div>"
      ],
      "text/plain": [
       "        Year  Facility Id                                Facility Name  \\\n",
       "0       2011          324  Adirondack Medical Center-Saranac Lake Site   \n",
       "1       2011          324  Adirondack Medical Center-Saranac Lake Site   \n",
       "2       2011          324  Adirondack Medical Center-Saranac Lake Site   \n",
       "3       2011          324  Adirondack Medical Center-Saranac Lake Site   \n",
       "4       2011          324  Adirondack Medical Center-Saranac Lake Site   \n",
       "5       2011          324  Adirondack Medical Center-Saranac Lake Site   \n",
       "6       2011          324  Adirondack Medical Center-Saranac Lake Site   \n",
       "7       2011          324  Adirondack Medical Center-Saranac Lake Site   \n",
       "8       2011          324  Adirondack Medical Center-Saranac Lake Site   \n",
       "9       2011          324  Adirondack Medical Center-Saranac Lake Site   \n",
       "10      2011          324  Adirondack Medical Center-Saranac Lake Site   \n",
       "11      2011          324  Adirondack Medical Center-Saranac Lake Site   \n",
       "12      2011          324  Adirondack Medical Center-Saranac Lake Site   \n",
       "13      2011          324  Adirondack Medical Center-Saranac Lake Site   \n",
       "14      2011          324  Adirondack Medical Center-Saranac Lake Site   \n",
       "15      2011          324  Adirondack Medical Center-Saranac Lake Site   \n",
       "16      2011          324  Adirondack Medical Center-Saranac Lake Site   \n",
       "17      2011          324  Adirondack Medical Center-Saranac Lake Site   \n",
       "18      2011          324  Adirondack Medical Center-Saranac Lake Site   \n",
       "19      2011          324  Adirondack Medical Center-Saranac Lake Site   \n",
       "20      2011          324  Adirondack Medical Center-Saranac Lake Site   \n",
       "21      2011          324  Adirondack Medical Center-Saranac Lake Site   \n",
       "22      2011          324  Adirondack Medical Center-Saranac Lake Site   \n",
       "23      2011          324  Adirondack Medical Center-Saranac Lake Site   \n",
       "24      2011          324  Adirondack Medical Center-Saranac Lake Site   \n",
       "25      2011          324  Adirondack Medical Center-Saranac Lake Site   \n",
       "26      2011          324  Adirondack Medical Center-Saranac Lake Site   \n",
       "27      2011          324  Adirondack Medical Center-Saranac Lake Site   \n",
       "28      2011          324  Adirondack Medical Center-Saranac Lake Site   \n",
       "29      2011          324  Adirondack Medical Center-Saranac Lake Site   \n",
       "...      ...          ...                                          ...   \n",
       "383463  2009         1153            Wyoming County Community Hospital   \n",
       "383464  2009         1153            Wyoming County Community Hospital   \n",
       "383465  2009         1153            Wyoming County Community Hospital   \n",
       "383466  2009         1153            Wyoming County Community Hospital   \n",
       "383467  2009         1153            Wyoming County Community Hospital   \n",
       "383468  2009         1153            Wyoming County Community Hospital   \n",
       "383469  2009         1153            Wyoming County Community Hospital   \n",
       "383470  2009         1153            Wyoming County Community Hospital   \n",
       "383471  2009         1153            Wyoming County Community Hospital   \n",
       "383472  2009         1153            Wyoming County Community Hospital   \n",
       "383473  2009         1153            Wyoming County Community Hospital   \n",
       "383474  2009         1153            Wyoming County Community Hospital   \n",
       "383475  2009         1153            Wyoming County Community Hospital   \n",
       "383476  2009         1153            Wyoming County Community Hospital   \n",
       "383477  2009         1153            Wyoming County Community Hospital   \n",
       "383478  2009         1153            Wyoming County Community Hospital   \n",
       "383479  2009         1153            Wyoming County Community Hospital   \n",
       "383480  2009         1153            Wyoming County Community Hospital   \n",
       "383481  2009         1153            Wyoming County Community Hospital   \n",
       "383482  2009         1153            Wyoming County Community Hospital   \n",
       "383483  2009         1153            Wyoming County Community Hospital   \n",
       "383484  2009         1153            Wyoming County Community Hospital   \n",
       "383485  2009         1153            Wyoming County Community Hospital   \n",
       "383486  2009         1153            Wyoming County Community Hospital   \n",
       "383487  2009         1153            Wyoming County Community Hospital   \n",
       "383488  2009         1153            Wyoming County Community Hospital   \n",
       "383489  2009         1153            Wyoming County Community Hospital   \n",
       "383490  2009         1153            Wyoming County Community Hospital   \n",
       "383491  2009         1153            Wyoming County Community Hospital   \n",
       "383492  2009         1153            Wyoming County Community Hospital   \n",
       "\n",
       "        APR DRG Code  APR Severity of Illness Code  \\\n",
       "0                  4                             4   \n",
       "1                  5                             4   \n",
       "2                 24                             2   \n",
       "3                 26                             1   \n",
       "4                 41                             1   \n",
       "5                 41                             2   \n",
       "6                 42                             2   \n",
       "7                 42                             3   \n",
       "8                 42                             4   \n",
       "9                 43                             1   \n",
       "10                43                             3   \n",
       "11                44                             3   \n",
       "12                44                             4   \n",
       "13                45                             3   \n",
       "14                45                             4   \n",
       "15                45                             1   \n",
       "16                45                             2   \n",
       "17                46                             2   \n",
       "18                47                             1   \n",
       "19                47                             2   \n",
       "20                47                             3   \n",
       "21                48                             2   \n",
       "22                48                             3   \n",
       "23                48                             4   \n",
       "24                51                             1   \n",
       "25                52                             1   \n",
       "26                52                             3   \n",
       "27                52                             4   \n",
       "28                53                             1   \n",
       "29                53                             2   \n",
       "...              ...                           ...   \n",
       "383463           775                             2   \n",
       "383464           775                             4   \n",
       "383465           776                             2   \n",
       "383466           776                             1   \n",
       "383467           791                             1   \n",
       "383468           811                             4   \n",
       "383469           811                             1   \n",
       "383470           811                             3   \n",
       "383471           812                             3   \n",
       "383472           812                             4   \n",
       "383473           812                             1   \n",
       "383474           812                             2   \n",
       "383475           813                             1   \n",
       "383476           813                             4   \n",
       "383477           813                             3   \n",
       "383478           813                             2   \n",
       "383479           816                             1   \n",
       "383480           816                             2   \n",
       "383481           844                             3   \n",
       "383482           861                             3   \n",
       "383483           861                             1   \n",
       "383484           861                             2   \n",
       "383485           930                             2   \n",
       "383486           950                             4   \n",
       "383487           950                             3   \n",
       "383488           951                             3   \n",
       "383489           952                             3   \n",
       "383490           952                             2   \n",
       "383491           952                             1   \n",
       "383492           956                             0   \n",
       "\n",
       "                                      APR DRG Description  \\\n",
       "0       Tracheostomy W MV 96+ Hours W Extensive Proced...   \n",
       "1       Tracheostomy W MV 96+ Hours W/O Extensive Proc...   \n",
       "2                        Extracranial Vascular Procedures   \n",
       "3               Other Nervous System & Related Procedures   \n",
       "4                               Nervous System Malignancy   \n",
       "5                               Nervous System Malignancy   \n",
       "6       Degenerative Nervous System Disorders Exc Mult...   \n",
       "7       Degenerative Nervous System Disorders Exc Mult...   \n",
       "8       Degenerative Nervous System Disorders Exc Mult...   \n",
       "9       Multiple Sclerosis & Other Demyelinating Diseases   \n",
       "10      Multiple Sclerosis & Other Demyelinating Diseases   \n",
       "11                                Intracranial Hemorrhage   \n",
       "12                                Intracranial Hemorrhage   \n",
       "13                  CVA & Precerebral Occlusion W Infarct   \n",
       "14                  CVA & Precerebral Occlusion W Infarct   \n",
       "15                  CVA & Precerebral Occlusion W Infarct   \n",
       "16                  CVA & Precerebral Occlusion W Infarct   \n",
       "17      Nonspecific CVA & Precerebral Occlusion W/O In...   \n",
       "18                                     Transient Ischemia   \n",
       "19                                     Transient Ischemia   \n",
       "20                                     Transient Ischemia   \n",
       "21        Peripheral, Cranial & Autonomic Nerve Disorders   \n",
       "22        Peripheral, Cranial & Autonomic Nerve Disorders   \n",
       "23        Peripheral, Cranial & Autonomic Nerve Disorders   \n",
       "24                                       Viral Meningitis   \n",
       "25                             Nontraumatic Stupor & Coma   \n",
       "26                             Nontraumatic Stupor & Coma   \n",
       "27                             Nontraumatic Stupor & Coma   \n",
       "28                                                Seizure   \n",
       "29                                                Seizure   \n",
       "...                                                   ...   \n",
       "383463                         Alcohol Abuse & Dependence   \n",
       "383464                         Alcohol Abuse & Dependence   \n",
       "383465                      Other Drug Abuse & Dependence   \n",
       "383466                      Other Drug Abuse & Dependence   \n",
       "383467  O.R. Procedure For Other Complications Of Trea...   \n",
       "383468                                 Allergic Reactions   \n",
       "383469                                 Allergic Reactions   \n",
       "383470                                 Allergic Reactions   \n",
       "383471                      Poisoning Of Medicinal Agents   \n",
       "383472                      Poisoning Of Medicinal Agents   \n",
       "383473                      Poisoning Of Medicinal Agents   \n",
       "383474                      Poisoning Of Medicinal Agents   \n",
       "383475                   Other Complications Of Treatment   \n",
       "383476                   Other Complications Of Treatment   \n",
       "383477                   Other Complications Of Treatment   \n",
       "383478                   Other Complications Of Treatment   \n",
       "383479          Toxic Effects Of Non-Medicinal Substances   \n",
       "383480          Toxic Effects Of Non-Medicinal Substances   \n",
       "383481        Partial Thickness Burns W Or W/O Skin Graft   \n",
       "383482  Signs, Symptoms & Other Factors Influencing He...   \n",
       "383483  Signs, Symptoms & Other Factors Influencing He...   \n",
       "383484  Signs, Symptoms & Other Factors Influencing He...   \n",
       "383485     Multiple Significant Trauma W/O O.R. Procedure   \n",
       "383486  Extensive Procedure Unrelated To Principal Dia...   \n",
       "383487  Extensive Procedure Unrelated To Principal Dia...   \n",
       "383488  Moderately Extensive Procedure Unrelated To Pr...   \n",
       "383489  Nonextensive Procedure Unrelated To Principal ...   \n",
       "383490  Nonextensive Procedure Unrelated To Principal ...   \n",
       "383491  Nonextensive Procedure Unrelated To Principal ...   \n",
       "383492                                        Ungroupable   \n",
       "\n",
       "       APR Severity of Illness Description APR Medical Surgical Code  \\\n",
       "0                                  Extreme                         P   \n",
       "1                                  Extreme                         P   \n",
       "2                                 Moderate                         P   \n",
       "3                                    Minor                         P   \n",
       "4                                    Minor                         M   \n",
       "5                                 Moderate                         M   \n",
       "6                                 Moderate                         M   \n",
       "7                                    Major                         M   \n",
       "8                                  Extreme                         M   \n",
       "9                                    Minor                         M   \n",
       "10                                   Major                         M   \n",
       "11                                   Major                         M   \n",
       "12                                 Extreme                         M   \n",
       "13                                   Major                         M   \n",
       "14                                 Extreme                         M   \n",
       "15                                   Minor                         M   \n",
       "16                                Moderate                         M   \n",
       "17                                Moderate                         M   \n",
       "18                                   Minor                         M   \n",
       "19                                Moderate                         M   \n",
       "20                                   Major                         M   \n",
       "21                                Moderate                         M   \n",
       "22                                   Major                         M   \n",
       "23                                 Extreme                         M   \n",
       "24                                   Minor                         M   \n",
       "25                                   Minor                         M   \n",
       "26                                   Major                         M   \n",
       "27                                 Extreme                         M   \n",
       "28                                   Minor                         M   \n",
       "29                                Moderate                         M   \n",
       "...                                    ...                       ...   \n",
       "383463                            Moderate                         M   \n",
       "383464                             Extreme                         M   \n",
       "383465                            Moderate                         M   \n",
       "383466                               Minor                         M   \n",
       "383467                               Minor                         P   \n",
       "383468                             Extreme                         M   \n",
       "383469                               Minor                         M   \n",
       "383470                               Major                         M   \n",
       "383471                               Major                         M   \n",
       "383472                             Extreme                         M   \n",
       "383473                               Minor                         M   \n",
       "383474                            Moderate                         M   \n",
       "383475                               Minor                         M   \n",
       "383476                             Extreme                         M   \n",
       "383477                               Major                         M   \n",
       "383478                            Moderate                         M   \n",
       "383479                               Minor                         M   \n",
       "383480                            Moderate                         M   \n",
       "383481                               Major                         M   \n",
       "383482                               Major                         M   \n",
       "383483                               Minor                         M   \n",
       "383484                            Moderate                         M   \n",
       "383485                            Moderate                         M   \n",
       "383486                             Extreme                         P   \n",
       "383487                               Major                         P   \n",
       "383488                               Major                         P   \n",
       "383489                               Major                         P   \n",
       "383490                            Moderate                         P   \n",
       "383491                               Minor                         P   \n",
       "383492                                 NaN                       NaN   \n",
       "\n",
       "       APR Medical Surgical Description  Discharges  Mean Charge  \\\n",
       "0                              Surgical           3       361289   \n",
       "1                              Surgical           1       102190   \n",
       "2                              Surgical           6        14172   \n",
       "3                              Surgical           1         8833   \n",
       "4                               Medical           1         5264   \n",
       "5                               Medical           1        17314   \n",
       "6                               Medical           4        11574   \n",
       "7                               Medical           2        18195   \n",
       "8                               Medical           1        18243   \n",
       "9                               Medical           1        28313   \n",
       "10                              Medical           1         6186   \n",
       "11                              Medical           2        10174   \n",
       "12                              Medical           1         8833   \n",
       "13                              Medical          11        21629   \n",
       "14                              Medical           4        30637   \n",
       "15                              Medical           4        16533   \n",
       "16                              Medical          20        14958   \n",
       "17                              Medical           2         9032   \n",
       "18                              Medical           4        15246   \n",
       "19                              Medical           4        11039   \n",
       "20                              Medical           1        15310   \n",
       "21                              Medical           2        12954   \n",
       "22                              Medical           2        11922   \n",
       "23                              Medical           1        17802   \n",
       "24                              Medical           1        17116   \n",
       "25                              Medical           1        10111   \n",
       "26                              Medical           5        14780   \n",
       "27                              Medical           1        28849   \n",
       "28                              Medical           3         6096   \n",
       "29                              Medical           3         9856   \n",
       "...                                 ...         ...          ...   \n",
       "383463                          Medical          13         3772   \n",
       "383464                          Medical           1         4676   \n",
       "383465                          Medical           7         7695   \n",
       "383466                          Medical           3         5118   \n",
       "383467                         Surgical           2         1745   \n",
       "383468                          Medical           1        12649   \n",
       "383469                          Medical           1         2000   \n",
       "383470                          Medical           1         6376   \n",
       "383471                          Medical           5         8896   \n",
       "383472                          Medical           1        11440   \n",
       "383473                          Medical           3         3133   \n",
       "383474                          Medical          12         4561   \n",
       "383475                          Medical           1         5729   \n",
       "383476                          Medical           1        12055   \n",
       "383477                          Medical           1        10091   \n",
       "383478                          Medical           2         3848   \n",
       "383479                          Medical           1         3511   \n",
       "383480                          Medical           4         5289   \n",
       "383481                          Medical           1        18982   \n",
       "383482                          Medical           1         3547   \n",
       "383483                          Medical           4         3754   \n",
       "383484                          Medical          10         5546   \n",
       "383485                          Medical           1         8948   \n",
       "383486                         Surgical           1        28369   \n",
       "383487                         Surgical           1        23960   \n",
       "383488                         Surgical           5        13572   \n",
       "383489                         Surgical           4         8323   \n",
       "383490                         Surgical           5         7746   \n",
       "383491                         Surgical           1         7892   \n",
       "383492                            Other           3         1069   \n",
       "\n",
       "        Median Charge  Mean Cost  Median Cost  \n",
       "0              210882     196080       123347  \n",
       "1              102190      59641        59641  \n",
       "2               13506       6888         6445  \n",
       "3                8833       4259         4259  \n",
       "4                5264       1727         1727  \n",
       "5               17314       5826         5826  \n",
       "6               11190       6122         5729  \n",
       "7               18195       9919         9919  \n",
       "8               18243       9694         9694  \n",
       "9               28313      10598        10598  \n",
       "10               6186       4014         4014  \n",
       "11              10174       4438         4438  \n",
       "12               8833       4071         4071  \n",
       "13              20156      11648         9660  \n",
       "14              29466      17262        17249  \n",
       "15              15251       6925         7431  \n",
       "16              14812       7118         7095  \n",
       "17               9032       4407         4407  \n",
       "18              14574       6416         6497  \n",
       "19              10144       4586         4773  \n",
       "20              15310       5018         5018  \n",
       "21              12954       6600         6600  \n",
       "22              11922       7022         7022  \n",
       "23              17802       9721         9721  \n",
       "24              17116       7006         7006  \n",
       "25              10111       3776         3776  \n",
       "26              13939       7207         6486  \n",
       "27              28849      17483        17483  \n",
       "28               6317       3259         3456  \n",
       "29               8088       4849         4153  \n",
       "...               ...        ...          ...  \n",
       "383463           3485       3245         2247  \n",
       "383464           4676       4134         4134  \n",
       "383465           5599       7058         4212  \n",
       "383466           5231       3933         3763  \n",
       "383467           1745       1687         1687  \n",
       "383468          12649      14707        14707  \n",
       "383469           2000       5042         5042  \n",
       "383470           6376      10177        10177  \n",
       "383471           5176      12082         8821  \n",
       "383472          11440      27059        27059  \n",
       "383473           3157       3561         3449  \n",
       "383474           4638       5637         5842  \n",
       "383475           5729       5062         5062  \n",
       "383476          12055       9344         9344  \n",
       "383477          10091       8695         8695  \n",
       "383478           3848       3459         3459  \n",
       "383479           3511       2390         2390  \n",
       "383480           5155       7317         6372  \n",
       "383481          18982      21168        21168  \n",
       "383482           3547       2874         2874  \n",
       "383483           3421       2622         2308  \n",
       "383484           5544       4789         4897  \n",
       "383485           8948       8274         8274  \n",
       "383486          28369      32913        32913  \n",
       "383487          23960      21789        21789  \n",
       "383488          12615      14433        15835  \n",
       "383489           8179       9520         8674  \n",
       "383490           5120       7257         5321  \n",
       "383491           7892       6528         6528  \n",
       "383492           1309       1719         1756  \n",
       "\n",
       "[383493 rows x 14 columns]"
      ]
     },
     "execution_count": 71,
     "metadata": {},
     "output_type": "execute_result"
    }
   ],
   "source": [
    "pd.read_csv('data/hospital-costs.csv')"
   ]
  },
  {
   "cell_type": "code",
   "execution_count": 66,
   "metadata": {
    "collapsed": false
   },
   "outputs": [
    {
     "name": "stdout",
     "output_type": "stream",
     "text": [
      "/Users/scott/Documents/python4ds/pandas_numpy_matplotlib\n"
     ]
    }
   ],
   "source": [
    "cd pandas_numpy_matplotlib/"
   ]
  },
  {
   "cell_type": "code",
   "execution_count": 68,
   "metadata": {
    "collapsed": false
   },
   "outputs": [
    {
     "name": "stdout",
     "output_type": "stream",
     "text": [
      "/Users/scott/Documents/python4ds/pandas_numpy_matplotlib/data\n"
     ]
    }
   ],
   "source": [
    "cd data"
   ]
  },
  {
   "cell_type": "code",
   "execution_count": 69,
   "metadata": {
    "collapsed": false
   },
   "outputs": [
    {
     "name": "stdout",
     "output_type": "stream",
     "text": [
      "apples.csv            \u001b[1m\u001b[34mbaseball-csvs\u001b[m\u001b[m/        hospital-costs.csv    one.csv               playgolf.csv          readme-game-logs.txt  \u001b[1m\u001b[32mreadme2013.txt\u001b[m\u001b[m*       two.csv\r\n"
     ]
    }
   ],
   "source": [
    "ls\n"
   ]
  },
  {
   "cell_type": "code",
   "execution_count": 70,
   "metadata": {
    "collapsed": false
   },
   "outputs": [
    {
     "name": "stdout",
     "output_type": "stream",
     "text": [
      "/Users/scott/Documents/python4ds/pandas_numpy_matplotlib\n"
     ]
    }
   ],
   "source": [
    "cd .."
   ]
  },
  {
   "cell_type": "code",
   "execution_count": null,
   "metadata": {
    "collapsed": true
   },
   "outputs": [],
   "source": []
  }
 ],
 "metadata": {
  "kernelspec": {
   "display_name": "Python 2",
   "language": "python",
   "name": "python2"
  },
  "language_info": {
   "codemirror_mode": {
    "name": "ipython",
    "version": 2
   },
   "file_extension": ".py",
   "mimetype": "text/x-python",
   "name": "python",
   "nbconvert_exporter": "python",
   "pygments_lexer": "ipython2",
   "version": "2.7.10"
  }
 },
 "nbformat": 4,
 "nbformat_minor": 0
}
