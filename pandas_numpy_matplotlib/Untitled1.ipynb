{
 "cells": [
  {
   "cell_type": "code",
   "execution_count": 2,
   "metadata": {
    "collapsed": false
   },
   "outputs": [
    {
     "name": "stdout",
     "output_type": "stream",
     "text": [
      "['T', 'h', 'e', 'Z', 'e', 'n', 'o', 'f', 'P', 'y', 't', 'h', 'o', 'n', 'b', 'y', 'T', 'i', 'm', 'P', 'e', 't', 'e', 'r', 's', 'B', 'e', 'a', 'u', 't', 'i', 'f', 'u', 'l', 'i', 's', 'b', 'e', 't', 't', 'e', 'r', 't', 'h', 'a', 'n', 'u', 'g', 'l', 'y', 'E', 'x', 'p', 'l', 'i', 'c', 'i', 't', 'i', 's', 'b', 'e', 't', 't', 'e', 'r', 't', 'h', 'a', 'n', 'i', 'm', 'p', 'l', 'i', 'c', 'i', 't', 'S', 'i', 'm', 'p', 'l', 'e', 'i', 's', 'b', 'e', 't', 't', 'e', 'r', 't', 'h', 'a', 'n', 'c', 'o', 'm', 'p', 'l', 'e', 'x', 'C', 'o', 'm', 'p', 'l', 'e', 'x', 'i', 's', 'b', 'e', 't', 't', 'e', 'r', 't', 'h', 'a', 'n', 'c', 'o', 'm', 'p', 'l', 'i', 'c', 'a', 't', 'e', 'd', 'F', 'l', 'a', 't', 'i', 's', 'b', 'e', 't', 't', 'e', 'r', 't', 'h', 'a', 'n', 'n', 'e', 's', 't', 'e', 'd', 'S', 'p', 'a', 'r', 's', 'e', 'i', 's', 'b', 'e', 't', 't', 'e', 'r', 't', 'h', 'a', 'n', 'd', 'e', 'n', 's', 'e', 'R', 'e', 'a', 'd', 'a', 'b', 'i', 'l', 'i', 't', 'y', 'c', 'o', 'u', 'n', 't', 's', 'S', 'p', 'e', 'c', 'i', 'a', 'l', 'c', 'a', 's', 'e', 's', 'a', 'r', 'e', 'n', 't', 's', 'p', 'e', 'c', 'i', 'a', 'l', 'e', 'n', 'o', 'u', 'g', 'h', 't', 'o', 'b', 'r', 'e', 'a', 'k', 't', 'h', 'e', 'r', 'u', 'l', 'e', 's', 'A', 'l', 't', 'h', 'o', 'u', 'g', 'h', 'p', 'r', 'a', 'c', 't', 'i', 'c', 'a', 'l', 'i', 't', 'y', 'b', 'e', 'a', 't', 's', 'p', 'u', 'r', 'i', 't', 'y', 'E', 'r', 'r', 'o', 'r', 's', 's', 'h', 'o', 'u', 'l', 'd', 'n', 'e', 'v', 'e', 'r', 'p', 'a', 's', 's', 's', 'i', 'l', 'e', 'n', 't', 'l', 'y', 'U', 'n', 'l', 'e', 's', 's', 'e', 'x', 'p', 'l', 'i', 'c', 'i', 't', 'l', 'y', 's', 'i', 'l', 'e', 'n', 'c', 'e', 'd', 'I', 'n', 't', 'h', 'e', 'f', 'a', 'c', 'e', 'o', 'f', 'a', 'm', 'b', 'i', 'g', 'u', 'i', 't', 'y', 'r', 'e', 'f', 'u', 's', 'e', 't', 'h', 'e', 't', 'e', 'm', 'p', 't', 'a', 't', 'i', 'o', 'n', 't', 'o', 'g', 'u', 'e', 's', 's', 'T', 'h', 'e', 'r', 'e', 's', 'h', 'o', 'u', 'l', 'd', 'b', 'e', 'o', 'n', 'e', 'a', 'n', 'd', 'p', 'r', 'e', 'f', 'e', 'r', 'a', 'b', 'l', 'y', 'o', 'n', 'l', 'y', 'o', 'n', 'e', 'o', 'b', 'v', 'i', 'o', 'u', 's', 'w', 'a', 'y', 't', 'o', 'd', 'o', 'i', 't', 'A', 'l', 't', 'h', 'o', 'u', 'g', 'h', 't', 'h', 'a', 't', 'w', 'a', 'y', 'm', 'a', 'y', 'n', 'o', 't', 'b', 'e', 'o', 'b', 'v', 'i', 'o', 'u', 's', 'a', 't', 'f', 'i', 'r', 's', 't', 'u', 'n', 'l', 'e', 's', 's', 'y', 'o', 'u', 'r', 'e', 'D', 'u', 't', 'c', 'h', 'N', 'o', 'w', 'i', 's', 'b', 'e', 't', 't', 'e', 'r', 't', 'h', 'a', 'n', 'n', 'e', 'v', 'e', 'r', 'A', 'l', 't', 'h', 'o', 'u', 'g', 'h', 'n', 'e', 'v', 'e', 'r', 'i', 's', 'o', 'f', 't', 'e', 'n', 'b', 'e', 't', 't', 'e', 'r', 't', 'h', 'a', 'n', 'r', 'i', 'g', 'h', 't', 'n', 'o', 'w', 'I', 'f', 't', 'h', 'e', 'i', 'm', 'p', 'l', 'e', 'm', 'e', 'n', 't', 'a', 't', 'i', 'o', 'n', 'i', 's', 'h', 'a', 'r', 'd', 't', 'o', 'e', 'x', 'p', 'l', 'a', 'i', 'n', 'i', 't', 's', 'a', 'b', 'a', 'd', 'i', 'd', 'e', 'a', 'I', 'f', 't', 'h', 'e', 'i', 'm', 'p', 'l', 'e', 'm', 'e', 'n', 't', 'a', 't', 'i', 'o', 'n', 'i', 's', 'e', 'a', 's', 'y', 't', 'o', 'e', 'x', 'p', 'l', 'a', 'i', 'n', 'i', 't', 'm', 'a', 'y', 'b', 'e', 'a', 'g', 'o', 'o', 'd', 'i', 'd', 'e', 'a', 'N', 'a', 'm', 'e', 's', 'p', 'a', 'c', 'e', 's', 'a', 'r', 'e', 'o', 'n', 'e', 'h', 'o', 'n', 'k', 'i', 'n', 'g', 'g', 'r', 'e', 'a', 't', 'i', 'd', 'e', 'a', 'l', 'e', 't', 's', 'd', 'o', 'm', 'o', 'r', 'e', 'o', 'f', 't', 'h', 'o', 's', 'e']\n"
     ]
    }
   ],
   "source": [
    "import this\n",
    "mylist = []\n",
    "\n",
    "for i,val in enumerate(this.s):\n",
    "    try:\n",
    "        mylist.append(this.d[val])\n",
    "    except:\n",
    "        pass\n",
    "    \n",
    "print mylist"
   ]
  },
  {
   "cell_type": "code",
   "execution_count": null,
   "metadata": {
    "collapsed": true
   },
   "outputs": [],
   "source": []
  }
 ],
 "metadata": {
  "kernelspec": {
   "display_name": "Python 2",
   "language": "python",
   "name": "python2"
  },
  "language_info": {
   "codemirror_mode": {
    "name": "ipython",
    "version": 2
   },
   "file_extension": ".py",
   "mimetype": "text/x-python",
   "name": "python",
   "nbconvert_exporter": "python",
   "pygments_lexer": "ipython2",
   "version": "2.7.11"
  }
 },
 "nbformat": 4,
 "nbformat_minor": 0
}
