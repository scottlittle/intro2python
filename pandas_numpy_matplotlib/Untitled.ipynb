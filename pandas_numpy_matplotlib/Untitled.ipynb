{
 "cells": [
  {
   "cell_type": "code",
   "execution_count": 1,
   "metadata": {
    "collapsed": true
   },
   "outputs": [],
   "source": [
    "import nltk"
   ]
  },
  {
   "cell_type": "code",
   "execution_count": 2,
   "metadata": {
    "collapsed": false
   },
   "outputs": [],
   "source": [
    "mytokenized = nltk.word_tokenize(\"i was going down the road\")"
   ]
  },
  {
   "cell_type": "code",
   "execution_count": 3,
   "metadata": {
    "collapsed": false
   },
   "outputs": [
    {
     "name": "stdout",
     "output_type": "stream",
     "text": [
      "[Synset('iodine.n.01'), Synset('one.n.01'), Synset('i.n.03'), Synset('one.s.01')]\n",
      "\n",
      "\n",
      "[Synset('washington.n.02'), Synset('be.v.01'), Synset('be.v.02'), Synset('be.v.03'), Synset('exist.v.01'), Synset('be.v.05'), Synset('equal.v.01'), Synset('constitute.v.01'), Synset('be.v.08'), Synset('embody.v.02'), Synset('be.v.10'), Synset('be.v.11'), Synset('be.v.12'), Synset('cost.v.01')]\n",
      "\n",
      "\n",
      "[Synset('departure.n.01'), Synset('passing.n.02'), Synset('going.n.03'), Synset('travel.v.01'), Synset('go.v.02'), Synset('go.v.03'), Synset('become.v.01'), Synset('go.v.05'), Synset('run.v.05'), Synset('run.v.03'), Synset('proceed.v.04'), Synset('go.v.09'), Synset('go.v.10'), Synset('sound.v.02'), Synset('function.v.01'), Synset('run_low.v.01'), Synset('move.v.13'), Synset('survive.v.01'), Synset('go.v.16'), Synset('die.v.01'), Synset('belong.v.03'), Synset('go.v.19'), Synset('start.v.09'), Synset('move.v.15'), Synset('go.v.22'), Synset('go.v.23'), Synset('blend.v.02'), Synset('go.v.25'), Synset('fit.v.02'), Synset('rifle.v.02'), Synset('go.v.28'), Synset('plump.v.04'), Synset('fail.v.04'), Synset('going.s.01')]\n",
      "\n",
      "\n",
      "[Synset('down.n.01'), Synset('down.n.02'), Synset('down.n.03'), Synset('down.n.04'), Synset('down.n.05'), Synset('toss_off.v.02'), Synset('devour.v.03'), Synset('down.v.03'), Synset('down.v.04'), Synset('down.v.05'), Synset('polish.v.02'), Synset('down.a.01'), Synset('down.s.02'), Synset('down.s.03'), Synset('down.s.04'), Synset('down.s.05'), Synset('depressed.s.01'), Synset('down.s.07'), Synset('down.s.08'), Synset('gloomy.s.02'), Synset('down.r.01'), Synset('down.r.02'), Synset('down.r.03'), Synset('down.r.04'), Synset('down.r.05'), Synset('down.r.06')]\n",
      "\n",
      "\n",
      "[]\n",
      "\n",
      "\n",
      "[Synset('road.n.01'), Synset('road.n.02')]\n",
      "\n",
      "\n"
     ]
    }
   ],
   "source": [
    "for x in mytokenized:\n",
    "    print nltk.wordnet.wordnet.synsets(x)\n",
    "    print '\\n'"
   ]
  },
  {
   "cell_type": "code",
   "execution_count": 13,
   "metadata": {
    "collapsed": false
   },
   "outputs": [
    {
     "data": {
      "text/plain": [
       "[Synset('dog.n.01'),\n",
       " Synset('frump.n.01'),\n",
       " Synset('dog.n.03'),\n",
       " Synset('cad.n.01'),\n",
       " Synset('frank.n.02'),\n",
       " Synset('pawl.n.01'),\n",
       " Synset('andiron.n.01'),\n",
       " Synset('chase.v.01')]"
      ]
     },
     "execution_count": 13,
     "metadata": {},
     "output_type": "execute_result"
    }
   ],
   "source": [
    "nltk.wordnet.wordnet.synsets('dog')"
   ]
  },
  {
   "cell_type": "code",
   "execution_count": null,
   "metadata": {
    "collapsed": true
   },
   "outputs": [],
   "source": []
  }
 ],
 "metadata": {
  "kernelspec": {
   "display_name": "Python 2",
   "language": "python",
   "name": "python2"
  },
  "language_info": {
   "codemirror_mode": {
    "name": "ipython",
    "version": 2
   },
   "file_extension": ".py",
   "mimetype": "text/x-python",
   "name": "python",
   "nbconvert_exporter": "python",
   "pygments_lexer": "ipython2",
   "version": "2.7.11"
  }
 },
 "nbformat": 4,
 "nbformat_minor": 0
}
